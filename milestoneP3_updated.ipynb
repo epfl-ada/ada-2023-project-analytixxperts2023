{
 "cells": [
  {
   "cell_type": "markdown",
   "id": "25093630-af18-45eb-b624-3bd7aed50445",
   "metadata": {},
   "source": [
    "# Setup"
   ]
  },
  {
   "cell_type": "code",
   "execution_count": 1,
   "id": "d6318a32-35ff-4acb-80a2-fe9997831970",
   "metadata": {
    "tags": []
   },
   "outputs": [],
   "source": [
    "import pandas as pd\n",
    "import matplotlib.pyplot as plt\n",
    "import numpy as np\n",
    "import networkx as nx\n",
    "import statsmodels.formula.api as smf\n",
    "import ast\n",
    "import seaborn as sns\n",
    "from src.helpers import *\n",
    "pd.options.mode.chained_assignment = None  "
   ]
  },
  {
   "cell_type": "markdown",
   "id": "1eba0fb9-94f1-4aa6-b355-acbee688d348",
   "metadata": {},
   "source": [
    "First, let's upload the relevant datasets which were generated from [Milestone P2](milestoneP2)."
   ]
  },
  {
   "cell_type": "code",
   "execution_count": 2,
   "id": "1e7e7497-3a75-407d-86b2-8b3a90d5b287",
   "metadata": {
    "tags": []
   },
   "outputs": [],
   "source": [
    "# Load datasets\n",
    "tmdb_extra_info = pd.read_csv('./generated/TMDB_extra_info.csv')\n",
    "movie_char = pd.read_csv('./generated/movie_characters.csv')\n",
    "movie_char_eth = pd.read_csv('./generated/movie_characters_ethnicity.csv')"
   ]
  },
  {
   "cell_type": "code",
   "execution_count": 3,
   "id": "78142282-1847-4ba0-8cb9-177ec7f5403b",
   "metadata": {
    "tags": []
   },
   "outputs": [],
   "source": [
    "movie_char['movie_genres'] = movie_char['movie_genres'].apply(lambda s: ast.literal_eval(str(s)))\n",
    "movie_char['movie_genres'] = movie_char['movie_genres'].apply(lambda d: list(d.values()))\n",
    "\n",
    "movie_char_eth['movie_genres'] = movie_char_eth['movie_genres'].apply(lambda s: ast.literal_eval(str(s)))\n",
    "movie_char_eth['movie_genres'] = movie_char_eth['movie_genres'].apply(lambda d: list(d.values()))"
   ]
  },
  {
   "cell_type": "markdown",
   "id": "d1c62d0d-f21b-4ee0-9929-1cfbe9192763",
   "metadata": {},
   "source": [
    "# Preprocessing"
   ]
  },
  {
   "cell_type": "markdown",
   "id": "d5f52f81-9bf5-45cb-b370-dbe75fb52f18",
   "metadata": {
    "tags": []
   },
   "source": [
    "### Simpson Diversity Index"
   ]
  },
  {
   "cell_type": "markdown",
   "id": "077e680e-34bc-407c-be56-62f306880c21",
   "metadata": {},
   "source": [
    "The key variables in our project are \"diversity\" and \"performance\" of the cast. We have chosen to measure these as follows:\n",
    "\n",
    "- Casting diversity: Ethnicity and Gender of actors\n",
    "- Film performance: Box office earnings and Ratings"
   ]
  },
  {
   "cell_type": "markdown",
   "id": "934f1ffb-3af9-4412-a144-19c5ed342a03",
   "metadata": {},
   "source": [
    "We need a quantitative tool to measure the diversity of a population. For this purpose, we've selected the **Simpson Diversity Index**, defined as follows:\n",
    "\n",
    "$D = 1 - \\sum_{k=1}^{K} \\left(\\frac{n_k}{N}\\right)^2$\n",
    "\n",
    "Here, **N** represents the total number of units in the population, and **K** denotes the different types within it. For each type **k**, **$n_k$** is the number of units. The value of **D** varies between 0 and 1, with a lower value indicating less diversity in the population.\n",
    "\n",
    "The index is calculated by assessing the likelihood that two randomly chosen individuals from a sample will not belong to the same species. A key strength of this index is that it considers not just the variety of species present but also the relative abundance of each species. \n",
    "\n",
    "However, in cases like gender with only two types, the Simpson Diversity Index will never reach 1. This is because in a two-type system, the index reaches its maximum value of 0.5 when the representation of both types is exactly equal. We can apply a scaling factor to adjust the values to fill the entire $[0, 1]$ range. However, this won't affect the overall analysis as the distribution remains the same.\n",
    "\n",
    "Regarding the ethnicity diversity, we can consider the following scenarios:\n",
    "\n",
    "- **Movie 1**: 20% representation for each of 5 ethnicities.\n",
    "- **Movie 2**: 99% representation of one ethnicity, with 100 different ethnicities comprising the remaining 1%.\n",
    "\n",
    "We find that **$D_1 = 0.8$** is significantly greater than **$D_2 = 0.02$**. This result is coherent as Movie 1 appears to have a more diverse cast, even though Movie 2 includes a greater number of ethnicities."
   ]
  },
  {
   "cell_type": "markdown",
   "id": "e7dc3fb3-bd89-436c-9d32-feda3a2ada0e",
   "metadata": {},
   "source": [
    "Now, let's define the functions that calculate gender and ethnicity diversity for a given set of movies. These functions will operate on a dataframe, where each movie is associated with its characters. "
   ]
  },
  {
   "cell_type": "code",
   "execution_count": 4,
   "id": "dd145cc4-9448-4dd7-99ec-49501a335866",
   "metadata": {
    "tags": []
   },
   "outputs": [],
   "source": [
    "def calculate_diversity(df, column_name, new_column_name):\n",
    "    \"\"\"\n",
    "    Calculate the diversity index based on the specified column in the dataframe.\n",
    "\n",
    "    Args:\n",
    "    df (DataFrame): DataFrame containing movie and actor information.\n",
    "    column_name (str): Name of the column to calculate diversity for.\n",
    "    new_column_name (str): Name for the new column to store the diversity index.\n",
    "\n",
    "    Returns:\n",
    "    DataFrame: The original DataFrame augmented with the diversity index and actor count.\n",
    "    \"\"\"\n",
    "    # Filter out rows where the specified column is NaN\n",
    "    filtered_data = df.dropna(subset=[column_name])\n",
    "\n",
    "    # Group by movie_freebase_id and count each category in the specified column\n",
    "    counts = filtered_data.groupby('movie_freebase_id')[column_name].value_counts().unstack(fill_value=0)\n",
    "\n",
    "    # Calculate the total number of actors for each movie\n",
    "    total_actors = filtered_data.groupby('movie_freebase_id')[column_name].count()\n",
    "\n",
    "    # Calculate the Simpson Diversity Index\n",
    "    total_counts = counts.sum(axis=1)\n",
    "    squared_proportions = (counts.divide(total_counts, axis=0) ** 2).sum(axis=1)\n",
    "    diversity_index = 1 - squared_proportions\n",
    "\n",
    "    # Create a DataFrame for the calculated values\n",
    "    diversity_data = pd.DataFrame({\n",
    "        new_column_name: diversity_index,\n",
    "        'actors_count': total_actors\n",
    "    })\n",
    "\n",
    "    # Merge the calculated values back with the original DataFrame\n",
    "    result = df.merge(diversity_data, on='movie_freebase_id', how='inner')\n",
    "\n",
    "    return result"
   ]
  },
  {
   "cell_type": "markdown",
   "id": "1c2d6811-f522-4474-878f-b33facd2337d",
   "metadata": {
    "tags": []
   },
   "source": [
    "### Gender diversity preprocessing"
   ]
  },
  {
   "cell_type": "code",
   "execution_count": 5,
   "id": "e8396815-bcaa-4b5a-9b68-9d15e9ea0460",
   "metadata": {
    "tags": []
   },
   "outputs": [
    {
     "data": {
      "text/html": [
       "<div>\n",
       "<style scoped>\n",
       "    .dataframe tbody tr th:only-of-type {\n",
       "        vertical-align: middle;\n",
       "    }\n",
       "\n",
       "    .dataframe tbody tr th {\n",
       "        vertical-align: top;\n",
       "    }\n",
       "\n",
       "    .dataframe thead th {\n",
       "        text-align: right;\n",
       "    }\n",
       "</style>\n",
       "<table border=\"1\" class=\"dataframe\">\n",
       "  <thead>\n",
       "    <tr style=\"text-align: right;\">\n",
       "      <th></th>\n",
       "      <th>movie_wikipedia_id</th>\n",
       "      <th>movie_freebase_id</th>\n",
       "      <th>movie_name</th>\n",
       "      <th>movie_release_year</th>\n",
       "      <th>movie_languages_count</th>\n",
       "      <th>movie_box_office_revenue</th>\n",
       "      <th>character_freebase_id</th>\n",
       "      <th>actor_freebase_id</th>\n",
       "      <th>character_actor_freebase_map_id</th>\n",
       "      <th>character_name</th>\n",
       "      <th>actor_name</th>\n",
       "      <th>actor_gender</th>\n",
       "      <th>actor_age_at_movie_release</th>\n",
       "      <th>movie_genres</th>\n",
       "    </tr>\n",
       "  </thead>\n",
       "  <tbody>\n",
       "    <tr>\n",
       "      <th>0</th>\n",
       "      <td>975900</td>\n",
       "      <td>/m/03vyhn</td>\n",
       "      <td>Ghosts of Mars</td>\n",
       "      <td>2001.0</td>\n",
       "      <td>22</td>\n",
       "      <td>14010832.0</td>\n",
       "      <td>/m/0bgcj3x</td>\n",
       "      <td>/m/03wcfv7</td>\n",
       "      <td>/m/0bgchxw</td>\n",
       "      <td>Akooshay</td>\n",
       "      <td>Wanda De Jesus</td>\n",
       "      <td>F</td>\n",
       "      <td>42.0</td>\n",
       "      <td>[Thriller, Science Fiction, Horror, Adventure,...</td>\n",
       "    </tr>\n",
       "    <tr>\n",
       "      <th>1</th>\n",
       "      <td>975900</td>\n",
       "      <td>/m/03vyhn</td>\n",
       "      <td>Ghosts of Mars</td>\n",
       "      <td>2001.0</td>\n",
       "      <td>22</td>\n",
       "      <td>14010832.0</td>\n",
       "      <td>/m/0bgchn4</td>\n",
       "      <td>/m/0346l4</td>\n",
       "      <td>/m/0jys3m</td>\n",
       "      <td>Lieutenant Melanie Ballard</td>\n",
       "      <td>Natasha Henstridge</td>\n",
       "      <td>F</td>\n",
       "      <td>27.0</td>\n",
       "      <td>[Thriller, Science Fiction, Horror, Adventure,...</td>\n",
       "    </tr>\n",
       "    <tr>\n",
       "      <th>2</th>\n",
       "      <td>975900</td>\n",
       "      <td>/m/03vyhn</td>\n",
       "      <td>Ghosts of Mars</td>\n",
       "      <td>2001.0</td>\n",
       "      <td>22</td>\n",
       "      <td>14010832.0</td>\n",
       "      <td>/m/0bgchn_</td>\n",
       "      <td>/m/01vw26l</td>\n",
       "      <td>/m/0jys3g</td>\n",
       "      <td>Desolation Williams</td>\n",
       "      <td>Ice Cube</td>\n",
       "      <td>M</td>\n",
       "      <td>32.0</td>\n",
       "      <td>[Thriller, Science Fiction, Horror, Adventure,...</td>\n",
       "    </tr>\n",
       "    <tr>\n",
       "      <th>3</th>\n",
       "      <td>975900</td>\n",
       "      <td>/m/03vyhn</td>\n",
       "      <td>Ghosts of Mars</td>\n",
       "      <td>2001.0</td>\n",
       "      <td>22</td>\n",
       "      <td>14010832.0</td>\n",
       "      <td>/m/0bgchnq</td>\n",
       "      <td>/m/034hyc</td>\n",
       "      <td>/m/02vchl6</td>\n",
       "      <td>Sgt Jericho Butler</td>\n",
       "      <td>Jason Statham</td>\n",
       "      <td>M</td>\n",
       "      <td>33.0</td>\n",
       "      <td>[Thriller, Science Fiction, Horror, Adventure,...</td>\n",
       "    </tr>\n",
       "    <tr>\n",
       "      <th>4</th>\n",
       "      <td>975900</td>\n",
       "      <td>/m/03vyhn</td>\n",
       "      <td>Ghosts of Mars</td>\n",
       "      <td>2001.0</td>\n",
       "      <td>22</td>\n",
       "      <td>14010832.0</td>\n",
       "      <td>/m/0bgchp9</td>\n",
       "      <td>/m/01y9xg</td>\n",
       "      <td>/m/02vbb3r</td>\n",
       "      <td>Bashira Kincaid</td>\n",
       "      <td>Clea DuVall</td>\n",
       "      <td>F</td>\n",
       "      <td>23.0</td>\n",
       "      <td>[Thriller, Science Fiction, Horror, Adventure,...</td>\n",
       "    </tr>\n",
       "  </tbody>\n",
       "</table>\n",
       "</div>"
      ],
      "text/plain": [
       "   movie_wikipedia_id movie_freebase_id      movie_name  movie_release_year  \\\n",
       "0              975900         /m/03vyhn  Ghosts of Mars              2001.0   \n",
       "1              975900         /m/03vyhn  Ghosts of Mars              2001.0   \n",
       "2              975900         /m/03vyhn  Ghosts of Mars              2001.0   \n",
       "3              975900         /m/03vyhn  Ghosts of Mars              2001.0   \n",
       "4              975900         /m/03vyhn  Ghosts of Mars              2001.0   \n",
       "\n",
       "   movie_languages_count  movie_box_office_revenue character_freebase_id  \\\n",
       "0                     22                14010832.0            /m/0bgcj3x   \n",
       "1                     22                14010832.0            /m/0bgchn4   \n",
       "2                     22                14010832.0            /m/0bgchn_   \n",
       "3                     22                14010832.0            /m/0bgchnq   \n",
       "4                     22                14010832.0            /m/0bgchp9   \n",
       "\n",
       "  actor_freebase_id character_actor_freebase_map_id  \\\n",
       "0        /m/03wcfv7                      /m/0bgchxw   \n",
       "1         /m/0346l4                       /m/0jys3m   \n",
       "2        /m/01vw26l                       /m/0jys3g   \n",
       "3         /m/034hyc                      /m/02vchl6   \n",
       "4         /m/01y9xg                      /m/02vbb3r   \n",
       "\n",
       "               character_name          actor_name actor_gender  \\\n",
       "0                    Akooshay      Wanda De Jesus            F   \n",
       "1  Lieutenant Melanie Ballard  Natasha Henstridge            F   \n",
       "2         Desolation Williams            Ice Cube            M   \n",
       "3          Sgt Jericho Butler       Jason Statham            M   \n",
       "4             Bashira Kincaid         Clea DuVall            F   \n",
       "\n",
       "   actor_age_at_movie_release  \\\n",
       "0                        42.0   \n",
       "1                        27.0   \n",
       "2                        32.0   \n",
       "3                        33.0   \n",
       "4                        23.0   \n",
       "\n",
       "                                        movie_genres  \n",
       "0  [Thriller, Science Fiction, Horror, Adventure,...  \n",
       "1  [Thriller, Science Fiction, Horror, Adventure,...  \n",
       "2  [Thriller, Science Fiction, Horror, Adventure,...  \n",
       "3  [Thriller, Science Fiction, Horror, Adventure,...  \n",
       "4  [Thriller, Science Fiction, Horror, Adventure,...  "
      ]
     },
     "execution_count": 5,
     "metadata": {},
     "output_type": "execute_result"
    }
   ],
   "source": [
    "movie_char.head()"
   ]
  },
  {
   "cell_type": "code",
   "execution_count": 6,
   "id": "bf603f47-ca27-426a-9319-746abb44c3e1",
   "metadata": {
    "tags": []
   },
   "outputs": [
    {
     "name": "stdout",
     "output_type": "stream",
     "text": [
      "Shape of new the dataframe: (54148, 16)\n"
     ]
    }
   ],
   "source": [
    "# Calculate gender diversity and remove duplicates based on movie ID\n",
    "gender_diversities_df = calculate_diversity(movie_char, 'actor_gender', 'gender_diversity').drop_duplicates(subset='movie_freebase_id')\n",
    "\n",
    "# Filter out movies with missing actors or genders and print the resulting dataframe shape\n",
    "gender_diversities_df = gender_diversities_df[gender_diversities_df['actors_count'] > 1]\n",
    "print(f\"Shape of new the dataframe: {gender_diversities_df.shape}\")"
   ]
  },
  {
   "cell_type": "code",
   "execution_count": 7,
   "id": "802645f6-7428-444f-b4d8-3cd656ff3dc5",
   "metadata": {
    "tags": []
   },
   "outputs": [
    {
     "name": "stdout",
     "output_type": "stream",
     "text": [
      "Shape of the new dataframe: (30672, 10)\n"
     ]
    }
   ],
   "source": [
    "# Merge with additional ratings info and select relevant columns\n",
    "relevant_columns = ['movie_freebase_id', 'movie_name', 'movie_release_year', \n",
    "                    'movie_languages_count', 'movie_genres', 'gender_diversity', \n",
    "                    'actors_count', 'rating_average', 'rating_count', \n",
    "                    'movie_box_office_revenue']\n",
    "\n",
    "gender_merged_df = gender_diversities_df.merge(tmdb_extra_info, on='movie_freebase_id', how='inner')[relevant_columns]\n",
    "\n",
    "print(f\"Shape of the new dataframe: {gender_merged_df.shape}\")"
   ]
  },
  {
   "cell_type": "markdown",
   "id": "a6518f11-6eb3-4690-aea6-8cfa971a4637",
   "metadata": {},
   "source": [
    "Now, it's necessary to remove outliers in box office earnings for the following reasons :\n",
    "\n",
    "- Major blockbusters, which generate significantly higher revenue than other movies, may not adhere to standard cinematic norms and could skew the analysis.\n",
    "- Films with exceptionally high earnings should also be excluded to prevent bias in the analysis.\n",
    "- To ensure the data is normalized effectively."
   ]
  },
  {
   "cell_type": "code",
   "execution_count": 8,
   "id": "a068d254-1c35-484f-9d97-7b4179e77996",
   "metadata": {
    "tags": []
   },
   "outputs": [
    {
     "data": {
      "image/png": "[encoded data removed]",
      "text/plain": [
       "<Figure size 1200x400 with 2 Axes>"
      ]
     },
     "metadata": {},
     "output_type": "display_data"
    },
    {
     "name": "stdout",
     "output_type": "stream",
     "text": [
      "Shape of the old dataframe with box office outliers: (30672, 10)\n",
      "Shape of the new dataframe without box office outliers: (29887, 10)\n"
     ]
    }
   ],
   "source": [
    "gender_merged_without_outliers_df = remove_outliers(gender_merged_df, \"movie_box_office_revenue\")\n",
    "\n",
    "# Plotting the histograms in one figure\n",
    "fig, axs = plt.subplots(1, 2, figsize=(12, 4))\n",
    "\n",
    "axs[0].hist(gender_merged_df['movie_box_office_revenue'], bins=100, color='blue', edgecolor='black', log=True)\n",
    "axs[0].set_title('Histogram of Box Office Revenue (with outliers)')\n",
    "axs[0].set_xlabel('Box Office Revenue')\n",
    "axs[0].set_ylabel('Frequency')\n",
    "axs[0].grid(True)\n",
    "\n",
    "axs[1].hist(gender_merged_without_outliers_df['movie_box_office_revenue'], bins=100, color='blue', edgecolor='black', log=True)\n",
    "axs[1].set_title('Histogram of Box Office Revenue (outliers removed)')\n",
    "axs[1].set_xlabel('Box Office Revenue')\n",
    "axs[1].grid(True)\n",
    "\n",
    "plt.tight_layout()\n",
    "plt.show()\n",
    "\n",
    "print(f\"Shape of the old dataframe with box office outliers: {gender_merged_df.shape}\")\n",
    "print(f\"Shape of the new dataframe without box office outliers: {gender_merged_without_outliers_df.shape}\")"
   ]
  },
  {
   "cell_type": "markdown",
   "id": "e62c3ae3-1fc2-47c3-96c1-4a447b17868d",
   "metadata": {},
   "source": [
    "Now let's compare the distributions resulting from several normalization methods: Min-Max scaling and Z-score normalization."
   ]
  },
  {
   "cell_type": "code",
   "execution_count": 9,
   "id": "84305677-aa92-4d44-a567-9ebcc9d4ea6c",
   "metadata": {
    "tags": []
   },
   "outputs": [
    {
     "data": {
      "image/png": "[encoded data removed]",
      "text/plain": [
       "<Figure size 1000x500 with 2 Axes>"
      ]
     },
     "metadata": {},
     "output_type": "display_data"
    }
   ],
   "source": [
    "# Normalizing using Min-Max Scaling\n",
    "normalized_minmax = (gender_merged_without_outliers_df['movie_box_office_revenue'] - gender_merged_without_outliers_df['movie_box_office_revenue'].min()) / (gender_merged_without_outliers_df['movie_box_office_revenue'].max() - gender_merged_without_outliers_df['movie_box_office_revenue'].min())\n",
    "\n",
    "# Normalizing using Z-Score Normalization\n",
    "normalized_zscore = (gender_merged_without_outliers_df['movie_box_office_revenue'] - gender_merged_without_outliers_df['movie_box_office_revenue'].mean()) / gender_merged_without_outliers_df['movie_box_office_revenue'].std()\n",
    "\n",
    "# Plotting histograms for both normalization techniques\n",
    "plt.figure(figsize=(10, 5))\n",
    "\n",
    "plt.subplot(1, 2, 1)\n",
    "plt.hist(normalized_minmax, bins=10, color='green', edgecolor='black')\n",
    "plt.title('Min-Max Normalization')\n",
    "plt.xlabel('Normalized Box Office Revenue')\n",
    "plt.ylabel('Frequency')\n",
    "\n",
    "plt.subplot(1, 2, 2)\n",
    "plt.hist(normalized_zscore, bins=10, color='red', edgecolor='black')\n",
    "plt.title('Z-Score Normalization')\n",
    "plt.xlabel('Normalized Box Office Revenue')\n",
    "plt.ylabel('Frequency')\n",
    "\n",
    "plt.tight_layout()\n",
    "plt.show()"
   ]
  },
  {
   "cell_type": "markdown",
   "id": "749c965a-ce87-45d2-ab34-e8422486d246",
   "metadata": {},
   "source": [
    "The distributions appear quite similar. Let's opt for the Z-score normalization, as it is more commonly used."
   ]
  },
  {
   "cell_type": "code",
   "execution_count": 10,
   "id": "a90d7710-83df-414a-b62e-c88774feb46b",
   "metadata": {
    "tags": []
   },
   "outputs": [
    {
     "data": {
      "text/html": [
       "<div>\n",
       "<style scoped>\n",
       "    .dataframe tbody tr th:only-of-type {\n",
       "        vertical-align: middle;\n",
       "    }\n",
       "\n",
       "    .dataframe tbody tr th {\n",
       "        vertical-align: top;\n",
       "    }\n",
       "\n",
       "    .dataframe thead th {\n",
       "        text-align: right;\n",
       "    }\n",
       "</style>\n",
       "<table border=\"1\" class=\"dataframe\">\n",
       "  <thead>\n",
       "    <tr style=\"text-align: right;\">\n",
       "      <th></th>\n",
       "      <th>movie_freebase_id</th>\n",
       "      <th>movie_name</th>\n",
       "      <th>movie_release_year</th>\n",
       "      <th>movie_languages_count</th>\n",
       "      <th>movie_genres</th>\n",
       "      <th>gender_diversity</th>\n",
       "      <th>actors_count</th>\n",
       "      <th>rating_average</th>\n",
       "      <th>rating_count</th>\n",
       "      <th>movie_box_office_revenue</th>\n",
       "    </tr>\n",
       "  </thead>\n",
       "  <tbody>\n",
       "    <tr>\n",
       "      <th>0</th>\n",
       "      <td>/m/03vyhn</td>\n",
       "      <td>Ghosts of Mars</td>\n",
       "      <td>2001.0</td>\n",
       "      <td>22</td>\n",
       "      <td>[Thriller, Science Fiction, Horror, Adventure,...</td>\n",
       "      <td>0.456747</td>\n",
       "      <td>17</td>\n",
       "      <td>5.127</td>\n",
       "      <td>990</td>\n",
       "      <td>-0.186806</td>\n",
       "    </tr>\n",
       "    <tr>\n",
       "      <th>1</th>\n",
       "      <td>/m/0crgdbh</td>\n",
       "      <td>Brun bitter</td>\n",
       "      <td>1988.0</td>\n",
       "      <td>23</td>\n",
       "      <td>[Crime Fiction, Drama]</td>\n",
       "      <td>0.500000</td>\n",
       "      <td>4</td>\n",
       "      <td>0.000</td>\n",
       "      <td>0</td>\n",
       "      <td>NaN</td>\n",
       "    </tr>\n",
       "    <tr>\n",
       "      <th>2</th>\n",
       "      <td>/m/0285_cd</td>\n",
       "      <td>White Of The Eye</td>\n",
       "      <td>1987.0</td>\n",
       "      <td>22</td>\n",
       "      <td>[Thriller, Erotic thriller, Psychological thri...</td>\n",
       "      <td>0.500000</td>\n",
       "      <td>2</td>\n",
       "      <td>5.700</td>\n",
       "      <td>64</td>\n",
       "      <td>NaN</td>\n",
       "    </tr>\n",
       "    <tr>\n",
       "      <th>3</th>\n",
       "      <td>/m/01mrr1</td>\n",
       "      <td>A Woman in Flames</td>\n",
       "      <td>1983.0</td>\n",
       "      <td>20</td>\n",
       "      <td>[Drama]</td>\n",
       "      <td>0.444444</td>\n",
       "      <td>3</td>\n",
       "      <td>5.300</td>\n",
       "      <td>13</td>\n",
       "      <td>NaN</td>\n",
       "    </tr>\n",
       "    <tr>\n",
       "      <th>4</th>\n",
       "      <td>/m/04jcqvw</td>\n",
       "      <td>The Sorcerer's Apprentice</td>\n",
       "      <td>2002.0</td>\n",
       "      <td>22</td>\n",
       "      <td>[Family Film, Fantasy, Adventure, World cinema]</td>\n",
       "      <td>0.320000</td>\n",
       "      <td>5</td>\n",
       "      <td>4.600</td>\n",
       "      <td>11</td>\n",
       "      <td>NaN</td>\n",
       "    </tr>\n",
       "  </tbody>\n",
       "</table>\n",
       "</div>"
      ],
      "text/plain": [
       "  movie_freebase_id                 movie_name  movie_release_year  \\\n",
       "0         /m/03vyhn             Ghosts of Mars              2001.0   \n",
       "1        /m/0crgdbh                Brun bitter              1988.0   \n",
       "2        /m/0285_cd           White Of The Eye              1987.0   \n",
       "3         /m/01mrr1          A Woman in Flames              1983.0   \n",
       "4        /m/04jcqvw  The Sorcerer's Apprentice              2002.0   \n",
       "\n",
       "   movie_languages_count                                       movie_genres  \\\n",
       "0                     22  [Thriller, Science Fiction, Horror, Adventure,...   \n",
       "1                     23                             [Crime Fiction, Drama]   \n",
       "2                     22  [Thriller, Erotic thriller, Psychological thri...   \n",
       "3                     20                                            [Drama]   \n",
       "4                     22    [Family Film, Fantasy, Adventure, World cinema]   \n",
       "\n",
       "   gender_diversity  actors_count  rating_average  rating_count  \\\n",
       "0          0.456747            17           5.127           990   \n",
       "1          0.500000             4           0.000             0   \n",
       "2          0.500000             2           5.700            64   \n",
       "3          0.444444             3           5.300            13   \n",
       "4          0.320000             5           4.600            11   \n",
       "\n",
       "   movie_box_office_revenue  \n",
       "0                 -0.186806  \n",
       "1                       NaN  \n",
       "2                       NaN  \n",
       "3                       NaN  \n",
       "4                       NaN  "
      ]
     },
     "execution_count": 10,
     "metadata": {},
     "output_type": "execute_result"
    }
   ],
   "source": [
    "# Normalize the columns using Z-score normalization\n",
    "gender_normalized_df = normalize_columns_zscore(gender_merged_without_outliers_df.copy(), [\"movie_box_office_revenue\"])\n",
    "\n",
    "gender_normalized_df.head()"
   ]
  },
  {
   "cell_type": "markdown",
   "id": "1beb0c39-2e7b-4597-8d76-f10d12e98c4e",
   "metadata": {},
   "source": [
    "Finally, let's create a histogram to visualize the distribution of the gender diversity."
   ]
  },
  {
   "cell_type": "code",
   "execution_count": 11,
   "id": "4163e9e3-e39e-405b-83ee-4bc5927af55c",
   "metadata": {
    "tags": []
   },
   "outputs": [
    {
     "data": {
      "image/png": "[encoded data removed]",
      "text/plain": [
       "<Figure size 1000x600 with 1 Axes>"
      ]
     },
     "metadata": {},
     "output_type": "display_data"
    }
   ],
   "source": [
    "# Plotting the histogram\n",
    "plt.figure(figsize=(10, 6))\n",
    "plt.hist(gender_normalized_df['gender_diversity'], bins=10, color='purple', edgecolor='black')\n",
    "plt.title('Histogram of Gender Diversity')\n",
    "plt.xlabel('Gender Diversity')\n",
    "plt.ylabel('Frequency')\n",
    "plt.grid(True)\n",
    "plt.show()"
   ]
  },
  {
   "cell_type": "markdown",
   "id": "5a4bdf16-2971-488a-ade2-785f1bcf44cd",
   "metadata": {},
   "source": [
    "The distribution appears appropriate: \n",
    "- Many movies feature only male actors, which accounts for the noticeable instances of a 0 diversity score.\n",
    "- The distribution is not symmetrical. While there are numerous movies with a predominance of male actors, the same is not true for female actors."
   ]
  },
  {
   "cell_type": "markdown",
   "id": "57c37264-5002-4ebe-99c4-643092530ddb",
   "metadata": {
    "tags": []
   },
   "source": [
    "### Ethnicity diversity preprocessing"
   ]
  },
  {
   "cell_type": "code",
   "execution_count": 12,
   "id": "a2f88fbc-02d7-4453-aa6e-39d0cde75531",
   "metadata": {
    "tags": []
   },
   "outputs": [
    {
     "data": {
      "text/html": [
       "<div>\n",
       "<style scoped>\n",
       "    .dataframe tbody tr th:only-of-type {\n",
       "        vertical-align: middle;\n",
       "    }\n",
       "\n",
       "    .dataframe tbody tr th {\n",
       "        vertical-align: top;\n",
       "    }\n",
       "\n",
       "    .dataframe thead th {\n",
       "        text-align: right;\n",
       "    }\n",
       "</style>\n",
       "<table border=\"1\" class=\"dataframe\">\n",
       "  <thead>\n",
       "    <tr style=\"text-align: right;\">\n",
       "      <th></th>\n",
       "      <th>movie_wikipedia_id</th>\n",
       "      <th>movie_freebase_id</th>\n",
       "      <th>movie_name</th>\n",
       "      <th>movie_release_year</th>\n",
       "      <th>movie_languages_count</th>\n",
       "      <th>movie_box_office_revenue</th>\n",
       "      <th>character_freebase_id</th>\n",
       "      <th>actor_freebase_id</th>\n",
       "      <th>character_actor_freebase_map_id</th>\n",
       "      <th>character_name</th>\n",
       "      <th>actor_name</th>\n",
       "      <th>actor_gender</th>\n",
       "      <th>actor_age_at_movie_release</th>\n",
       "      <th>movie_genres</th>\n",
       "      <th>actor_ethnicity</th>\n",
       "    </tr>\n",
       "  </thead>\n",
       "  <tbody>\n",
       "    <tr>\n",
       "      <th>0</th>\n",
       "      <td>975900</td>\n",
       "      <td>/m/03vyhn</td>\n",
       "      <td>Ghosts of Mars</td>\n",
       "      <td>2001.0</td>\n",
       "      <td>22</td>\n",
       "      <td>14010832.0</td>\n",
       "      <td>/m/0bgchn_</td>\n",
       "      <td>/m/01vw26l</td>\n",
       "      <td>/m/0jys3g</td>\n",
       "      <td>Desolation Williams</td>\n",
       "      <td>Ice Cube</td>\n",
       "      <td>M</td>\n",
       "      <td>32.0</td>\n",
       "      <td>[Thriller, Science Fiction, Horror, Adventure,...</td>\n",
       "      <td>African Americans</td>\n",
       "    </tr>\n",
       "    <tr>\n",
       "      <th>1</th>\n",
       "      <td>975900</td>\n",
       "      <td>/m/03vyhn</td>\n",
       "      <td>Ghosts of Mars</td>\n",
       "      <td>2001.0</td>\n",
       "      <td>22</td>\n",
       "      <td>14010832.0</td>\n",
       "      <td>/m/0bgchnd</td>\n",
       "      <td>/m/0418ft</td>\n",
       "      <td>/m/02vdcfp</td>\n",
       "      <td>Commander Helena Braddock</td>\n",
       "      <td>Pam Grier</td>\n",
       "      <td>F</td>\n",
       "      <td>52.0</td>\n",
       "      <td>[Thriller, Science Fiction, Horror, Adventure,...</td>\n",
       "      <td>African Americans</td>\n",
       "    </tr>\n",
       "    <tr>\n",
       "      <th>2</th>\n",
       "      <td>3196793</td>\n",
       "      <td>/m/08yl5d</td>\n",
       "      <td>Getting Away with Murder: The JonBenét Ramsey ...</td>\n",
       "      <td>2000.0</td>\n",
       "      <td>22</td>\n",
       "      <td>NaN</td>\n",
       "      <td>NaN</td>\n",
       "      <td>/m/01lntp</td>\n",
       "      <td>/m/0lr37dy</td>\n",
       "      <td>NaN</td>\n",
       "      <td>Albert Hall</td>\n",
       "      <td>M</td>\n",
       "      <td>62.0</td>\n",
       "      <td>[Mystery, Biographical film, Drama, Crime Drama]</td>\n",
       "      <td>African Americans</td>\n",
       "    </tr>\n",
       "    <tr>\n",
       "      <th>3</th>\n",
       "      <td>156558</td>\n",
       "      <td>/m/014k4y</td>\n",
       "      <td>Baby Boy</td>\n",
       "      <td>2001.0</td>\n",
       "      <td>22</td>\n",
       "      <td>29381649.0</td>\n",
       "      <td>/m/03jnxj_</td>\n",
       "      <td>/m/0blbxk</td>\n",
       "      <td>/m/0jtx5t</td>\n",
       "      <td>Yvette</td>\n",
       "      <td>Taraji P. Henson</td>\n",
       "      <td>F</td>\n",
       "      <td>30.0</td>\n",
       "      <td>[Crime Fiction, Drama, Coming of age]</td>\n",
       "      <td>African Americans</td>\n",
       "    </tr>\n",
       "    <tr>\n",
       "      <th>4</th>\n",
       "      <td>156558</td>\n",
       "      <td>/m/014k4y</td>\n",
       "      <td>Baby Boy</td>\n",
       "      <td>2001.0</td>\n",
       "      <td>22</td>\n",
       "      <td>29381649.0</td>\n",
       "      <td>/m/03jnxf4</td>\n",
       "      <td>/m/01l1b90</td>\n",
       "      <td>/m/0jtx5h</td>\n",
       "      <td>Jody</td>\n",
       "      <td>Tyrese Gibson</td>\n",
       "      <td>M</td>\n",
       "      <td>22.0</td>\n",
       "      <td>[Crime Fiction, Drama, Coming of age]</td>\n",
       "      <td>African Americans</td>\n",
       "    </tr>\n",
       "  </tbody>\n",
       "</table>\n",
       "</div>"
      ],
      "text/plain": [
       "   movie_wikipedia_id movie_freebase_id  \\\n",
       "0              975900         /m/03vyhn   \n",
       "1              975900         /m/03vyhn   \n",
       "2             3196793         /m/08yl5d   \n",
       "3              156558         /m/014k4y   \n",
       "4              156558         /m/014k4y   \n",
       "\n",
       "                                          movie_name  movie_release_year  \\\n",
       "0                                     Ghosts of Mars              2001.0   \n",
       "1                                     Ghosts of Mars              2001.0   \n",
       "2  Getting Away with Murder: The JonBenét Ramsey ...              2000.0   \n",
       "3                                           Baby Boy              2001.0   \n",
       "4                                           Baby Boy              2001.0   \n",
       "\n",
       "   movie_languages_count  movie_box_office_revenue character_freebase_id  \\\n",
       "0                     22                14010832.0            /m/0bgchn_   \n",
       "1                     22                14010832.0            /m/0bgchnd   \n",
       "2                     22                       NaN                   NaN   \n",
       "3                     22                29381649.0            /m/03jnxj_   \n",
       "4                     22                29381649.0            /m/03jnxf4   \n",
       "\n",
       "  actor_freebase_id character_actor_freebase_map_id  \\\n",
       "0        /m/01vw26l                       /m/0jys3g   \n",
       "1         /m/0418ft                      /m/02vdcfp   \n",
       "2         /m/01lntp                      /m/0lr37dy   \n",
       "3         /m/0blbxk                       /m/0jtx5t   \n",
       "4        /m/01l1b90                       /m/0jtx5h   \n",
       "\n",
       "              character_name        actor_name actor_gender  \\\n",
       "0        Desolation Williams          Ice Cube            M   \n",
       "1  Commander Helena Braddock         Pam Grier            F   \n",
       "2                        NaN       Albert Hall            M   \n",
       "3                     Yvette  Taraji P. Henson            F   \n",
       "4                       Jody     Tyrese Gibson            M   \n",
       "\n",
       "   actor_age_at_movie_release  \\\n",
       "0                        32.0   \n",
       "1                        52.0   \n",
       "2                        62.0   \n",
       "3                        30.0   \n",
       "4                        22.0   \n",
       "\n",
       "                                        movie_genres    actor_ethnicity  \n",
       "0  [Thriller, Science Fiction, Horror, Adventure,...  African Americans  \n",
       "1  [Thriller, Science Fiction, Horror, Adventure,...  African Americans  \n",
       "2   [Mystery, Biographical film, Drama, Crime Drama]  African Americans  \n",
       "3              [Crime Fiction, Drama, Coming of age]  African Americans  \n",
       "4              [Crime Fiction, Drama, Coming of age]  African Americans  "
      ]
     },
     "execution_count": 12,
     "metadata": {},
     "output_type": "execute_result"
    }
   ],
   "source": [
    "movie_char_eth.head()"
   ]
  },
  {
   "cell_type": "code",
   "execution_count": 13,
   "id": "584ab87c-8c63-47e7-ba84-273a199688d7",
   "metadata": {
    "tags": []
   },
   "outputs": [
    {
     "name": "stdout",
     "output_type": "stream",
     "text": [
      "Shape of new the dataframe: (22322, 17)\n"
     ]
    }
   ],
   "source": [
    "# Calculate gender diversity and remove duplicates based on movie ID\n",
    "ethnicity_diversities_df = calculate_diversity(movie_char_eth, 'actor_ethnicity', 'ethnicity_diversity').drop_duplicates(subset='movie_freebase_id')\n",
    "\n",
    "# Filter out movies with missing actors and print the resulting dataframe shape\n",
    "ethnicity_diversities_df = ethnicity_diversities_df[ethnicity_diversities_df['actors_count'] > 1]\n",
    "print(f\"Shape of new the dataframe: {ethnicity_diversities_df.shape}\")"
   ]
  },
  {
   "cell_type": "code",
   "execution_count": 14,
   "id": "652bfa12-262e-4b8d-bddc-69beb8a93826",
   "metadata": {
    "tags": []
   },
   "outputs": [
    {
     "name": "stdout",
     "output_type": "stream",
     "text": [
      "Shape of the new dataframe: (12643, 10)\n"
     ]
    }
   ],
   "source": [
    "# Merge with additional ratings info and select relevant columns\n",
    "relevant_columns = ['movie_freebase_id', 'movie_name', 'movie_release_year', \n",
    "                    'movie_languages_count', 'movie_genres', 'ethnicity_diversity', \n",
    "                    'actors_count', 'rating_average', 'rating_count', \n",
    "                    'movie_box_office_revenue']\n",
    "\n",
    "ethnicity_merged_df = ethnicity_diversities_df.merge(tmdb_extra_info, on='movie_freebase_id', how='inner')[relevant_columns]\n",
    "\n",
    "print(f\"Shape of the new dataframe: {ethnicity_merged_df.shape}\")"
   ]
  },
  {
   "cell_type": "markdown",
   "id": "66b5157f-bfc0-4c88-8c26-bd27caa60ad1",
   "metadata": {
    "tags": []
   },
   "source": [
    "Again, we need to exclude box office outliers for the same reasons as with the gender diversity."
   ]
  },
  {
   "cell_type": "code",
   "execution_count": 15,
   "id": "89a7008f-1107-4007-b6e7-c7944bbcf959",
   "metadata": {
    "tags": []
   },
   "outputs": [
    {
     "data": {
      "image/png": "[encoded data removed]",
      "text/plain": [
       "<Figure size 1200x400 with 2 Axes>"
      ]
     },
     "metadata": {},
     "output_type": "display_data"
    },
    {
     "name": "stdout",
     "output_type": "stream",
     "text": [
      "Shape of the old dataframe with box office outliers: (12643, 10)\n",
      "Shape of the new dataframe without box office outliers: (12088, 10)\n"
     ]
    }
   ],
   "source": [
    "ethnicity_merged_without_outliers_df = remove_outliers(ethnicity_merged_df, \"movie_box_office_revenue\")\n",
    "\n",
    "# Plotting the histograms in one figure\n",
    "fig, axs = plt.subplots(1, 2, figsize=(12, 4))\n",
    "\n",
    "axs[0].hist(ethnicity_merged_df['movie_box_office_revenue'], bins=100, color='blue', edgecolor='black', log=True)\n",
    "axs[0].set_title('Histogram of Box Office Revenue (with outliers)')\n",
    "axs[0].set_xlabel('Box Office Revenue')\n",
    "axs[0].set_ylabel('Frequency')\n",
    "axs[0].grid(True)\n",
    "\n",
    "axs[1].hist(ethnicity_merged_without_outliers_df['movie_box_office_revenue'], bins=100, color='blue', edgecolor='black', log=True)\n",
    "axs[1].set_title('Histogram of Box Office Revenue (outliers removed)')\n",
    "axs[1].set_xlabel('Box Office Revenue')\n",
    "axs[1].grid(True)\n",
    "\n",
    "plt.tight_layout()\n",
    "plt.show()\n",
    "\n",
    "print(f\"Shape of the old dataframe with box office outliers: {ethnicity_merged_df.shape}\")\n",
    "print(f\"Shape of the new dataframe without box office outliers: {ethnicity_merged_without_outliers_df.shape}\")"
   ]
  },
  {
   "cell_type": "code",
   "execution_count": 16,
   "id": "8cf55c55-0b5a-4a20-9965-2b307079a219",
   "metadata": {
    "tags": []
   },
   "outputs": [
    {
     "data": {
      "text/html": [
       "<div>\n",
       "<style scoped>\n",
       "    .dataframe tbody tr th:only-of-type {\n",
       "        vertical-align: middle;\n",
       "    }\n",
       "\n",
       "    .dataframe tbody tr th {\n",
       "        vertical-align: top;\n",
       "    }\n",
       "\n",
       "    .dataframe thead th {\n",
       "        text-align: right;\n",
       "    }\n",
       "</style>\n",
       "<table border=\"1\" class=\"dataframe\">\n",
       "  <thead>\n",
       "    <tr style=\"text-align: right;\">\n",
       "      <th></th>\n",
       "      <th>movie_freebase_id</th>\n",
       "      <th>movie_name</th>\n",
       "      <th>movie_release_year</th>\n",
       "      <th>movie_languages_count</th>\n",
       "      <th>movie_genres</th>\n",
       "      <th>ethnicity_diversity</th>\n",
       "      <th>actors_count</th>\n",
       "      <th>rating_average</th>\n",
       "      <th>rating_count</th>\n",
       "      <th>movie_box_office_revenue</th>\n",
       "    </tr>\n",
       "  </thead>\n",
       "  <tbody>\n",
       "    <tr>\n",
       "      <th>0</th>\n",
       "      <td>/m/03vyhn</td>\n",
       "      <td>Ghosts of Mars</td>\n",
       "      <td>2001.0</td>\n",
       "      <td>22</td>\n",
       "      <td>[Thriller, Science Fiction, Horror, Adventure,...</td>\n",
       "      <td>0.444444</td>\n",
       "      <td>3</td>\n",
       "      <td>5.127</td>\n",
       "      <td>990</td>\n",
       "      <td>-0.403776</td>\n",
       "    </tr>\n",
       "    <tr>\n",
       "      <th>1</th>\n",
       "      <td>/m/0cws46</td>\n",
       "      <td>Kinjite: Forbidden Subjects</td>\n",
       "      <td>1989.0</td>\n",
       "      <td>22</td>\n",
       "      <td>[Crime Fiction, Action/Adventure, Action, Thri...</td>\n",
       "      <td>0.666667</td>\n",
       "      <td>3</td>\n",
       "      <td>5.400</td>\n",
       "      <td>69</td>\n",
       "      <td>-0.725625</td>\n",
       "    </tr>\n",
       "    <tr>\n",
       "      <th>2</th>\n",
       "      <td>/m/0dyy_v</td>\n",
       "      <td>Vixen!</td>\n",
       "      <td>1968.0</td>\n",
       "      <td>22</td>\n",
       "      <td>[Softcore Porn, Sexploitation]</td>\n",
       "      <td>0.500000</td>\n",
       "      <td>2</td>\n",
       "      <td>5.300</td>\n",
       "      <td>70</td>\n",
       "      <td>NaN</td>\n",
       "    </tr>\n",
       "    <tr>\n",
       "      <th>3</th>\n",
       "      <td>/m/02x4zpv</td>\n",
       "      <td>The Boston Strangler</td>\n",
       "      <td>1968.0</td>\n",
       "      <td>22</td>\n",
       "      <td>[Crime Fiction, Mystery, Thriller, Drama, Crim...</td>\n",
       "      <td>0.750000</td>\n",
       "      <td>4</td>\n",
       "      <td>6.810</td>\n",
       "      <td>197</td>\n",
       "      <td>-0.288329</td>\n",
       "    </tr>\n",
       "    <tr>\n",
       "      <th>4</th>\n",
       "      <td>/m/04j0jtp</td>\n",
       "      <td>Deadly Voyage</td>\n",
       "      <td>1996.0</td>\n",
       "      <td>22</td>\n",
       "      <td>[Thriller, Action Thrillers, Horror, Televisio...</td>\n",
       "      <td>0.750000</td>\n",
       "      <td>8</td>\n",
       "      <td>5.600</td>\n",
       "      <td>9</td>\n",
       "      <td>NaN</td>\n",
       "    </tr>\n",
       "  </tbody>\n",
       "</table>\n",
       "</div>"
      ],
      "text/plain": [
       "  movie_freebase_id                   movie_name  movie_release_year  \\\n",
       "0         /m/03vyhn               Ghosts of Mars              2001.0   \n",
       "1         /m/0cws46  Kinjite: Forbidden Subjects              1989.0   \n",
       "2         /m/0dyy_v                       Vixen!              1968.0   \n",
       "3        /m/02x4zpv         The Boston Strangler              1968.0   \n",
       "4        /m/04j0jtp                Deadly Voyage              1996.0   \n",
       "\n",
       "   movie_languages_count                                       movie_genres  \\\n",
       "0                     22  [Thriller, Science Fiction, Horror, Adventure,...   \n",
       "1                     22  [Crime Fiction, Action/Adventure, Action, Thri...   \n",
       "2                     22                     [Softcore Porn, Sexploitation]   \n",
       "3                     22  [Crime Fiction, Mystery, Thriller, Drama, Crim...   \n",
       "4                     22  [Thriller, Action Thrillers, Horror, Televisio...   \n",
       "\n",
       "   ethnicity_diversity  actors_count  rating_average  rating_count  \\\n",
       "0             0.444444             3           5.127           990   \n",
       "1             0.666667             3           5.400            69   \n",
       "2             0.500000             2           5.300            70   \n",
       "3             0.750000             4           6.810           197   \n",
       "4             0.750000             8           5.600             9   \n",
       "\n",
       "   movie_box_office_revenue  \n",
       "0                 -0.403776  \n",
       "1                 -0.725625  \n",
       "2                       NaN  \n",
       "3                 -0.288329  \n",
       "4                       NaN  "
      ]
     },
     "execution_count": 16,
     "metadata": {},
     "output_type": "execute_result"
    }
   ],
   "source": [
    "# Normalize the columns using Z-score normalization\n",
    "ethnicity_normalized_df = normalize_columns_zscore(ethnicity_merged_without_outliers_df.copy(), [\"movie_box_office_revenue\"])\n",
    "\n",
    "ethnicity_normalized_df.head()"
   ]
  },
  {
   "cell_type": "markdown",
   "id": "fb5ff2bd-d75a-49c9-b62d-72556b4214cd",
   "metadata": {},
   "source": [
    "Again, let's create a histogram to visualize the distribution of the ethnicity diversity."
   ]
  },
  {
   "cell_type": "code",
   "execution_count": 17,
   "id": "57056247-b776-4ad0-a94d-9d13c91bd131",
   "metadata": {
    "tags": []
   },
   "outputs": [
    {
     "data": {
      "image/png": "[encoded data removed]",
      "text/plain": [
       "<Figure size 1000x600 with 1 Axes>"
      ]
     },
     "metadata": {},
     "output_type": "display_data"
    }
   ],
   "source": [
    "# Plotting the histogram\n",
    "plt.figure(figsize=(10, 6))\n",
    "plt.hist(ethnicity_normalized_df['ethnicity_diversity'], bins=10, color='purple', edgecolor='black')\n",
    "plt.title('Histogram of Ethnicity Diversity')\n",
    "plt.xlabel('Ethnicity Diversity')\n",
    "plt.ylabel('Frequency')\n",
    "plt.grid(True)\n",
    "plt.show()"
   ]
  },
  {
   "cell_type": "markdown",
   "id": "e0651bc7-127c-4913-ad11-c658fe39f2ad",
   "metadata": {},
   "source": [
    "The distribution seems suitable:\n",
    "- A considerable number of local movies feature actors exclusively from the same country or ethnicity, which accounts for the noticeable instances of a 0 diversity score.\n",
    "- This distribution is derived using the Simpson diversity index, which considers two actors diverse if they do not have the exact same label. Given the dataset's extreme imbalance in terms of ethnicities, it's expected that the distribution won't be smooth. However, it's noteworthy that the frequency appears lower at the extremes and higher around the 0.5 mark."
   ]
  },
  {
   "cell_type": "markdown",
   "id": "c099c806-b93a-41ff-a0f9-e20ad22db58e",
   "metadata": {
    "tags": []
   },
   "source": [
    "### Save the dataframes"
   ]
  },
  {
   "cell_type": "code",
   "execution_count": 18,
   "id": "11d79863-8ccc-4dff-a201-2f4bd7bbe357",
   "metadata": {
    "tags": []
   },
   "outputs": [
    {
     "data": {
      "image/png": "[encoded data removed]",
      "text/plain": [
       "<Figure size 640x480 with 1 Axes>"
      ]
     },
     "metadata": {},
     "output_type": "display_data"
    },
    {
     "name": "stdout",
     "output_type": "stream",
     "text": [
      "Percentage of non null rating count 'rating_count': 93.01%\n"
     ]
    }
   ],
   "source": [
    "rating_count = gender_normalized_df[\"rating_count\"]\n",
    "\n",
    "# Plotting the rating count histogram with a logarithmic scale for the y-axis\n",
    "plt.hist(rating_count, bins=50, color='blue', alpha=0.7, log=True)\n",
    "plt.title('Distribution of Rating Count')\n",
    "plt.xlabel('Rating Count')\n",
    "plt.ylabel('Frequency (Log Scale)')\n",
    "plt.grid(True)\n",
    "plt.show()\n",
    "\n",
    "# Calculating the percentage of non null rating count\n",
    "total_count = len(gender_normalized_df)\n",
    "non_null_ratings_count = len(gender_normalized_df[gender_normalized_df[\"rating_count\"] > 0])\n",
    "non_null_ratings_percentage = (non_null_ratings_count / total_count) * 100\n",
    "\n",
    "print(f\"Percentage of non null rating count 'rating_count': {non_null_ratings_percentage:.2f}%\")"
   ]
  },
  {
   "cell_type": "markdown",
   "id": "b1e6da52-24bb-4f2d-b9b6-f22ec825d3b0",
   "metadata": {},
   "source": [
    "We observe that 7% of the movies do not have a rating. However, we will not exclude these from our dataset as they may still possess box office value. Since the ratings and box office figures will be analyzed separately, we will only remove these movies when necessary, in order to avoid data loss. Additionally, we might consider implementing a threshold for the rating count, thereby focusing only on averages of ratings that are deemed relevant."
   ]
  },
  {
   "cell_type": "code",
   "execution_count": 19,
   "id": "cf0c7c94-5ef0-4bff-a182-b2d1aacd3712",
   "metadata": {
    "tags": []
   },
   "outputs": [],
   "source": [
    "# Saving the dataframes as CSV files\n",
    "gender_normalized_df.to_csv('gender_diversity.csv', index=False)\n",
    "ethnicity_normalized_df.to_csv('ethnicity_diversity.csv', index=False)"
   ]
  },
  {
   "cell_type": "markdown",
   "id": "d6cb5988-c43a-47a1-8894-6f4e4456ed9b",
   "metadata": {
    "tags": []
   },
   "source": [
    "### Ethnicity clustering"
   ]
  },
  {
   "cell_type": "markdown",
   "id": "c9d52c9a-a561-454c-90f0-fb8b487fddcb",
   "metadata": {
    "tags": []
   },
   "source": [
    "We could consider applying clustering to the ethnicities to achieve a more general categorization."
   ]
  },
  {
   "cell_type": "code",
   "execution_count": 20,
   "id": "38a46f51-7bc4-4d67-931b-18e104d0a805",
   "metadata": {
    "tags": []
   },
   "outputs": [
    {
     "name": "stdout",
     "output_type": "stream",
     "text": [
      "The number of different ethnicities in the dataset is: 435\n",
      "The movie with the most actors from different ethnic backgrounds is \"Terror in the Aisles\" with 15 distinct ethnicities\n"
     ]
    }
   ],
   "source": [
    "# Let's calculate the number of different ethnicities\n",
    "unique_ethnicities_count = movie_char_eth['actor_ethnicity'].nunique()\n",
    "print(f\"The number of different ethnicities in the dataset is: {unique_ethnicities_count}\")\n",
    "\n",
    "# Now let's find the movie with the most actors from different ethnic backgrounds\n",
    "movie_ethnicity_counts = movie_char_eth.groupby('movie_freebase_id')['actor_ethnicity'].nunique()\n",
    "movie_with_most_ethnic_diversity = movie_ethnicity_counts.idxmax()\n",
    "\n",
    "# Now we can print the movie name instead of the movie ID\n",
    "movie_with_most_ethnic_diversity_name = movie_char_eth[movie_char_eth['movie_freebase_id'] == movie_with_most_ethnic_diversity].iloc[0]['movie_name']\n",
    "\n",
    "# Printing the movie name with the most diverse ethnic backgrounds among actors\n",
    "print(f\"The movie with the most actors from different ethnic backgrounds is \\\"{movie_with_most_ethnic_diversity_name}\\\" with {movie_ethnicity_counts[movie_with_most_ethnic_diversity]} distinct ethnicities\")"
   ]
  },
  {
   "cell_type": "markdown",
   "id": "be591b50-5b43-4b5d-944d-471a45f8af56",
   "metadata": {},
   "source": [
    "Let's examine the distribution of ethnicities within the dataset, ensuring that each actor is counted only once."
   ]
  },
  {
   "cell_type": "code",
   "execution_count": 21,
   "id": "5d510743-5f59-472e-b4f2-e6c90a82baef",
   "metadata": {
    "tags": []
   },
   "outputs": [
    {
     "data": {
      "image/png": "[encoded data removed]",
      "text/plain": [
       "<Figure size 1000x600 with 1 Axes>"
      ]
     },
     "metadata": {},
     "output_type": "display_data"
    }
   ],
   "source": [
    "# We first drop duplicates to ensure each actor is counted only once\n",
    "unique_actors = movie_char_eth.drop_duplicates(subset=['actor_name'])\n",
    "\n",
    "# Now, count the unique ethnicities\n",
    "ethnicity_counts = unique_actors[\"actor_ethnicity\"].value_counts()\n",
    "\n",
    "# Creating a bar plot\n",
    "plt.figure(figsize=(10, 6))\n",
    "sns.barplot(x=ethnicity_counts.index, y=ethnicity_counts.values)\n",
    "\n",
    "# Setting the y-axis to logarithmic scale\n",
    "plt.yscale('log')\n",
    "\n",
    "# Removing x-axis labels\n",
    "plt.xlabel('')\n",
    "plt.xticks([])\n",
    "\n",
    "plt.ylabel('Count (Log Scale)')\n",
    "plt.title('Distribution of Unique Actor Ethnicities in Movies (Log Scale)')\n",
    "plt.show()"
   ]
  },
  {
   "cell_type": "markdown",
   "id": "dc3d2ea8-718a-4a1c-86ac-8570d5608bf7",
   "metadata": {
    "tags": []
   },
   "source": [
    "Now, let's define clusters with a mapping function."
   ]
  },
  {
   "cell_type": "code",
   "execution_count": 22,
   "id": "4b7091f6-c088-4e1d-b584-03a2c9044c69",
   "metadata": {
    "tags": []
   },
   "outputs": [],
   "source": [
    "ethnic_cluster = {\n",
    "    \"East Asian\": [\n",
    "        \"Han Chinese people\", \"Zhuang people\", \"Ryukyuan people\", \"Manchu\", \"Gin people\"\n",
    "    ],\n",
    "    \"South Asian\": [\n",
    "        \"Afghans in India\", \"Agrawal\", \"Bengali Brahmins\", \"Bengali Hindus\", \"Bengali people\", \"Bihari people\",\n",
    "        \"Gujarati people\", \"Indian Americans\", \"Indian Australian\", \"Indian diaspora\", \"Indian diaspora in France\",\n",
    "        \"Indian person\", \"Indo-Guyanese\", \"Kashmiri Pandit\", \"Kashmiri people\", \"Marathi people\", \"Nepali Indian\",\n",
    "        \"Pakistani American\", \"Pakistani Canadians\", \"Pakistanis\", \"Punjabi diaspora\", \"Punjabis\", \"Rajput\", \"Sikh\",\n",
    "        \"Sindhis\", \"Tamil Americans\", \"Tamil Brahmin\", \"Telugu Brahmins\", \"Telugu people\"\n",
    "    ],\n",
    "    \"Southeast Asian\": [\n",
    "        \"Aceh\", \"Filipino Americans\", \"Filipino Australians\", \"Filipino mestizo\", \"Filipino people\", \n",
    "        \"Filipino people of Spanish ancestry\", \"Indonesian Americans\", \"Javanese\", \"Lao people\", \"Malayali\", \n",
    "        \"Malaysian Chinese\", \"Thai Americans\", \"Thai Chinese people\", \"Thai people\", \"Vietnamese Americans\", \n",
    "        \"Vietnamese people\"\n",
    "    ],\n",
    "    \"Middle Eastern\": [\n",
    "        \"Afghanis\", \"Arabs\", \"Arab Americans\", \"Arab Mexican\", \"Arabs in Bulgaria\", \"Assyrian people\", \n",
    "        \"Azerbaijanis\", \"Copts\", \"Druze\", \"Hazaras\", \"Iraqi Americans\", \"Iranian Americans\", \"Iranian Canadians\", \n",
    "        \"Iranians\", \"Iranians in the United Kingdom\", \"Kurds\", \"Lebanese\", \"Lebanese Americans\", \n",
    "        \"Lebanese immigration to Mexico\", \"Lebanese people in the United Kingdom\", \"Palestinians\", \n",
    "        \"Palestinian American\", \"Persians\", \"Sudanese Arabs\", \"Syrian Americans\"\n",
    "    ],\n",
    "    \"European\": [\n",
    "        \"Acadians\", \"Albanian American\", \"Albanians\", \"Anglo-Irish people\", \n",
    "        \"Austrians\", \"Austrian Americans\", \"Austrians in the United Kingdom\", \n",
    "        \"Baltic Russians\", \"Basque people\", \"Belgians\", \"Black Irish\", \"Bosniaks\", \n",
    "        \"Bosnians\", \"British people\", \"British Americans\", \"British Asian\", \n",
    "        \"British Chinese\", \"British Indian\", \"British Jamaicans\", \"British Jews\", \n",
    "        \"British Nigerian\", \"British Pakistanis\", \"Bulgarians\", \"Bulgarian Canadians\", \n",
    "        \"Cajun\", \"Castilians\", \"Catalan people\", \"Czech Americans\", \n",
    "        \"Czech Australians\", \"Czechs\", \"Danes\", \"Danish Americans\", \n",
    "        \"Danish Canadians\", \"Dalmatian Italians\", \"Dutch\", \"Dutch Americans\", \n",
    "        \"Dutch Australian\", \"Dutch Canadians\", \"English Americans\", \"English Australian\", \n",
    "        \"English Canadians\", \"English people\", \"Estonians\", \"Finnish Americans\", \n",
    "        \"Finns\", \"French\", \"French Americans\", \"French Canadians\", \"French Chilean\", \n",
    "        \"Galicians\", \"German Americans\", \"German Brazilians\", \"German Canadians\", \n",
    "        \"Germans\", \"Greek American\", \"Greek Australian\", \"Greek Canadians\", \n",
    "        \"Greek Cypriots\", \"Greeks in South Africa\", \"Greeks in the United Kingdom\", \n",
    "        \"Hungarian Americans\", \"Hungarians\", \"Icelandic\", \"Irish Americans\", \n",
    "        \"Irish Australian\", \"Irish Canadians\", \"Irish migration to Great Britain\", \n",
    "        \"Irish people\", \"Italian Americans\", \"Italian Australian\", \"Italian Brazilians\", \n",
    "        \"Italian Canadians\", \"Italian immigration to Mexico\", \"Italians\", \n",
    "        \"Italians in the United Kingdom\", \"Latvian American\", \"Latvians\", \n",
    "        \"Lithuanian American\", \"Lithuanian Jews\", \"Luxembourgish Americans\", \n",
    "        \"Manx people\", \"Norwegian Americans\", \"Norwegians\", \"Poles\", \n",
    "        \"Poles in the United Kingdom\", \"Polish Americans\", \"Polish Australians\", \n",
    "        \"Polish Canadians\", \"Portuguese\", \"Portuguese Americans\", \"Romanian Americans\", \n",
    "        \"Romanians\", \"Russian Americans\", \"Russian Canadians\", \"Russians\", \n",
    "        \"Rusyn American\", \"Scandinavian Americans\", \"Scotch-Irish Americans\", \n",
    "        \"Scottish American\", \"Scottish Australian\", \"Scottish Canadians\", \n",
    "        \"Scottish people\", \"Serbian Americans\", \"Serbian Australians\", \n",
    "        \"Serbian Canadians\", \"Serbs in North Macedonia\", \"Serbs in the United Kingdom\", \n",
    "        \"Serbs of Bosnia and Herzegovina\", \"Serbs of Croatia\", \"Slovak Americans\", \n",
    "        \"Slovaks\", \"Slovene American\", \"Slovenes\", \"Spanish American\", \n",
    "        \"Spanish immigration to Mexico\", \"Spanish people of Filipino ancestry\", \n",
    "        \"Swedish Americans\", \"Swedish Australian\", \"Swedish Canadians\", \n",
    "        \"Swedish-speaking population of Finland\", \"Swiss\", \"Ukrainian Americans\", \n",
    "        \"Ukrainian Canadians\", \"Ukrainians\", \"White British\", \"Welsh American\", \n",
    "        \"Welsh Italians\", \"Welsh people\", \"White Africans of European ancestry\", \n",
    "        \"White Americans\", \"White Latin American\", \"White South Africans\"\n",
    "    ],\n",
    "    \"Hispanic/Latino\": [\n",
    "        \"Afro-Cuban\", \"Argentine\", \"Bolivian American\", \"Brazilian Americans\", \n",
    "        \"Brazilians\", \"Chilean American\", \"Chileans\", \"Chileans in the United Kingdom\", \n",
    "        \"Colombian Americans\", \"Colombian Australian\", \"Colombians\", \"Costa Ricans\", \n",
    "        \"Cuban American\", \"Cubans\", \"Dominican Americans\", \"Ecuadorian Americans\", \n",
    "        \"Hispanic\", \"Hispanic and Latino Americans\", \"Honduran Americans\", \"Hondurans\", \n",
    "        \"Mexican Americans\", \"Mexicans\", \"Panamanian American\", \"Peruvians in the United Kingdom\", \n",
    "        \"Puerto Ricans\", \"Salvadoran Americans\", \"Spaniards\", \"Venezuelan Americans\", \"Venezuelans\"\n",
    "    ],\n",
    "    \"African\": [\n",
    "        \"African Americans\", \"African people\", \"Afrikaners\", \"Akan people\", \"Angolan\", \n",
    "        \"Bantu\", \"Berber\", \"Black British\", \"Black Canadians\", \"Black Hispanic and Latino Americans\", \n",
    "        \"Black people\", \"Dinka people\", \"Ghanaian American\", \"Ghanaians\", \"Gibraltarian people\", \n",
    "        \"Kabyle people\", \"Kenyan\", \"Kikuyu\", \"Malagasy people\", \"Mandinka people\", \n",
    "        \"Moroccan Americans\", \"Moroccan Jews\", \"Moroccans\", \"Mozambican\", \"Namibian\", \n",
    "        \"Nigerian American\", \"Sierra Leone Creole people\", \"Sierra Leoneans in the United Kingdom\", \n",
    "        \"Somali\", \"Somalis\", \"South African American\", \"Sudanese Australians\", \"Swazis\", \n",
    "        \"Tanzanian\", \"Togolese\", \"Ugandan\", \"Wolof people\", \"Xhosa people\", \"Yoruba people\", \n",
    "        \"Zimbabwean\"\n",
    "    ],\n",
    "    \"North American Indigenous\": [\n",
    "        \"Apache\", \"Blackfoot Confederacy\", \"Cherokee\", \"Cheyennes\", \"Choctaw\", \"Cree\", \n",
    "        \"First Nations\", \"Five Nations\", \"Ho-Chunk\", \"Haudenosaunee\", \"Inuit\", \"Inupiat people\", \n",
    "        \"Lumbee\", \"Mohawk people\", \"Native Americans in the United States\", \"Native Hawaiians\", \n",
    "        \"Nez Perce\", \"Ojibwe\", \"Omaha people\", \"Oneida\", \"Sioux\"\n",
    "    ],\n",
    "    \"Pacific Islander\": [\n",
    "        \"Chamorro\", \"Fijian\", \"Hawaiian\", \"Maori\", \"Marshallese\", \"Micronesian\", \n",
    "        \"Palauan\", \"Samoan American\", \"Samoan New Zealanders\", \"Tongan\"\n",
    "    ],\n",
    "    \"Australian Aboriginal\": [\n",
    "        \"Aboriginal Australians\", \"Indigenous Australians\", \"Torres Strait Islanders\"\n",
    "    ]\n",
    "}\n",
    "\n",
    "def find_ethnic_cluster(ethnicity):\n",
    "    \"\"\"\n",
    "    Finds and returns the group to which the given ethnicity belongs.\n",
    "\n",
    "    Parameters:\n",
    "    ethnicity (str): The ethnicity to find.\n",
    "    ethnic_groups (dict): A dictionary of ethnic groups and their corresponding ethnicities.\n",
    "\n",
    "    Returns:\n",
    "    str: The group to which the ethnicity belongs, or 'Unknown' if not found.\n",
    "    \"\"\"\n",
    "    for group, ethnicities in ethnic_cluster.items():\n",
    "        if ethnicity in ethnicities:\n",
    "            return group\n",
    "    return \"Others\""
   ]
  },
  {
   "cell_type": "code",
   "execution_count": 23,
   "id": "48505e58-364e-4516-9607-d166b482b2ab",
   "metadata": {
    "tags": []
   },
   "outputs": [
    {
     "data": {
      "text/plain": [
       "actor_ethnicity_cluster\n",
       "European                     38461\n",
       "Others                       26293\n",
       "South Asian                  22299\n",
       "African                      10546\n",
       "Hispanic/Latino               2540\n",
       "Southeast Asian               1567\n",
       "North American Indigenous      653\n",
       "Middle Eastern                 432\n",
       "Australian Aboriginal           87\n",
       "Pacific Islander                40\n",
       "East Asian                      16\n",
       "Name: actor_ethnicity_cluster, dtype: int64"
      ]
     },
     "execution_count": 23,
     "metadata": {},
     "output_type": "execute_result"
    }
   ],
   "source": [
    "# Updating the 'cluster' column in the dataset with the new categorizations\n",
    "movie_char_eth_cluster = movie_char_eth.copy()\n",
    "movie_char_eth_cluster['actor_ethnicity_cluster'] = movie_char_eth_cluster['actor_ethnicity'].map(find_ethnic_cluster)\n",
    "\n",
    "# Recalculating the counts for each cluster\n",
    "eth_cluster_counts = movie_char_eth_cluster.groupby('actor_ethnicity_cluster')['actor_ethnicity_cluster'].count()\n",
    "\n",
    "# Sorting the updated clustered data by count\n",
    "eth_cluster_counts = eth_cluster_counts.sort_values(ascending=False)\n",
    "\n",
    "eth_cluster_counts"
   ]
  },
  {
   "cell_type": "markdown",
   "id": "e57d716c-33cb-4033-89cf-454273bd1385",
   "metadata": {
    "tags": []
   },
   "source": [
    "Now, let's display the distribution of the Simpson Ethnicity Diversity Index in the resulting dataset."
   ]
  },
  {
   "cell_type": "code",
   "execution_count": 24,
   "id": "1e5811eb-d005-4f2c-be20-156b4a9f92e1",
   "metadata": {
    "tags": []
   },
   "outputs": [
    {
     "data": {
      "image/png": "[encoded data removed]",
      "text/plain": [
       "<Figure size 1000x600 with 1 Axes>"
      ]
     },
     "metadata": {},
     "output_type": "display_data"
    }
   ],
   "source": [
    "# Calculating ethnicity diversity and sorting by ethnicity cluster\n",
    "ethnicity_cluster_diversity_df = calculate_diversity(movie_char_eth_cluster, 'actor_ethnicity_cluster', 'ethnicity_cluster_diversity')\n",
    "ethnicity_cluster_diversity_df = ethnicity_cluster_diversity_df.drop_duplicates(subset='movie_freebase_id')\n",
    "\n",
    "# Plotting the histogram\n",
    "plt.figure(figsize=(10, 6))\n",
    "plt.hist(ethnicity_cluster_diversity_df['ethnicity_cluster_diversity'], bins=10, color='purple', edgecolor='black')\n",
    "plt.title('Histogram of Ethnicity Diversity')\n",
    "plt.xlabel('Clustered Ethnicity Diversity')\n",
    "plt.ylabel('Frequency')\n",
    "plt.grid(True)\n",
    "plt.show()"
   ]
  },
  {
   "cell_type": "markdown",
   "id": "cfe1d94a-a222-492b-b39c-0fc62ea51e4c",
   "metadata": {},
   "source": [
    "We can see that this approach has several limitations:\n",
    "\n",
    "- Not all ethnicities have a geographical basis (e.g., Jewish, Irish American, etc.), making it impractical to use k-means clustering with geographical coordinates. As a result, clustering becomes subjective, leading to a disproportionately huge number of individuals being categorized as \"Others\".\n",
    "\n",
    "- While on a global scale, a French and an English person are both European, we believe that within a team setting, their cultures and languages can be quite distinct. Therefore, we do not want to lose this nuanced information by grouping them under the same general category.\n",
    "\n",
    "- The clustering skews the Simpson Diversity Index to 0 due to the grouping of regional diversities into a single general cluster, and the excessive categorization of many ethnicities under \"Others\".\n",
    "\n",
    "Finally, although the dataset contains 435 unique ethnicities, the movie with the most actors from different ethnic backgrounds has only 15 distinct ethnicities. This is unlikely to lead to overfitting during regression analysis. Therefore, this sub-section will not be included in the remainder of the study, and we will retain the original ethnic classifications."
   ]
  },
  {
   "cell_type": "markdown",
   "id": "a57393c1",
   "metadata": {},
   "source": [
    "# Naive Analysis\n",
    "In this section, we will begin a naive analysis to understand how the diversity of a movie's cast can potentially influence that movie's performance. Before diving into details, it's important to define what we mean by \"naïve analysis\" and explain our goal. A naive analysis is a simplified, exploratory approach to studying a phenomenon or a relationship between variables. The aim is to provide an initial understanding of the subject before undertaking more in-depth analyses."
   ]
  },
  {
   "cell_type": "markdown",
   "id": "e0686fa3",
   "metadata": {},
   "source": [
    "## Ethnic diversity\n",
    "We will begin by studying ethnic diversity within a movie's cast, in order to understand how it can potentially influence that movie's performance."
   ]
  },
  {
   "cell_type": "markdown",
   "id": "baefe559",
   "metadata": {},
   "source": [
    "### Dataframe\n",
    "Let's download a DataFrame containing information about the movies, previously created during preprocessing, including their ethnic diversity score. We will then use the Pandas library in Python to display the first lines of the DataFrame and better understand its content and format."
   ]
  },
  {
   "cell_type": "code",
   "execution_count": null,
   "id": "e1bf48e5",
   "metadata": {},
   "outputs": [],
   "source": [
    "# Load Datasets\n",
    "ethnicity_diversity_df = pd.read_csv('generated/ethnicity_diversity.csv')\n",
    "\n",
    "# Display ethnicity_diversity_df dataframe\n",
    "display(ethnicity_diversity_df)"
   ]
  },
  {
   "cell_type": "markdown",
   "id": "f4d9fe13",
   "metadata": {},
   "source": [
    "### Evolution of Ethnic Diversity\n",
    "First, we will explore the evolution of ethnic diversity within movie castings across different periods of cinema history. The primary objective of this analysis is to trace the change in the ethnic composition of movie castings over time, highlighting significant trends and changes that have taken place."
   ]
  },
  {
   "cell_type": "markdown",
   "id": "c12d925c",
   "metadata": {},
   "source": [
    "To do this, we will subdivide the history of cinema into distinct periods, such as 3-year intervals, and examine the ethnic distribution of actors within each period. This approach will allow us to better understand how ethnic representation has evolved in the film industry and identify key moments where significant progress or persistent challenges have been observed."
   ]
  },
  {
   "cell_type": "code",
   "execution_count": null,
   "id": "3bf6f892",
   "metadata": {},
   "outputs": [],
   "source": [
    "# Calculation of average ethnic diversity per 5-year period\n",
    "ethnicity_diversity_df['year_bin'] = (ethnicity_diversity_df['movie_release_year'] // 3) * 3\n",
    "\n",
    "# Calculation of the average of ethnic diversity for each 10-year period\n",
    "average_ethnic_diversity_by_decade = ethnicity_diversity_df.groupby('year_bin')['ethnicity_diversity'].mean().reset_index()\n",
    "\n",
    "# Creation of the histogram\n",
    "plt.figure(figsize=(10, 6))\n",
    "sns.barplot(data=average_ethnic_diversity_by_decade, x='year_bin', y='ethnicity_diversity')\n",
    "plt.title('Average Ethnic Diversity by Year Range (3 Years)')\n",
    "plt.xlabel('Range of Years')\n",
    "plt.ylabel('Average Ethnic Diversity')\n",
    "plt.xticks(rotation=45)\n",
    "plt.show()"
   ]
  },
  {
   "cell_type": "markdown",
   "id": "05e3df3b",
   "metadata": {},
   "source": [
    "We see a slight evolution in the ethnic diversity of movie castings over the years. To better understand this evolution, we will detail the results using the cumulative average of ethnicity per year."
   ]
  },
  {
   "cell_type": "code",
   "execution_count": null,
   "id": "95a7bef3",
   "metadata": {},
   "outputs": [],
   "source": [
    "# Calculation of the cumulative sum of annual averages of ethnic diversity\n",
    "cumulative_average_ethnic_diversity = ethnicity_diversity_df.groupby('movie_release_year')['ethnicity_diversity'].mean().cumsum()\n",
    "\n",
    "# Creation of the graph\n",
    "plt.figure(figsize=(10, 6))\n",
    "cumulative_average_ethnic_diversity.plot(kind='line', marker='o')\n",
    "plt.title('Evolution of Ethnic Diversity in Films Over Time')\n",
    "plt.xlabel('Year of Film Release')\n",
    "plt.ylabel('Cumulative Average of Ethnic Diversity')\n",
    "plt.grid(True)\n",
    "plt.show()"
   ]
  },
  {
   "cell_type": "markdown",
   "id": "e07ff9bb",
   "metadata": {},
   "source": [
    "It is evident that a real positive evolution of ethnic diversity appears in the field of cinema, meaning that significant changes have occurred over time."
   ]
  },
  {
   "cell_type": "code",
   "execution_count": null,
   "id": "b23d1428",
   "metadata": {},
   "outputs": [],
   "source": [
    "# Remove rows with NaNs in column \"movie_box_office_revenue\"\n",
    "ethnicity_diversity_box_office_df = ethnicity_diversity_df.dropna(subset=['movie_box_office_revenue'])\n",
    "\n",
    "print(ethnicity_diversity_box_office_df.shape)"
   ]
  },
  {
   "cell_type": "code",
   "execution_count": null,
   "id": "c0baa1d3",
   "metadata": {},
   "outputs": [],
   "source": [
    "# Remove rows with 0 in column \"rating_count\"\n",
    "ethnicity_diversity_rating_df = ethnicity_diversity_df.query('rating_count != 0')\n",
    "\n",
    "print(ethnicity_diversity_rating_df.shape)"
   ]
  },
  {
   "cell_type": "markdown",
   "id": "05750612",
   "metadata": {},
   "source": [
    "#### Impact of Ethnic Diversity on Box Office\n",
    "Let's conduct an analysis that focuses on measuring a movie's performance using its box office receipts as an indicator."
   ]
  },
  {
   "cell_type": "code",
   "execution_count": null,
   "id": "1d1db69d",
   "metadata": {},
   "outputs": [],
   "source": [
    "# Use the 'pearsonr' function to calculate the Pearson correlation\n",
    "correlation, p_value = pearsonr(ethnicity_diversity_box_office_df['ethnicity_diversity'], ethnicity_diversity_box_office_df['movie_box_office_revenue'])\n",
    "\n",
    "# Show Pearson correlation and p-value\n",
    "print(\"Pearson Correlation : {:.3f}\".format(correlation))\n",
    "print(\"p-value : {:.3f}\".format(p_value))"
   ]
  },
  {
   "cell_type": "markdown",
   "id": "b9e7a19e",
   "metadata": {},
   "source": [
    "We calculated a Pearson correlation of approximately 0.217 between the ethnic diversity of a movie's cast and its box office revenue. This positive correlation, significant since the p-value is less than 0.05, suggests that there is an upward trend in box office revenue when the ethnic diversity of the cast is higher.\n",
    "\n",
    "In order to more precisely evaluate the relationship between the ethnic diversity of the cast and box office revenues, we will perform a regression analysis. This analysis will allow us to determine the extent of the impact of ethnic diversity on box office revenues and to better understand how ethnic diversity influences the financial performance of movies."
   ]
  },
  {
   "cell_type": "code",
   "execution_count": null,
   "id": "98a8126b",
   "metadata": {},
   "outputs": [],
   "source": [
    "# Preparing data for regression\n",
    "X = ethnicity_diversity_box_office_df[['ethnicity_diversity']] # Independent variable\n",
    "y = ethnicity_diversity_box_office_df['movie_box_office_revenue'] # Dependent variable \n",
    "\n",
    "# Adding a constant to X\n",
    "X = sm.add_constant(X)\n",
    "\n",
    "# Linear regression\n",
    "model = sm.OLS(y, X).fit()\n",
    "\n",
    "# Model summary\n",
    "print(model.summary())"
   ]
  },
  {
   "cell_type": "markdown",
   "id": "88e76a4b",
   "metadata": {},
   "source": [
    "Our results reveal that there is a statistically significant relationship between the ethnic diversity of a film's cast and box office revenue. However, it is essential to note that the relatively low value of the coefficient of determination (R²) indicates that ethnic diversity, taken alone, only partly explains the variation in box office revenue. This suggests the presence of other factors also influencing the financial performance of films.\n",
    "\n",
    "However, for a better visualization of the relationship between ethnic diversity and box office revenue, we will create a regression graph."
   ]
  },
  {
   "cell_type": "code",
   "execution_count": null,
   "id": "6b89f242",
   "metadata": {},
   "outputs": [],
   "source": [
    "# Plot the regression graph that shows the relationship between ethnic diversity and box office revenue\n",
    "plt.figure(figsize=(10, 6))\n",
    "sns.regplot(\n",
    "    x='ethnicity_diversity',\n",
    "    y='movie_box_office_revenue',\n",
    "    data=ethnicity_diversity_box_office_df,\n",
    "    line_kws={'color': 'red'},\n",
    "    ci=95\n",
    ")\n",
    "plt.title('Relationship between Ethnic Diversity and Box Office Revenue')\n",
    "plt.xlabel('Ethnic diversity')\n",
    "plt.ylabel('Box Office Revenue')\n",
    "plt.show()"
   ]
  },
  {
   "cell_type": "markdown",
   "id": "98852a03",
   "metadata": {},
   "source": [
    "The chart provides a visual representation that complements statistical findings that indicate ethnic diversity is a significant predictor of box office revenue. But despite the positive slope of the regression line, we must be careful not to infer causality from this graph alone. The relationship is purely correlational and further analysis would be needed to draw more definitive conclusions about the impact of ethnic diversity on box office performance."
   ]
  },
  {
   "cell_type": "markdown",
   "id": "7214843d",
   "metadata": {},
   "source": [
    "#### Impact of Ethnic Diversity on Average Rating\n",
    "Let's conduct an analysis that focuses on measuring a movie's performance using its average rating as an indicator."
   ]
  },
  {
   "cell_type": "code",
   "execution_count": null,
   "id": "e9c856e4",
   "metadata": {},
   "outputs": [],
   "source": [
    "# Use the 'pearsonr' function to calculate the Pearson correlation\n",
    "correlation, p_value = pearsonr(ethnicity_diversity_rating_df['ethnicity_diversity'], ethnicity_diversity_rating_df['rating_average'])\n",
    "\n",
    "# Show Pearson correlation and p-value\n",
    "print(\"Pearson Correlation : {:.3f}\".format(correlation))\n",
    "print(\"p-value : {:.3f}\".format(p_value))"
   ]
  },
  {
   "cell_type": "markdown",
   "id": "52b052a6",
   "metadata": {},
   "source": [
    "The Pearson correlation between ethnic diversity and average movie rating is -0.002, with a p-value of 0.812. This suggests a very weak and non-significant correlation between ethnic diversity in films and their average rating. The high p-value indicates that the observed relationship could very well be due to chance, and there is no strong statistical evidence of an association between these two variables.\n",
    "\n",
    "In order to more precisely evaluate the relationship between the ethnic diversity of the cast and average rating, we will perform a regression analysis. This analysis will allow us to determine the extent of the impact of ethnic diversity on it's average rating and to better understand how ethnic diversity influences the financial performance of movies."
   ]
  },
  {
   "cell_type": "code",
   "execution_count": null,
   "id": "f2aa80ee",
   "metadata": {},
   "outputs": [],
   "source": [
    "# Preparing data for regression\n",
    "X = ethnicity_diversity_rating_df[['ethnicity_diversity']] # Independent variable\n",
    "y = ethnicity_diversity_rating_df['rating_average'] # Dependent variable \n",
    "\n",
    "# Adding a constant to X\n",
    "X = sm.add_constant(X)\n",
    "\n",
    "# Linear regression\n",
    "model = sm.OLS(y, X).fit()\n",
    "\n",
    "# Model summary\n",
    "print(model.summary())"
   ]
  },
  {
   "cell_type": "markdown",
   "id": "93308c97",
   "metadata": {},
   "source": [
    "The linear regression analysis aligns with our previous results since the table shows that ethnic diversity has a slightly negative association with the average movie rating, as indicated by the coefficient of -0.0101. However, this relationship is not statistically significant at the 5% level in view of the p-value, which suggests that ethnic diversity does not have a significant impact on the average rating of movies according to this model.\n",
    "\n",
    "For a better visualization of the relationship between ethnic diversity and average rating, we will create a regression graph."
   ]
  },
  {
   "cell_type": "code",
   "execution_count": null,
   "id": "722d9854",
   "metadata": {},
   "outputs": [],
   "source": [
    "# Plot the regression graph that shows the relationship between ethnic diversity and average rating\n",
    "plt.figure(figsize=(10, 6))\n",
    "sns.regplot(\n",
    "    x='ethnicity_diversity',\n",
    "    y='rating_average',\n",
    "    data=ethnicity_diversity_rating_df,\n",
    "    line_kws={'color': 'red'},\n",
    "    ci=95\n",
    ")\n",
    "plt.title('Relationship between Ethnic Diversity and Average Rating')\n",
    "plt.xlabel('Ethnic Diversity')\n",
    "plt.ylabel('Average Rating')\n",
    "plt.show()"
   ]
  },
  {
   "cell_type": "markdown",
   "id": "0a6e3d5c",
   "metadata": {},
   "source": [
    "In conclusion, the scatter plot provides visual confirmation that ethnic diversity, as measured and analyzed in this context, has little to no linear relationship with average movie rating. It suggests that while diversity may be an important cultural and social consideration, its direct relationship with how a film is rated on average is not strong based on this data."
   ]
  },
  {
   "cell_type": "markdown",
   "id": "c0d9bd92",
   "metadata": {},
   "source": [
    "## Gender diversity\n",
    "Let's continue by studying gender diversity within a movie's cast, in order to understand how it can potentially influence that movie's performance."
   ]
  },
  {
   "cell_type": "markdown",
   "id": "63bd4535",
   "metadata": {},
   "source": [
    "### Dataframe\n",
    "Let's download a DataFrame containing information about the movies, including their gender diversity score. We will then use the Pandas library in Python to display the first lines of the DataFrame and better understand its content and format."
   ]
  },
  {
   "cell_type": "code",
   "execution_count": null,
   "id": "204b13e5",
   "metadata": {},
   "outputs": [],
   "source": [
    "# Load Datasets\n",
    "gender_diversity_df = pd.read_csv(\"generated/gender_diversity.csv\")\n",
    "\n",
    "# Display gender_diversity_df dataframe\n",
    "display(gender_diversity_df)"
   ]
  },
  {
   "cell_type": "markdown",
   "id": "55c6f530",
   "metadata": {},
   "source": [
    "### Evolution of Gender Diversity\n",
    "Let's now explore the evolution of gender diversity in film casting across different periods of cinema history. The main objective is, as before, to trace the evolution of the gender distribution in film castings over time."
   ]
  },
  {
   "cell_type": "markdown",
   "id": "d04c4131",
   "metadata": {},
   "source": [
    "To do this, as with ethnicity, we will subdivide the history of cinema into 5-year intervals, and examine the gender distribution of actors within each period."
   ]
  },
  {
   "cell_type": "code",
   "execution_count": null,
   "id": "f899b0ce",
   "metadata": {},
   "outputs": [],
   "source": [
    "# Calculation of average gender diversity per 5-year period\n",
    "gender_diversity_df['year_bin'] = (gender_diversity_df['movie_release_year'] // 5) * 5\n",
    "\n",
    "# Calculation of the average of gender diversity for each 10-year period\n",
    "average_gender_diversity_by_decade = gender_diversity_df.groupby('year_bin')['gender_diversity'].mean().reset_index()\n",
    "\n",
    "# Creation of the histogram\n",
    "plt.figure(figsize=(10, 6))\n",
    "sns.barplot(data=average_gender_diversity_by_decade, x='year_bin', y='gender_diversity')\n",
    "plt.title('Average Gender Diversity by Year Range (5 Years)')\n",
    "plt.xlabel('Range of Years')\n",
    "plt.ylabel('Average Gender Diversity')\n",
    "plt.xticks(rotation=45)\n",
    "plt.show()"
   ]
  },
  {
   "cell_type": "markdown",
   "id": "41679be6",
   "metadata": {},
   "source": [
    "We do not see any particular evolution in gender diversity in film castings over the years. To verify this, we will detail the results using the cumulative average of diversity per year."
   ]
  },
  {
   "cell_type": "code",
   "execution_count": null,
   "id": "3714f7c4",
   "metadata": {},
   "outputs": [],
   "source": [
    "# Calculate the cumulative average of gender diversity per year\n",
    "cumulative_average_gender_diversity = gender_diversity_df.groupby('movie_release_year')['gender_diversity'].mean().cumsum()\n",
    "\n",
    "# Create the graph\n",
    "plt.figure(figsize=(10, 6))\n",
    "cumulative_average_gender_diversity.plot(kind='line', marker='o')\n",
    "plt.title('Cumulative Evolution of Gender Diversity in Films Over Time')\n",
    "plt.xlabel('Year of Film Release')\n",
    "plt.ylabel('Cumulative Average Gender Diversity')\n",
    "plt.grid(True)\n",
    "plt.show()"
   ]
  },
  {
   "cell_type": "markdown",
   "id": "d14f2c9e",
   "metadata": {},
   "source": [
    "The chart shows evidence of a positive dynamic change in gender diversity within the film industry over the years."
   ]
  },
  {
   "cell_type": "markdown",
   "id": "e4aed564",
   "metadata": {},
   "source": [
    "### Impact of Gender Diversity\n",
    "Now, let's undertake an analysis aimed at understanding the influence of gender diversity on the performance of movies."
   ]
  },
  {
   "cell_type": "code",
   "execution_count": null,
   "id": "8de2c32f",
   "metadata": {},
   "outputs": [],
   "source": [
    "# Remove rows with NaNs in column \"movie_box_office_revenue\"\n",
    "gender_diversity_box_office_df = gender_diversity_df.dropna(subset=['movie_box_office_revenue'])\n",
    "\n",
    "print(gender_diversity_box_office_df.shape)"
   ]
  },
  {
   "cell_type": "code",
   "execution_count": null,
   "id": "5664d174",
   "metadata": {},
   "outputs": [],
   "source": [
    "# Remove rows with 0 in column \"rating_count\"\n",
    "gender_diversity_rating_df = gender_diversity_df.query('rating_count != 0')\n",
    "\n",
    "print(gender_diversity_rating_df.shape)"
   ]
  },
  {
   "cell_type": "markdown",
   "id": "b3214511",
   "metadata": {},
   "source": [
    "#### Impact of Gender Diversity on Box Office\n",
    "Let's conduct an analysis that focuses on measuring a movie's performance using its box office receipts as an indicator."
   ]
  },
  {
   "cell_type": "code",
   "execution_count": null,
   "id": "9e0b5c87",
   "metadata": {},
   "outputs": [],
   "source": [
    "# Use the 'pearsonr' function to calculate the Pearson correlation\n",
    "correlation, p_value = pearsonr(gender_diversity_box_office_df['gender_diversity'], gender_diversity_box_office_df['movie_box_office_revenue'])\n",
    "\n",
    "# Show Pearson correlation and p-value\n",
    "print(\"Pearson Correlation : {:.3f}\".format(correlation))\n",
    "print(\"p-value : {:.3f}\".format(p_value))"
   ]
  },
  {
   "cell_type": "markdown",
   "id": "24fb2912",
   "metadata": {},
   "source": [
    "We calculated a correlation of less than -0.000 between the gender diversity within a film's cast and its box office receipts. This correlation indicates an negligible and close to zero relationship between these two variables. In practice, this suggests that there is virtually no linear correlation between gender diversity within a cast and the movie's box office revenue.\n",
    "\n",
    "To further evaluate the relationship between casting gender diversity and box office revenue, we will perform a regression analysis. This analysis will make it possible to determine the extent of the impact of ethnic diversity on box office revenues and to verify whether, in reality, gender diversity influences the financial performance of movies."
   ]
  },
  {
   "cell_type": "code",
   "execution_count": null,
   "id": "1bc3be00",
   "metadata": {},
   "outputs": [],
   "source": [
    "# Preparing data for regression\n",
    "X = gender_diversity_box_office_df[['gender_diversity']] # Independent variable\n",
    "y = gender_diversity_box_office_df['movie_box_office_revenue'] # Dependent variable \n",
    "\n",
    "# Adding a constant to X\n",
    "X = sm.add_constant(X)\n",
    "\n",
    "# Linear regression\n",
    "model = sm.OLS(y, X).fit()\n",
    "\n",
    "# Model summary\n",
    "print(model.summary())"
   ]
  },
  {
   "cell_type": "markdown",
   "id": "990d0bcd",
   "metadata": {},
   "source": [
    "In summary, the regression analysis indicates that gender_diversity is not a significant predictor of movie_box_office_revenue and that the overall model does not fit the data well. Therefore, it is likely that other variables not included in the model are more predictive of box office revenue, such as ethnic diversity, as discussed previously.\n",
    "\n",
    "Let's plot a regression graph to visualize the relationship between gender diversity and movie box office revenue"
   ]
  },
  {
   "cell_type": "code",
   "execution_count": null,
   "id": "81fdfda8",
   "metadata": {},
   "outputs": [],
   "source": [
    "# Plot the regression graph that shows the relationship between gender diversity and box office revenue\n",
    "plt.figure(figsize=(10, 6))\n",
    "sns.regplot(\n",
    "    x='gender_diversity',\n",
    "    y='movie_box_office_revenue',\n",
    "    data=gender_diversity_box_office_df,\n",
    "    line_kws={'color': 'red'},\n",
    "    ci=95\n",
    ")\n",
    "plt.title('Relationship between Gender Diversity and Box Office Revenue')\n",
    "plt.xlabel('Gender diversity')\n",
    "plt.ylabel('Box Office Revenue')\n",
    "plt.show()"
   ]
  },
  {
   "cell_type": "markdown",
   "id": "8709f23d",
   "metadata": {},
   "source": [
    "In conclusion, the visual representation on the scatter plot supports the statistical findings from the regression analysis : gender diversity within the cast has no significant linear correlation with the box office revenue of the movies in this dataset."
   ]
  },
  {
   "cell_type": "markdown",
   "id": "53176ee8",
   "metadata": {},
   "source": [
    "#### Impact of Gender Diversity on Average Rating\n",
    "Let's conduct an analysis that focuses on measuring a movie's performance using its average rating as an indicator."
   ]
  },
  {
   "cell_type": "code",
   "execution_count": null,
   "id": "f13f0a4e",
   "metadata": {},
   "outputs": [],
   "source": [
    "# Use the 'pearsonr' function to calculate the Pearson correlation\n",
    "correlation, p_value = pearsonr(gender_diversity_rating_df['gender_diversity'], gender_diversity_rating_df['rating_average'])\n",
    "\n",
    "# Show Pearson correlation and p-value\n",
    "print(\"Pearson Correlation : {:.3f}\".format(correlation))\n",
    "print(\"p-value : {:.3f}\".format(p_value))"
   ]
  },
  {
   "cell_type": "markdown",
   "id": "e869728f",
   "metadata": {},
   "source": [
    "The Pearson correlation coefficient of -0.018 indicates a very weak negative correlation between gender diversity in a movie and his average rate. The p-value of 0.003 suggests that this correlation is statistically significant, despite being weak, meaning that there is a small but significant association where movies with higher gender diversity might be associated with slightly lower rating averages.\n",
    "\n",
    "Let's perform a regression analysis to assess the relationship between gender diversity and average rate, to check this."
   ]
  },
  {
   "cell_type": "code",
   "execution_count": null,
   "id": "2e4d6b54",
   "metadata": {},
   "outputs": [],
   "source": [
    "# Preparing data for regression\n",
    "X = gender_diversity_df[['gender_diversity']] # Independent variable\n",
    "y = gender_diversity_df['rating_average'] # Dependent variable \n",
    "\n",
    "# Adding a constant to X\n",
    "X = sm.add_constant(X)\n",
    "\n",
    "# Linear regression\n",
    "model = sm.OLS(y, X).fit()\n",
    "\n",
    "# Model summary\n",
    "print(model.summary())"
   ]
  },
  {
   "cell_type": "markdown",
   "id": "2590789b",
   "metadata": {},
   "source": [
    "The linear regression shown in the image indicates a correlation coefficient of -0.0651 for genre diversity, suggesting a weak, even negligible, negative correlation with the average movie rating. However, with a p-value of 0.360, this correlation is not statistically significant, implying that gender diversity, according to this model, does not appear to have a clear impact on the average film rating.\n",
    "\n",
    "Let's visualize this with a regression graph."
   ]
  },
  {
   "cell_type": "code",
   "execution_count": null,
   "id": "70173c19",
   "metadata": {},
   "outputs": [],
   "source": [
    "# Plot the regression graph that shows the relationship between gender diversity and average rating\n",
    "plt.figure(figsize=(10, 6))\n",
    "sns.regplot(\n",
    "    x='gender_diversity',\n",
    "    y='rating_average',\n",
    "    data=gender_diversity_df,\n",
    "    line_kws={'color': 'red'},\n",
    "    ci=95\n",
    ")\n",
    "plt.title('Relationship between Gender Diversity and Average Rating')\n",
    "plt.xlabel('Gender Diversity')\n",
    "plt.ylabel('Average Rating')\n",
    "plt.show()"
   ]
  },
  {
   "cell_type": "markdown",
   "id": "839b4f02",
   "metadata": {},
   "source": [
    "In conclusion, the visual representation reinforces the statistical analysis that gender diversity, as quantified in this dataset, does not have a significant impact on the average rate of movies. The scatter plot shows a wide distribution of ratings across the levels of gender diversity without a clear pattern or trend, indicating that other factors are likely to be more influential on the average rate than gender diversity."
   ]
  },
  {
   "cell_type": "markdown",
   "id": "bd6ff526",
   "metadata": {},
   "source": [
    "# Causal Analysis along the Years"
   ]
  },
  {
   "cell_type": "markdown",
   "id": "30204fef",
   "metadata": {},
   "source": [
    "This section aims to determine whether ethnic or gender diversity impacts box office earnings or ratings over different years. However, it's not practical to analyze each year individually. Therefore, we will divide the data into ten year-span segments, each containing approximately the same number of films."
   ]
  },
  {
   "cell_type": "code",
   "execution_count": null,
   "id": "7a6e60fa",
   "metadata": {},
   "outputs": [],
   "source": [
    "ethn_div = pd.read_csv('generated/ethnicity_diversity.csv', sep=',')\n",
    "gen_div = pd.read_csv('generated/gender_diversity.csv', sep=',')\n",
    "movie_charac = pd.read_csv('generated/movie_characters.csv', sep=',')"
   ]
  },
  {
   "cell_type": "markdown",
   "id": "58ebc698",
   "metadata": {},
   "source": [
    "### Regression Functions"
   ]
  },
  {
   "cell_type": "code",
   "execution_count": null,
   "id": "d0658ce5",
   "metadata": {},
   "outputs": [],
   "source": [
    "def common_movie_gender(str1, str2):  \n",
    "    '''\n",
    "    Check if two movies have at least one common genre\n",
    "\n",
    "    Parameters:\n",
    "    -str1: A string\n",
    "    -str2: A string\n",
    "\n",
    "    Return:\n",
    "    -common_elements: A boolean\n",
    "    '''\n",
    "    # Convert string representation of lists to actual lists\n",
    "    list1 = [genre.strip() for genre in str1.strip(\"[]\").split(\",\")]\n",
    "    list2 = [genre.strip() for genre in str2.strip(\"[]\").split(\",\")]\n",
    "\n",
    "    set1 = set(list1)\n",
    "    set2 = set(list2)\n",
    "    common_elements = set1.intersection(set2)\n",
    "    return common_elements\n",
    "\n",
    "    \n",
    "def min_max_scaling(df, column_name):\n",
    "    '''\n",
    "    Scale the values of a column between 0 and 1\n",
    "\n",
    "    Parameters:\n",
    "    -df: A dataframe\n",
    "    -column_name: A list of string\n",
    "\n",
    "    Return:\n",
    "    -df: A dataframe \n",
    "    '''\n",
    "    for col in column_name:\n",
    "        df[col] = (df[col] - df[col].min()) / (df[col].max() - df[col].min())\n",
    "    return df\n",
    "\n",
    "def binarize_diversity(df, column_name):\n",
    "    '''\n",
    "    Binarize the diversity column using the median value\n",
    "\n",
    "    Parameters:\n",
    "    -df: A dataframe\n",
    "    -column_name: A string\n",
    "\n",
    "    Return: \n",
    "    -df: A dataframe \n",
    "    '''\n",
    "    median_value = df[column_name].median()\n",
    "    df['treat'] = np.where(df[column_name] > median_value, 1, 0)\n",
    "    return df\n",
    "\n",
    "def add_propensity_score(df,formula_propensity_score,diversity_name,column_name):\n",
    "    '''\n",
    "    Add a column with the propensity score to the dataframe\n",
    "\n",
    "    Parameters:\n",
    "    -df: A dataframe\n",
    "    -formula_propensity_score: A string\n",
    "    -diversity_name: A string\n",
    "    -column_name: A string\n",
    "    \n",
    "    Return: \n",
    "    -df: A dataframe \n",
    "    '''\n",
    "    df = binarize_diversity(df,diversity_name)\n",
    "    df = min_max_scaling(df,column_name)\n",
    "    mod = smf.logit(formula= formula_propensity_score, data=df)\n",
    "    res = mod.fit(disp=False)\n",
    "    df['Propensity_score'] = res.predict()\n",
    "    return df\n",
    "\n",
    "def get_similarity(propensity_score1, propensity_score2):\n",
    "    '''\n",
    "    Calculate similarity for instances with given propensity scores\n",
    "\n",
    "    Parameters:\n",
    "    -propensity_score1: A float\n",
    "    -propensity_score2: A float\n",
    "    \n",
    "    Return: A float\n",
    "    '''\n",
    "    return 1-np.abs(propensity_score1-propensity_score2)\n",
    "\n",
    "def compute_balance_df(df): \n",
    "    '''\n",
    "    Compute a balanced dataframe using the propensity score\n",
    "\n",
    "    Parameters:\n",
    "    -df: A dataframe\n",
    "\n",
    "    Return: \n",
    "    -df: A dataframe\n",
    "    '''\n",
    "    # Separate the treatment and control groups\n",
    "    treatment_df = df[df['treat'] == 1]\n",
    "    control_df = df[df['treat'] == 0]\n",
    "\n",
    "    # Create an empty graph\n",
    "    G = nx.Graph()\n",
    "\n",
    "    # Loop through all the pairs of instances\n",
    "    for control_id, control_row in control_df.iterrows():\n",
    "        for treatment_id, treatment_row in treatment_df.iterrows():\n",
    "            # Check if the two instances have the same number of languages and at least one common genre\n",
    "            if (control_row['movie_languages_count'] == treatment_row['movie_languages_count']) \\\n",
    "                and common_movie_gender(control_row['movie_genres'], treatment_row['movie_genres']):\n",
    "                # Calculate the similarity \n",
    "                similarity = get_similarity(control_row['Propensity_score'],\n",
    "                                            treatment_row['Propensity_score'])\n",
    "\n",
    "                # Add an edge between the two instances weighted by the similarity between them\n",
    "                G.add_weighted_edges_from([(control_id, treatment_id, similarity)])\n",
    "\n",
    "    # Generate and return the maximum weight matching on the generated graph\n",
    "    matching = nx.max_weight_matching(G)\n",
    "\n",
    "    matched = [i[0] for i in list(matching)] + [i[1] for i in list(matching)]\n",
    "    balanced_df = df.loc[matched]\n",
    "    return balanced_df\n",
    "\n",
    "def regression(df,formula,formula_propensity_score,diversity_name,column_name):\n",
    "    '''\n",
    "    Perform an ols regression on a dataframe according to the formula\n",
    "\n",
    "    Parameters:\n",
    "    -df: A dataframe\n",
    "    -formula: A string\n",
    "    -formula_propensity_score: A string\n",
    "    -diversity_name: A string\n",
    "    -column_name: A lsit of string\n",
    "\n",
    "    Return: \n",
    "    -balanced_df: A dataframe \n",
    "    -mod: A model\n",
    "    '''\n",
    "    df = add_propensity_score(df, formula_propensity_score, diversity_name, column_name)\n",
    "    balanced_df = compute_balance_df(df)\n",
    "    mod = smf.ols(formula=formula, data=balanced_df)\n",
    "    return balanced_df,mod\n",
    "\n",
    "\n",
    "def compute_all_regressions(period_df,formula,formula_propensity_score,diversity_name,columns):\n",
    "    '''\n",
    "    Perform the regression for each period and store the results in a list\n",
    "\n",
    "    Parameters:\n",
    "    -period_df: A dataframe\n",
    "    -formula: A string\n",
    "    -formula_propensity_score: A string\n",
    "    -diversity_name: A string\n",
    "    -columns: A lsit of string\n",
    "\n",
    "\n",
    "    Return: \n",
    "    -balanced_dfs: A list of tuples containing the balanced dataframe\n",
    "    -mods: A list of tuples containing the model\n",
    "    '''\n",
    "    # Create an empty list to store the results\n",
    "    results = []\n",
    "\n",
    "    # Iterate over periods\n",
    "    for period_num in range(1, 11):\n",
    "        period_key = f'df_period{period_num}'\n",
    "        \n",
    "        # Perform regression for each period\n",
    "        balanced_df, mod = regression(\n",
    "            period_df[period_key],\n",
    "            formula=formula,\n",
    "            formula_propensity_score=formula_propensity_score,\n",
    "            diversity_name=diversity_name,\n",
    "            column_name=columns\n",
    "        )\n",
    "        \n",
    "        # Store the results in a tuple and append to the list\n",
    "        result = (balanced_df, mod)\n",
    "        results.append(result)\n",
    "\n",
    "    # Extract the results for each period\n",
    "    balanced_dfs, mods = zip(*results)\n",
    "    return balanced_dfs,mods"
   ]
  },
  {
   "cell_type": "markdown",
   "id": "4e3d794c",
   "metadata": {},
   "source": [
    "### Visualization Functions"
   ]
  },
  {
   "cell_type": "code",
   "execution_count": null,
   "id": "2dac7b6c",
   "metadata": {},
   "outputs": [],
   "source": [
    "def plot_regression_line(balanced_dfs,mods,\n",
    "                         cutoff,param_div,param_perf,\n",
    "                         xlabel='Ethnicity Diversity',ylabel='Box Office Revenue'):\n",
    "    '''\n",
    "    Plot the regression line and the datapoints for each period\n",
    "    '''\n",
    "    fig, axes = plt.subplots(nrows=2, ncols=5, figsize=(25, 8))\n",
    "    axes = axes.flatten()\n",
    "    for i in range(10):\n",
    "        df = balanced_dfs[i]\n",
    "        mod = mods[i]\n",
    "        #Extract the intercept and the slope\n",
    "        intercept_coef = mod.fit().params['Intercept']\n",
    "        ethnicity_coef = mod.fit().params[param_div]\n",
    "        #Plot the regression line\n",
    "        x_values = np.linspace(min(df[param_div]), max(df[param_div]), 100)\n",
    "        y_values = intercept_coef + ethnicity_coef * x_values\n",
    "        axes[i].plot(x_values, y_values, color='red', label='Regression Line')\n",
    "        #Plot the datapoints\n",
    "        axes[i].scatter(df[param_div], df[param_perf], s=5, label='Data Points')\n",
    "        axes[i].set_xlabel(f'{xlabel}: pval= {mod.fit().pvalues[param_div].round(3)}, intercept pval= {mod.fit().pvalues[\"Intercept\"].round(3)}, \\n intercept={mod.fit().params[\"Intercept\"].round(3)} ,slope= {mod.fit().params[param_div].round(3)}')\n",
    "        axes[i].set_ylabel(ylabel)\n",
    "        axes[i].legend()\n",
    "        if i < len(cutoff)-1:\n",
    "            axes[i].set_title(f'{int(cutoff[i])} - {int(cutoff[i+1])}')\n",
    "        if i == len(cutoff)-1:\n",
    "            axes[i].set_title(f'{int(cutoff[i])} - {int(df[\"movie_release_year\"].max())}')\n",
    "    plt.tight_layout()\n",
    "    plt.show()\n",
    "\n",
    "\n",
    "def plot_comparison(balanced_dfs,cutoff,param_perf):\n",
    "    '''\n",
    "    Plot the distribution of the performance parameter for each group for each period\n",
    "    '''\n",
    "    fig, axes = plt.subplots(nrows=2, ncols=5, figsize=(25, 8))\n",
    "    axes = axes.flatten()\n",
    "    for i in range(10):\n",
    "        df = balanced_dfs[i]\n",
    "        #Recollect the movie box office revenue for each movie\n",
    "        movie_charac['movie_name'].drop_duplicates(keep='first',inplace=True)\n",
    "        movie_charac_reduced = movie_charac[['movie_freebase_id','movie_box_office_revenue']]\n",
    "        movie_charac_reduced.rename(columns={'movie_box_office_revenue':'Box_office'},inplace=True)\n",
    "        merge = pd.merge(balanced_dfs[i],movie_charac_reduced,how='left',on='movie_freebase_id')\n",
    "        #Split the dataframe according to the group\n",
    "        treatment_df = merge[merge['treat'] == 1]\n",
    "        control_df = merge[merge['treat'] == 0]\n",
    "        ax = axes[i]\n",
    "        #Plot the distribution of the performance parameter for each group\n",
    "        if param_perf == 'Box_office':\n",
    "            sns.histplot(treatment_df[param_perf], label='Treat', kde=True, stat='density', color='blue', log_scale=True, ax=ax)\n",
    "            sns.histplot(control_df[param_perf], label='Control', kde=True, stat='density', color='orange', log_scale=True, ax=ax)\n",
    "        elif param_perf == 'rating_average':\n",
    "            sns.histplot(treatment_df[param_perf],label='Treat', kde=True, stat='density', color='blue', ax=ax)\n",
    "            sns.histplot(control_df[param_perf],label='Control', kde=True, stat='density', color='orange', ax=ax)\n",
    "        if param_perf == 'Box_office':\n",
    "            ax.set_xlabel('Movie Box Office Revenue')\n",
    "        elif param_perf == 'rating_average':\n",
    "            ax.set_xlabel('Movie Rating Average')\n",
    "        ax.set_ylabel('Density')\n",
    "        ax.legend()\n",
    "        if i < len(cutoff)-1:\n",
    "            ax.set_title(f'{int(cutoff[i])} - {int(cutoff[i+1])}')\n",
    "        if i == len(cutoff)-1:\n",
    "            ax.set_title(f'{int(cutoff[i])} - {int(df[\"movie_release_year\"].max())}')\n",
    "    plt.tight_layout()\n",
    "    plt.show()"
   ]
  },
  {
   "cell_type": "markdown",
   "id": "279e041d",
   "metadata": {},
   "source": [
    "### Ethnicity vs Box office"
   ]
  },
  {
   "cell_type": "markdown",
   "id": "0d082380",
   "metadata": {},
   "source": [
    "In this section we will try to figure out if there is a correlation between the diversity of a cast (in terms of ethnicity) and the box office revenue of a movie. The values in the columns `ethnicity_diversity` is based on the number of different ethnicity in the cast of movie. It is computed with the simpson diversity.  \n",
    "Then for each part of the dataframe we perfomed a causal analysis on the Movie Box Office Revenue by performing a propensity score matching on the `movie_languages_count` and on the `rating_average`. Finally we performed an Ordinary Least Squares (OLS) regression analysis on the balanced dataset. "
   ]
  },
  {
   "cell_type": "code",
   "execution_count": null,
   "id": "db65d700",
   "metadata": {},
   "outputs": [],
   "source": [
    "#Filter the dataframe according to the performance parameter\n",
    "ethn_div_filter = filtering(ethn_div,'box_office')\n",
    "\n",
    "#Split the dataframe in number_parts according to the year of release\n",
    "period_df ,cutoff = year_release_split(ethn_div_filter, number_parts=10)\n",
    "\n",
    "#Perform the regression for each period \n",
    "balanced_dfs, mods = compute_all_regressions(period_df=period_df,\n",
    "                        formula = 'movie_box_office_revenue ~ ethnicity_diversity',\n",
    "                        formula_propensity_score = 'ethnicity_diversity ~ movie_languages_count + rating_average',\n",
    "                        diversity_name = 'ethnicity_diversity',\n",
    "                        columns = ['movie_languages_count','rating_average'])\n",
    "\n",
    "print('Size of the Dataframe before Filtering :',ethn_div.shape[0])\n",
    "print('Size of the Dataframe after Filtering :',ethn_div_filter.shape[0])"
   ]
  },
  {
   "cell_type": "code",
   "execution_count": null,
   "id": "fbf300e9",
   "metadata": {},
   "outputs": [],
   "source": [
    "plot_regression_line(balanced_dfs,mods,cutoff,'ethnicity_diversity','movie_box_office_revenue')"
   ]
  },
  {
   "cell_type": "markdown",
   "id": "25ae56af",
   "metadata": {},
   "source": [
    "The movies are splited in 10 groups according to their year of release with approximately the same number of movies in each.   \n",
    "We can notice a statistically significative positive correlation (pvalue(Ethnicity Diversity) < 0.05) between the Ethnicity Diversity and the Box Office Revenue along the years except for the year range (1925-1973).   \n",
    "One reason may explain this difference:\n",
    "- The dataframe is missing many actors per movie for the ones released before the 70's \n",
    "\n",
    "Perhaps having a diviersified cast was not correlated with a better Box Office Revenue before the 70's however, from the 70's to nowadays it does has an impact. More the casting is Diversified in terms of ethnicity more the box office revenue will be high.  "
   ]
  },
  {
   "cell_type": "code",
   "execution_count": null,
   "id": "8210d66b",
   "metadata": {},
   "outputs": [],
   "source": [
    "plot_comparison(balanced_dfs,cutoff,'Box_office')"
   ]
  },
  {
   "cell_type": "markdown",
   "id": "8ccd1403",
   "metadata": {},
   "source": [
    "This plot shows the distribution of the 2 groups (Control (Low Diversity) and Treatment (High Diversity)) of the Box Office Revenue. As stated before the movies are splited in 10 as well. It allows to figure out if there is a difference along the time between the control and treatement group. Overall, the movie box office for the treated group is higher than the one of the control group except for the year range (1925-1973). Therefore, according to both plots above, we can conclude that the treatment (High Diversity) has an impact on the box office revenue of a movie after the 70's.\n",
    "\n",
    " "
   ]
  },
  {
   "cell_type": "markdown",
   "id": "9d81013e",
   "metadata": {},
   "source": [
    "### Gender vs Box office"
   ]
  },
  {
   "cell_type": "markdown",
   "id": "531fa443",
   "metadata": {},
   "source": [
    "In this section we will try to figure out if there is a correlation between the diversity of a cast (in terms of gender) and the box office revenue of a movie. The values in the columns `gender_diversity` is based on the number of different ethnicity in the cast of movie. It is computed with the simpson diversity.  \n",
    "Then for each part we perfomed a causal analysis on the Movie Box Office Revenue by performing a propensity score matching on the `movie_languages_count` and on the `rating_average`. Finally, we performed an Ordinary Least Squares (OLS) regression analysis on the balanced dataset. "
   ]
  },
  {
   "cell_type": "code",
   "execution_count": null,
   "id": "14c50de4",
   "metadata": {},
   "outputs": [],
   "source": [
    "#Filter the dataframe according to the performance parameter\n",
    "gen_div_filter = filtering(gen_div,'box_office')\n",
    "\n",
    "#Split the dataframe in number_parts according to the year of release\n",
    "period_df_gb ,cutoff_gb = year_release_split(gen_div_filter, number_parts=10)\n",
    "\n",
    "#Perform the regression for each period\n",
    "balanced_dfs_gb, mods_gb = compute_all_regressions(period_df=period_df_gb,\n",
    "                        formula = 'movie_box_office_revenue ~ gender_diversity',\n",
    "                        formula_propensity_score = 'gender_diversity ~ movie_languages_count + rating_average',\n",
    "                        diversity_name = 'gender_diversity',\n",
    "                        columns = ['movie_languages_count','rating_average'])\n",
    "\n",
    "print('Size of the Dataframe before filtering :',gen_div.shape[0])\n",
    "print('Size of the Dataframe after filtering :',gen_div_filter.shape[0])\n"
   ]
  },
  {
   "cell_type": "code",
   "execution_count": null,
   "id": "97422120",
   "metadata": {},
   "outputs": [],
   "source": [
    "plot_regression_line(balanced_dfs_gb,mods_gb,cutoff_gb,'gender_diversity','movie_box_office_revenue', 'Gender Diversity')"
   ]
  },
  {
   "cell_type": "markdown",
   "id": "e051227f",
   "metadata": {},
   "source": [
    "On these plots above the regression line (in red) is very flat, furthermore the pvalue of the Gender Diversity is alaways above 0.05 which means that we cannot reject the null hypothesis (there is no difference between the treated and the control group for the box office revenue). "
   ]
  },
  {
   "cell_type": "code",
   "execution_count": null,
   "id": "ec6ec941",
   "metadata": {},
   "outputs": [],
   "source": [
    "plot_comparison(balanced_dfs_gb,cutoff_gb,'Box_office')"
   ]
  },
  {
   "cell_type": "markdown",
   "id": "1c7d4653",
   "metadata": {},
   "source": [
    "This plot shows the distribution of the 2 groups (Control (Low Diversity) and Treatment (High Diversity)) of the Box Office Revenue. According to the plot there is no difference between the 2 groups because both distributions overlap.  \n",
    "After examining both plots, it can be inferred that there is no correlation bewtween the diversity in a cast (in terms of gender) and the movie box office revenue of a movie."
   ]
  },
  {
   "cell_type": "markdown",
   "id": "885a7a0e",
   "metadata": {},
   "source": [
    "### Ethnicity vs Ratings"
   ]
  },
  {
   "cell_type": "markdown",
   "id": "7a1c33ec",
   "metadata": {},
   "source": [
    "In this section we will try to figure out if there is a correlation between the diversity of a cast (in terms of ethnicity) and the rating of a movie. The values in the columns `ethnicity_diversity` is based on the number of different ethnicity in the cast of movie. It is computed with the simpson diversity.  \n",
    "Then, for each part we perfomed a causal analysis on the Rating by performing a propensity score matching on the `movie_languages_count` and on the `movie_box_office_revenue`. Finally, we performed an Ordinary Least Squares (OLS) regression analysis on the balanced dataset. "
   ]
  },
  {
   "cell_type": "code",
   "execution_count": null,
   "id": "9cfca817",
   "metadata": {},
   "outputs": [],
   "source": [
    "#Filter the dataframe according to the performance parameter\n",
    "ethn_div_filter_r = filtering(ethn_div,'rating')\n",
    "\n",
    "#Split the dataframe in number_parts according to the year of release\n",
    "period_df_er ,cutoff_er = year_release_split(ethn_div_filter_r, number_parts=10)\n",
    "\n",
    "#Perform the regression for each period\n",
    "balanced_dfs_er, mods_er = compute_all_regressions(period_df=period_df_er,\n",
    "                        formula = 'rating_average ~ ethnicity_diversity',\n",
    "                        formula_propensity_score = 'ethnicity_diversity ~ movie_languages_count + movie_box_office_revenue',\n",
    "                        diversity_name = 'ethnicity_diversity',\n",
    "                        columns = ['movie_languages_count','rating_average'])\n",
    "\n",
    "print('Size of the Dataframe before Filtering :',ethn_div.shape[0])\n",
    "print('Size of the Dataframe after Filtering :',ethn_div_filter_r.shape[0])\n"
   ]
  },
  {
   "cell_type": "code",
   "execution_count": null,
   "id": "19db8151",
   "metadata": {},
   "outputs": [],
   "source": [
    "plot_regression_line(balanced_dfs_er,mods_er, cutoff_er,'ethnicity_diversity', 'rating_average', 'Ethnicity Diversity', 'Rating Average')\n"
   ]
  },
  {
   "cell_type": "markdown",
   "id": "68dcacbd",
   "metadata": {},
   "source": [
    "On these plots above the regression line (in red) is very flat or slightly goes down, furthermore on most of them, the pvalue of the Ethnicity Diversity is alaways above 0.05 which means that we cannot reject the null hypothesis (there is no difference between the treated and the control group for the box office revenue). For the movies released between 2005 and 2008 the pvalue is below 0.05 and the slope is negative which can be translated by a statistically significant negative correlation between the ethnicity diversity and the rating of a movie."
   ]
  },
  {
   "cell_type": "code",
   "execution_count": null,
   "id": "81e1772a",
   "metadata": {},
   "outputs": [],
   "source": [
    "plot_comparison(balanced_dfs_er,cutoff_er,'rating_average')"
   ]
  },
  {
   "cell_type": "markdown",
   "id": "710fb8c5",
   "metadata": {},
   "source": [
    "This plot shows the distribution of the 2 groups (Control (Low Diversity) and Treatment (High Diversity)) of the Rating of a movie. According to the plot there is almost no difference between the 2 distributions. They overlap most of time. Sometimes the treatment is even more on the left which means that the the movies with the lowest diversity get a better rating.  \n",
    "It is hard to conclude based on the analysis of both plots but we can affirm at least there is no positive correlation between the diversity in terms of ethnictiy and the rating of a movie. As in most of the year range there is no correlation between the diversity and the rating it might be the case on the entire period. To obtain more precision please check out the causal analysis on the entire period."
   ]
  },
  {
   "cell_type": "markdown",
   "id": "5219d145",
   "metadata": {},
   "source": [
    "### Gender vs Ratings"
   ]
  },
  {
   "cell_type": "markdown",
   "id": "0b0f6d97",
   "metadata": {},
   "source": [
    "In this section we will try to figure out if there is a correlation between the diversity of a cast (in terms of gender) and the rating of a movie. The values in the columns `gender_diversity` is based on the number of different ethnicity in the cast of movie. It is computed with the simpson diversity.  \n",
    "Then, for each part we perfomed a causal analysis on the Rating by performing a propensity score matching on the `movie_languages_count` and on the `movie_box_office_revenue`. Finally, we performed an Ordinary Least Squares (OLS) regression analysis on the balanced dataset. "
   ]
  },
  {
   "cell_type": "code",
   "execution_count": null,
   "id": "dc7c4861",
   "metadata": {},
   "outputs": [],
   "source": [
    "#Filter the dataframe according to the performance parameter\n",
    "gen_div_filter_r = filtering(gen_div,'rating')\n",
    "\n",
    "#Split the dataframe in number_parts according to the year of release\n",
    "period_df_gr ,cutoff_gr = year_release_split(gen_div_filter_r, number_parts=10)\n",
    "\n",
    "#Perform the regression for each period\n",
    "balanced_dfs_gr, mods_gr = compute_all_regressions(period_df=period_df_gr,\n",
    "                        formula = 'rating_average ~ gender_diversity',\n",
    "                        formula_propensity_score = 'gender_diversity ~ movie_languages_count + movie_box_office_revenue',\n",
    "                        diversity_name = 'gender_diversity',\n",
    "                        columns = ['movie_languages_count','rating_average'])\n",
    "\n",
    "print('Size of the Dataframe before filtering :',gen_div.shape[0])\n",
    "print('Size of the Dataframe after filtering :',gen_div_filter_r.shape[0])"
   ]
  },
  {
   "cell_type": "code",
   "execution_count": null,
   "id": "e060b810",
   "metadata": {},
   "outputs": [],
   "source": [
    "plot_regression_line(balanced_dfs_gr,mods_gr, cutoff_gr,'gender_diversity', 'rating_average', 'Gender Diversity', 'Rating Average')\n"
   ]
  },
  {
   "cell_type": "markdown",
   "id": "6b92d287",
   "metadata": {},
   "source": [
    "On these plots above the regression line (in red) is very flat or slightly goes down, furthermore the pvalue of the Ethnicity Diversity is alaways above 0.05 which means that we cannot reject the null hypothesis (there is no difference between the treated (movies with a high diversity) and the control (movies with a low diversity) group for the box office revenue). "
   ]
  },
  {
   "cell_type": "code",
   "execution_count": null,
   "id": "65fe9d46",
   "metadata": {},
   "outputs": [],
   "source": [
    "plot_comparison(balanced_dfs_gr,cutoff_gr,'rating_average')"
   ]
  },
  {
   "cell_type": "markdown",
   "id": "2b125ac5",
   "metadata": {},
   "source": [
    "This plot shows the distribution of the 2 groups (Control (Low Diversity) and Treatment (High Diversity)) of the Rating of a movie. According to the plot there is  no difference because both distributions overlap most of time.\n",
    "Based on the analysis of both plots but we can affirm at least there is no positive correlation between the diversity in terms of ethnictiy and the rating of a movie. "
   ]
  }
 ],
 "metadata": {
  "kernelspec": {
   "display_name": "Python 3 (ipykernel)",
   "language": "python",
   "name": "python3"
  },
  "language_info": {
   "codemirror_mode": {
    "name": "ipython",
    "version": 3
   },
   "file_extension": ".py",
   "mimetype": "text/x-python",
   "name": "python",
   "nbconvert_exporter": "python",
   "pygments_lexer": "ipython3",
   "version": "3.9.12"
  }
 },
 "nbformat": 4,
 "nbformat_minor": 5
}
