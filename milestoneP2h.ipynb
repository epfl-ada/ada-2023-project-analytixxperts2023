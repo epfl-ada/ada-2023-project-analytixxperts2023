{
 "cells": [
  {
   "cell_type": "code",
   "execution_count": 1,
   "id": "eaf45786-33bb-41c1-8e50-19f4e9c545c4",
   "metadata": {},
   "outputs": [
    {
     "ename": "ModuleNotFoundError",
     "evalue": "No module named 'src.helpers'",
     "output_type": "error",
     "traceback": [
      "\u001b[1;31m---------------------------------------------------------------------------\u001b[0m",
      "\u001b[1;31mModuleNotFoundError\u001b[0m                       Traceback (most recent call last)",
      "\u001b[1;32mc:\\Users\\David\\Desktop\\Ma3\\ADA\\Project_git\\ada-2023-project-analytixxperts2023\\milestoneP2h.ipynb Cell 1\u001b[0m line \u001b[0;36m6\n\u001b[0;32m      <a href='vscode-notebook-cell:/c%3A/Users/David/Desktop/Ma3/ADA/Project_git/ada-2023-project-analytixxperts2023/milestoneP2h.ipynb#W0sZmlsZQ%3D%3D?line=3'>4</a>\u001b[0m \u001b[39mimport\u001b[39;00m \u001b[39mmatplotlib\u001b[39;00m\u001b[39m.\u001b[39;00m\u001b[39mpyplot\u001b[39;00m \u001b[39mas\u001b[39;00m \u001b[39mplt\u001b[39;00m\n\u001b[0;32m      <a href='vscode-notebook-cell:/c%3A/Users/David/Desktop/Ma3/ADA/Project_git/ada-2023-project-analytixxperts2023/milestoneP2h.ipynb#W0sZmlsZQ%3D%3D?line=4'>5</a>\u001b[0m \u001b[39mimport\u001b[39;00m \u001b[39mseaborn\u001b[39;00m \u001b[39mas\u001b[39;00m \u001b[39msns\u001b[39;00m\n\u001b[1;32m----> <a href='vscode-notebook-cell:/c%3A/Users/David/Desktop/Ma3/ADA/Project_git/ada-2023-project-analytixxperts2023/milestoneP2h.ipynb#W0sZmlsZQ%3D%3D?line=5'>6</a>\u001b[0m \u001b[39mfrom\u001b[39;00m \u001b[39msrc\u001b[39;00m\u001b[39m.\u001b[39;00m\u001b[39mhelpers\u001b[39;00m \u001b[39mimport\u001b[39;00m \u001b[39m*\u001b[39m\n\u001b[0;32m      <a href='vscode-notebook-cell:/c%3A/Users/David/Desktop/Ma3/ADA/Project_git/ada-2023-project-analytixxperts2023/milestoneP2h.ipynb#W0sZmlsZQ%3D%3D?line=6'>7</a>\u001b[0m \u001b[39mfrom\u001b[39;00m \u001b[39msrc\u001b[39;00m\u001b[39m.\u001b[39;00m\u001b[39mapiQueries\u001b[39;00m \u001b[39mimport\u001b[39;00m getLabelFromFBID, getInfoFromTMDB, multiprocess_query\n\u001b[0;32m      <a href='vscode-notebook-cell:/c%3A/Users/David/Desktop/Ma3/ADA/Project_git/ada-2023-project-analytixxperts2023/milestoneP2h.ipynb#W0sZmlsZQ%3D%3D?line=7'>8</a>\u001b[0m \u001b[39mfrom\u001b[39;00m \u001b[39mscipy\u001b[39;00m\u001b[39m.\u001b[39;00m\u001b[39mstats\u001b[39;00m \u001b[39mimport\u001b[39;00m normaltest\n",
      "\u001b[1;31mModuleNotFoundError\u001b[0m: No module named 'src.helpers'"
     ]
    }
   ],
   "source": [
    "# Useful imports\n",
    "\n",
    "import pandas as pd\n",
    "import matplotlib.pyplot as plt\n",
    "import seaborn as sns\n",
    "from src.helpers import *\n",
    "from src.apiQueries import getLabelFromFBID, getInfoFromTMDB, multiprocess_query\n",
    "from scipy.stats import normaltest"
   ]
  },
  {
   "cell_type": "markdown",
   "id": "85c0ac32-a5a5-4367-af25-166f0f46982b",
   "metadata": {
    "tags": []
   },
   "source": [
    "# A) Data exploration, insights and cleaning"
   ]
  },
  {
   "cell_type": "markdown",
   "id": "89ff4761-5384-4540-a666-f36af5469a05",
   "metadata": {},
   "source": [
    "Our project aims to analyze the _impact of casting diversity on the dynamics of roles and the performance of a film_. The purpose of this initial notebook is to become acquainted with the data, preprocess it, and generate meaningful insights from it. The key variables in our project are \"diversity\" and \"performance.\" We have chosen to measure these as follows:\n",
    "\n",
    "- Casting diversity: Ethnicity, gender, and age of actors\n",
    "- Film performance: Box office earnings, ratings, languages, (and potentially the number of subsequent films).\n",
    "\n",
    "These definitions may change over time if necessary."
   ]
  },
  {
   "cell_type": "markdown",
   "id": "542edff3-298b-45ec-a19e-5ad25b9ad0e3",
   "metadata": {},
   "source": [
    "We start by loading the CMU dataset files into 4 different dataframes : `movies_df`, `characters_df`, `plot_summaries_df`, `tvtropes_df`. The `helpers.py` handles all necessary formatting and casting. For easier manipulation and better consistency, we renamed all columns by prefixing them with \"movie\", \"character\" or \"actor\", and used a _snake_case_ formatting."
   ]
  },
  {
   "cell_type": "code",
   "execution_count": null,
   "id": "4ce09ff1-d1f8-42c8-b295-74902a14f7ce",
   "metadata": {},
   "outputs": [],
   "source": [
    "movies_df = load_movies()\n",
    "characters_df = load_characters()\n",
    "plot_summary_df = load_plot_summaries()\n",
    "tvtropes_df = load_tvtropes()"
   ]
  },
  {
   "cell_type": "markdown",
   "id": "69db666e-a635-4ac4-a2c5-e06def913314",
   "metadata": {
    "tags": []
   },
   "source": [
    "### Movies dataframe"
   ]
  },
  {
   "cell_type": "markdown",
   "id": "c24d19be-a4be-45d3-a4ec-5a8c48bb8df1",
   "metadata": {},
   "source": [
    "The `movies` dataframe is from the CMU movies dataset and contains details about movies:"
   ]
  },
  {
   "cell_type": "code",
   "execution_count": null,
   "id": "19de46f8-aa3e-40a5-bcd1-c69f44fdf43a",
   "metadata": {},
   "outputs": [
    {
     "data": {
      "text/html": [
       "<div>\n",
       "<style scoped>\n",
       "    .dataframe tbody tr th:only-of-type {\n",
       "        vertical-align: middle;\n",
       "    }\n",
       "\n",
       "    .dataframe tbody tr th {\n",
       "        vertical-align: top;\n",
       "    }\n",
       "\n",
       "    .dataframe thead th {\n",
       "        text-align: right;\n",
       "    }\n",
       "</style>\n",
       "<table border=\"1\" class=\"dataframe\">\n",
       "  <thead>\n",
       "    <tr style=\"text-align: right;\">\n",
       "      <th></th>\n",
       "      <th>movie_wikipedia_id</th>\n",
       "      <th>movie_freebase_id</th>\n",
       "      <th>movie_name</th>\n",
       "      <th>movie_release_date</th>\n",
       "      <th>movie_box_office_revenue</th>\n",
       "      <th>movie_runtime</th>\n",
       "      <th>movie_languages</th>\n",
       "      <th>movie_countries</th>\n",
       "      <th>movie_genres</th>\n",
       "    </tr>\n",
       "  </thead>\n",
       "  <tbody>\n",
       "    <tr>\n",
       "      <th>0</th>\n",
       "      <td>975900</td>\n",
       "      <td>/m/03vyhn</td>\n",
       "      <td>Ghosts of Mars</td>\n",
       "      <td>2001-08-24</td>\n",
       "      <td>14010832.0</td>\n",
       "      <td>98.0</td>\n",
       "      <td>{\"/m/02h40lc\": \"English Language\"}</td>\n",
       "      <td>{\"/m/09c7w0\": \"United States of America\"}</td>\n",
       "      <td>{\"/m/01jfsb\": \"Thriller\", \"/m/06n90\": \"Science...</td>\n",
       "    </tr>\n",
       "    <tr>\n",
       "      <th>1</th>\n",
       "      <td>3196793</td>\n",
       "      <td>/m/08yl5d</td>\n",
       "      <td>Getting Away with Murder: The JonBenét Ramsey ...</td>\n",
       "      <td>2000-02-16</td>\n",
       "      <td>NaN</td>\n",
       "      <td>95.0</td>\n",
       "      <td>{\"/m/02h40lc\": \"English Language\"}</td>\n",
       "      <td>{\"/m/09c7w0\": \"United States of America\"}</td>\n",
       "      <td>{\"/m/02n4kr\": \"Mystery\", \"/m/03bxz7\": \"Biograp...</td>\n",
       "    </tr>\n",
       "    <tr>\n",
       "      <th>2</th>\n",
       "      <td>28463795</td>\n",
       "      <td>/m/0crgdbh</td>\n",
       "      <td>Brun bitter</td>\n",
       "      <td>1988</td>\n",
       "      <td>NaN</td>\n",
       "      <td>83.0</td>\n",
       "      <td>{\"/m/05f_3\": \"Norwegian Language\"}</td>\n",
       "      <td>{\"/m/05b4w\": \"Norway\"}</td>\n",
       "      <td>{\"/m/0lsxr\": \"Crime Fiction\", \"/m/07s9rl0\": \"D...</td>\n",
       "    </tr>\n",
       "    <tr>\n",
       "      <th>3</th>\n",
       "      <td>9363483</td>\n",
       "      <td>/m/0285_cd</td>\n",
       "      <td>White Of The Eye</td>\n",
       "      <td>1987</td>\n",
       "      <td>NaN</td>\n",
       "      <td>110.0</td>\n",
       "      <td>{\"/m/02h40lc\": \"English Language\"}</td>\n",
       "      <td>{\"/m/07ssc\": \"United Kingdom\"}</td>\n",
       "      <td>{\"/m/01jfsb\": \"Thriller\", \"/m/0glj9q\": \"Erotic...</td>\n",
       "    </tr>\n",
       "    <tr>\n",
       "      <th>4</th>\n",
       "      <td>261236</td>\n",
       "      <td>/m/01mrr1</td>\n",
       "      <td>A Woman in Flames</td>\n",
       "      <td>1983</td>\n",
       "      <td>NaN</td>\n",
       "      <td>106.0</td>\n",
       "      <td>{\"/m/04306rv\": \"German Language\"}</td>\n",
       "      <td>{\"/m/0345h\": \"Germany\"}</td>\n",
       "      <td>{\"/m/07s9rl0\": \"Drama\"}</td>\n",
       "    </tr>\n",
       "  </tbody>\n",
       "</table>\n",
       "</div>"
      ],
      "text/plain": [
       "   movie_wikipedia_id movie_freebase_id  \\\n",
       "0              975900         /m/03vyhn   \n",
       "1             3196793         /m/08yl5d   \n",
       "2            28463795        /m/0crgdbh   \n",
       "3             9363483        /m/0285_cd   \n",
       "4              261236         /m/01mrr1   \n",
       "\n",
       "                                          movie_name movie_release_date  \\\n",
       "0                                     Ghosts of Mars         2001-08-24   \n",
       "1  Getting Away with Murder: The JonBenét Ramsey ...         2000-02-16   \n",
       "2                                        Brun bitter               1988   \n",
       "3                                   White Of The Eye               1987   \n",
       "4                                  A Woman in Flames               1983   \n",
       "\n",
       "   movie_box_office_revenue  movie_runtime  \\\n",
       "0                14010832.0           98.0   \n",
       "1                       NaN           95.0   \n",
       "2                       NaN           83.0   \n",
       "3                       NaN          110.0   \n",
       "4                       NaN          106.0   \n",
       "\n",
       "                      movie_languages  \\\n",
       "0  {\"/m/02h40lc\": \"English Language\"}   \n",
       "1  {\"/m/02h40lc\": \"English Language\"}   \n",
       "2  {\"/m/05f_3\": \"Norwegian Language\"}   \n",
       "3  {\"/m/02h40lc\": \"English Language\"}   \n",
       "4   {\"/m/04306rv\": \"German Language\"}   \n",
       "\n",
       "                             movie_countries  \\\n",
       "0  {\"/m/09c7w0\": \"United States of America\"}   \n",
       "1  {\"/m/09c7w0\": \"United States of America\"}   \n",
       "2                     {\"/m/05b4w\": \"Norway\"}   \n",
       "3             {\"/m/07ssc\": \"United Kingdom\"}   \n",
       "4                    {\"/m/0345h\": \"Germany\"}   \n",
       "\n",
       "                                        movie_genres  \n",
       "0  {\"/m/01jfsb\": \"Thriller\", \"/m/06n90\": \"Science...  \n",
       "1  {\"/m/02n4kr\": \"Mystery\", \"/m/03bxz7\": \"Biograp...  \n",
       "2  {\"/m/0lsxr\": \"Crime Fiction\", \"/m/07s9rl0\": \"D...  \n",
       "3  {\"/m/01jfsb\": \"Thriller\", \"/m/0glj9q\": \"Erotic...  \n",
       "4                            {\"/m/07s9rl0\": \"Drama\"}  "
      ]
     },
     "execution_count": 4,
     "metadata": {},
     "output_type": "execute_result"
    }
   ],
   "source": [
    "movies_df.head()"
   ]
  },
  {
   "cell_type": "code",
   "execution_count": null,
   "id": "22ef4f60-b227-46c1-b8ff-93214c3a69f7",
   "metadata": {},
   "outputs": [
    {
     "name": "stdout",
     "output_type": "stream",
     "text": [
      "Number of movies: 81741\n"
     ]
    }
   ],
   "source": [
    "num_movies = movies_df.shape[0]\n",
    "print(f\"Number of movies: {num_movies}\")"
   ]
  },
  {
   "cell_type": "markdown",
   "id": "23cfad4e-599b-4d9c-b4df-4996bad91b98",
   "metadata": {},
   "source": [
    "Our dataset appears to contain a sufficient number of samples, which will render our analysis meaningful. Now, let's examine the distribution of movies across different years."
   ]
  },
  {
   "cell_type": "markdown",
   "id": "7ba40d1c-f45d-4f9a-8feb-3ad7c0e863d0",
   "metadata": {
    "tags": []
   },
   "source": [
    "#### Distribution of movies across different years."
   ]
  },
  {
   "cell_type": "code",
   "execution_count": null,
   "id": "83ed52c4-9d45-4cd8-add6-ea8c7f415615",
   "metadata": {
    "tags": []
   },
   "outputs": [
    {
     "data": {
      "image/png": "[encoded data removed]",
      "text/plain": [
       "<Figure size 640x480 with 1 Axes>"
      ]
     },
     "metadata": {},
     "output_type": "display_data"
    }
   ],
   "source": [
    "# Extract years from the release date of movies\n",
    "movies_df['movie_release_year'] = movies_df['movie_release_date'].str[:4].astype(float)\n",
    "\n",
    "nb_bins = movies_df['movie_release_year'].dropna().unique().shape[0]\n",
    "\n",
    "# Create a histogram with one bin per year\n",
    "plt.hist(movies_df['movie_release_year'], bins=nb_bins)\n",
    "\n",
    "plt.xlabel(\"Year\")\n",
    "plt.ylabel(\"Count\")\n",
    "plt.title(\"Movies count per year\")\n",
    "plt.show()"
   ]
  },
  {
   "cell_type": "markdown",
   "id": "fec6714f-2ad3-4872-82e1-c02076b4620f",
   "metadata": {},
   "source": [
    "It seems that there are some outliers in years. Let's examine them."
   ]
  },
  {
   "cell_type": "code",
   "execution_count": null,
   "id": "26741eb3-2b82-4561-8749-e8f3b2b27404",
   "metadata": {},
   "outputs": [
    {
     "data": {
      "text/html": [
       "<div>\n",
       "<style scoped>\n",
       "    .dataframe tbody tr th:only-of-type {\n",
       "        vertical-align: middle;\n",
       "    }\n",
       "\n",
       "    .dataframe tbody tr th {\n",
       "        vertical-align: top;\n",
       "    }\n",
       "\n",
       "    .dataframe thead th {\n",
       "        text-align: right;\n",
       "    }\n",
       "</style>\n",
       "<table border=\"1\" class=\"dataframe\">\n",
       "  <thead>\n",
       "    <tr style=\"text-align: right;\">\n",
       "      <th></th>\n",
       "      <th>movie_wikipedia_id</th>\n",
       "      <th>movie_freebase_id</th>\n",
       "      <th>movie_name</th>\n",
       "      <th>movie_release_date</th>\n",
       "      <th>movie_box_office_revenue</th>\n",
       "      <th>movie_runtime</th>\n",
       "      <th>movie_languages</th>\n",
       "      <th>movie_countries</th>\n",
       "      <th>movie_genres</th>\n",
       "      <th>movie_release_year</th>\n",
       "    </tr>\n",
       "  </thead>\n",
       "  <tbody>\n",
       "    <tr>\n",
       "      <th>62836</th>\n",
       "      <td>29666067</td>\n",
       "      <td>/m/0fphzrf</td>\n",
       "      <td>Hunting Season</td>\n",
       "      <td>1010-12-02</td>\n",
       "      <td>12160978.0</td>\n",
       "      <td>140.00</td>\n",
       "      <td>{\"/m/02hwyss\": \"Turkish Language\", \"/m/02h40lc...</td>\n",
       "      <td>{\"/m/01znc_\": \"Turkey\"}</td>\n",
       "      <td>{\"/m/0lsxr\": \"Crime Fiction\", \"/m/02n4kr\": \"My...</td>\n",
       "      <td>1010.0</td>\n",
       "    </tr>\n",
       "    <tr>\n",
       "      <th>57963</th>\n",
       "      <td>1082508</td>\n",
       "      <td>/m/044ggd</td>\n",
       "      <td>Roundhay Garden Scene</td>\n",
       "      <td>1888</td>\n",
       "      <td>NaN</td>\n",
       "      <td>0.03</td>\n",
       "      <td>{\"/m/06ppq\": \"Silent film\"}</td>\n",
       "      <td>{\"/m/07ssc\": \"United Kingdom\"}</td>\n",
       "      <td>{\"/m/02hmvc\": \"Short Film\", \"/m/06ppq\": \"Silen...</td>\n",
       "      <td>1888.0</td>\n",
       "    </tr>\n",
       "  </tbody>\n",
       "</table>\n",
       "</div>"
      ],
      "text/plain": [
       "       movie_wikipedia_id movie_freebase_id             movie_name  \\\n",
       "62836            29666067        /m/0fphzrf         Hunting Season   \n",
       "57963             1082508         /m/044ggd  Roundhay Garden Scene   \n",
       "\n",
       "      movie_release_date  movie_box_office_revenue  movie_runtime  \\\n",
       "62836         1010-12-02                12160978.0         140.00   \n",
       "57963               1888                       NaN           0.03   \n",
       "\n",
       "                                         movie_languages  \\\n",
       "62836  {\"/m/02hwyss\": \"Turkish Language\", \"/m/02h40lc...   \n",
       "57963                        {\"/m/06ppq\": \"Silent film\"}   \n",
       "\n",
       "                      movie_countries  \\\n",
       "62836         {\"/m/01znc_\": \"Turkey\"}   \n",
       "57963  {\"/m/07ssc\": \"United Kingdom\"}   \n",
       "\n",
       "                                            movie_genres  movie_release_year  \n",
       "62836  {\"/m/0lsxr\": \"Crime Fiction\", \"/m/02n4kr\": \"My...              1010.0  \n",
       "57963  {\"/m/02hmvc\": \"Short Film\", \"/m/06ppq\": \"Silen...              1888.0  "
      ]
     },
     "execution_count": 7,
     "metadata": {},
     "output_type": "execute_result"
    }
   ],
   "source": [
    "# Show the most recent movies\n",
    "movies_df.sort_values(by='movie_release_year', ascending=True).head(2)"
   ]
  },
  {
   "cell_type": "markdown",
   "id": "f52c7d4d-d091-42fd-9947-5a223cb1f7ab",
   "metadata": {},
   "source": [
    "There is only one outlier corresponding to the year 1010, which is highly unlikely. This outlier has the potential to introduce bias into our subsequent analysis, especially when we explore performance trends over time or attempt to standardize our data. Consequently, we have the option to either remove it or attempt to correct it.\n",
    "\n",
    "According to wikipedia, the _Hunting Season_ movie has been released in 2010 : https://en.wikipedia.org/wiki/Hunting_Season_(2010_film)\n",
    "\n",
    "Therefore, we will correct this error manually."
   ]
  },
  {
   "cell_type": "code",
   "execution_count": null,
   "id": "5834ac68-cdae-4c52-82b1-1f8a7afb819e",
   "metadata": {},
   "outputs": [],
   "source": [
    "# correct the date of the movie\n",
    "movies_df.loc[62836, 'movie_release_date'] = '2010-12-03'\n",
    "movies_df.loc[62836, 'movie_release_year'] = 2010"
   ]
  },
  {
   "cell_type": "code",
   "execution_count": null,
   "id": "a5d25052-c0d0-4c62-b1f5-202a0ffc157a",
   "metadata": {},
   "outputs": [
    {
     "data": {
      "image/png": "[encoded data removed]",
      "text/plain": [
       "<Figure size 640x480 with 1 Axes>"
      ]
     },
     "metadata": {},
     "output_type": "display_data"
    }
   ],
   "source": [
    "nb_bins = movies_df['movie_release_year'].dropna().unique().shape[0]\n",
    "\n",
    "# Create a histogram with one bin per year\n",
    "plt.hist(movies_df['movie_release_year'], bins=nb_bins)\n",
    "plt.xlabel(\"Year\")\n",
    "plt.ylabel(\"Count\")\n",
    "plt.title(\"Movies count per year\")\n",
    "plt.show()"
   ]
  },
  {
   "cell_type": "markdown",
   "id": "134a04ae-7366-48c6-975c-3110421e9965",
   "metadata": {},
   "source": [
    "Now, the chart depicting the distribution of movies over time is more legible. It is evident that our dataset includes a significantly larger number of movies from 1980 to 2010 compared to the earlier period. We will keep this in mind to determine if the imbalanced nature of the dataset over time poses any issues later."
   ]
  },
  {
   "cell_type": "code",
   "execution_count": null,
   "id": "301888be-f114-4569-9558-466fea113465",
   "metadata": {},
   "outputs": [
    {
     "name": "stdout",
     "output_type": "stream",
     "text": [
      "Percentage of movies released after 1980: 49.77%\n"
     ]
    }
   ],
   "source": [
    "# Calculate the percentage of movies released after 1980\n",
    "movies_after_1980 = movies_df[movies_df['movie_release_year'] > 1980]\n",
    "percentage_after_1980 = (len(movies_after_1980) / len(movies_df)) * 100\n",
    "\n",
    "print(f\"Percentage of movies released after 1980: {percentage_after_1980:.2f}%\")"
   ]
  },
  {
   "cell_type": "markdown",
   "id": "5a4f0b9a-eef0-47f2-83f4-43694fb1dc8a",
   "metadata": {
    "tags": []
   },
   "source": [
    "#### Missing data"
   ]
  },
  {
   "cell_type": "markdown",
   "id": "cbac61ab-3c17-484f-8d94-2be2e1a8912b",
   "metadata": {},
   "source": [
    "Given that we assess a movie's performance based on its box office revenue and the number of languages, let's investigate whether we have a sufficient amount of data for these features."
   ]
  },
  {
   "cell_type": "code",
   "execution_count": null,
   "id": "b448bbe7-0a46-4bb5-81c3-c8390923c548",
   "metadata": {
    "tags": []
   },
   "outputs": [
    {
     "data": {
      "image/png": "[encoded data removed]",
      "text/plain": [
       "<Figure size 1200x400 with 2 Axes>"
      ]
     },
     "metadata": {},
     "output_type": "display_data"
    },
    {
     "name": "stdout",
     "output_type": "stream",
     "text": [
      "Box Office :\n",
      "Data missing : 73340\n",
      "Data present : 8401\n",
      "\n",
      "Languages :\n",
      "Data missing : 0\n",
      "Data present : 81741\n"
     ]
    }
   ],
   "source": [
    "# Calculate missing data percentages for 'Box_office_revenue' column\n",
    "total_movies = len(movies_df)\n",
    "missing_box_office_count = movies_df['movie_box_office_revenue'].isna().sum()\n",
    "missing_box_office_percentage = (missing_box_office_count / len(movies_df)) * 100\n",
    "\n",
    "# Calculate missing data percentages for 'Languages' column\n",
    "missing_languages_count = movies_df['movie_languages'].isna().sum()\n",
    "missing_languages_percentage = (missing_languages_count / len(movies_df)) * 100\n",
    "\n",
    "# Create subplots for both pie charts side by side\n",
    "plt.figure(figsize=(12, 4))\n",
    "\n",
    "# First subplot (Box Office Revenue)\n",
    "plt.subplot(1, 2, 1)\n",
    "labels_box_office = ['Missing', 'Present']\n",
    "sizes_box_office = [missing_box_office_percentage, 100 - missing_box_office_percentage]\n",
    "colors_box_office = ['lightcoral', 'lightskyblue']\n",
    "explode_box_office = (0.1, 0)  # Explode the \"Missing\" slice\n",
    "plt.pie(sizes_box_office, labels=labels_box_office, colors=colors_box_office, autopct='%1.1f%%', explode=explode_box_office, startangle=140)\n",
    "plt.title('Missing Box Office Revenue Data')\n",
    "plt.axis('equal')  # Equal aspect ratio ensures that pie is drawn as a circle\n",
    "\n",
    "# Second subplot (Languages)\n",
    "plt.subplot(1, 2, 2)\n",
    "labels_languages = ['Missing', 'Present']\n",
    "sizes_languages = [missing_languages_percentage, 100 - missing_languages_percentage]\n",
    "colors_languages = ['lightcoral', 'lightskyblue']\n",
    "explode_languages = (0.1, 0)  # Explode the \"Missing\" slice\n",
    "plt.pie(sizes_languages, labels=labels_languages, colors=colors_languages, autopct='%1.1f%%', explode=explode_languages, startangle=140)\n",
    "plt.title('Missing Languages Data')\n",
    "plt.axis('equal')  # Equal aspect ratio ensures that pie is drawn as a circle\n",
    "\n",
    "plt.tight_layout()  # Ensure subplots don't overlap\n",
    "plt.show()\n",
    "\n",
    "print(f\"Box Office :\\nData missing : {missing_box_office_count}\\nData present : {total_movies - missing_box_office_count}\\n\")\n",
    "print(f\"Languages :\\nData missing : {missing_languages_count}\\nData present : {total_movies - missing_languages_count}\")"
   ]
  },
  {
   "cell_type": "markdown",
   "id": "09391183-19bd-4a5d-9806-9237bd2c1798",
   "metadata": {},
   "source": [
    "It appears that 89.9% of the box office revenue data for movies is missing, which accounts for a significant portion of our dataset. Consequently, we will explore whether the movie ratings provide sufficient information for measuring movie performance. The movie rating will be treated in section B.\n",
    "\n",
    "Concerning the languages, it appears that no information is missing. However, if the language count repartition is almost constant, that would mean that it's not relevant for our analysis. Therefore, let's analyze whether the language count for each movie exhibits heterogeneity."
   ]
  },
  {
   "cell_type": "code",
   "execution_count": null,
   "id": "26179e23-23f3-4de0-bfe8-89b59c13c260",
   "metadata": {},
   "outputs": [],
   "source": [
    "# Calculate the number of unique languages for each movie\n",
    "movies_df['movie_languages_count'] = movies_df['movie_languages'].apply(lambda x: len(set(x)))"
   ]
  },
  {
   "cell_type": "code",
   "execution_count": null,
   "id": "ad2ac13e-e477-4962-b73d-449a70db406e",
   "metadata": {},
   "outputs": [
    {
     "data": {
      "image/png": "[encoded data removed]",
      "text/plain": [
       "<Figure size 800x500 with 1 Axes>"
      ]
     },
     "metadata": {},
     "output_type": "display_data"
    }
   ],
   "source": [
    "# Create a histogram for the number of unique languages\n",
    "plt.figure(figsize=(8, 5))\n",
    "plt.hist(movies_df['movie_languages_count'])\n",
    "plt.xlabel('Number of Unique Languages')\n",
    "plt.ylabel('Frequency')\n",
    "plt.title('Distribution of Unique Languages Count in Movies')\n",
    "plt.grid(axis='y', linestyle='--', alpha=0.7)\n",
    "\n",
    "plt.show()"
   ]
  },
  {
   "cell_type": "markdown",
   "id": "94e6ed90-aa3e-4a4a-b596-c8403922d982",
   "metadata": {},
   "source": [
    "Hopefully, there is a variety in the language counts, which would mean that this feature could be relevant for our research."
   ]
  },
  {
   "cell_type": "markdown",
   "id": "0e384907-5cc7-4007-af33-bb249b26fd21",
   "metadata": {
    "tags": []
   },
   "source": [
    "### Characters dataframe"
   ]
  },
  {
   "cell_type": "markdown",
   "id": "364de00f-d9b2-43a4-8480-2caa1766225b",
   "metadata": {},
   "source": [
    "The `characters` dataframe is from the CMU movies dataset and contains details about movie characters."
   ]
  },
  {
   "cell_type": "code",
   "execution_count": null,
   "id": "7cd6b64e-d2ab-438a-959b-291dcc9f020c",
   "metadata": {},
   "outputs": [
    {
     "data": {
      "text/html": [
       "<div>\n",
       "<style scoped>\n",
       "    .dataframe tbody tr th:only-of-type {\n",
       "        vertical-align: middle;\n",
       "    }\n",
       "\n",
       "    .dataframe tbody tr th {\n",
       "        vertical-align: top;\n",
       "    }\n",
       "\n",
       "    .dataframe thead th {\n",
       "        text-align: right;\n",
       "    }\n",
       "</style>\n",
       "<table border=\"1\" class=\"dataframe\">\n",
       "  <thead>\n",
       "    <tr style=\"text-align: right;\">\n",
       "      <th></th>\n",
       "      <th>movie_wikipedia_id</th>\n",
       "      <th>movie_freebase_id</th>\n",
       "      <th>movie_release_date</th>\n",
       "      <th>character_name</th>\n",
       "      <th>actor_date_of_birth</th>\n",
       "      <th>actor_gender</th>\n",
       "      <th>actor_height_meters</th>\n",
       "      <th>actor_ethnicity_freebase_id</th>\n",
       "      <th>actor_name</th>\n",
       "      <th>actor_age_at_movie_release</th>\n",
       "      <th>character_actor_freebase_map_id</th>\n",
       "      <th>character_freebase_id</th>\n",
       "      <th>actor_freebase_id</th>\n",
       "    </tr>\n",
       "  </thead>\n",
       "  <tbody>\n",
       "    <tr>\n",
       "      <th>0</th>\n",
       "      <td>975900</td>\n",
       "      <td>/m/03vyhn</td>\n",
       "      <td>2001-08-24</td>\n",
       "      <td>Akooshay</td>\n",
       "      <td>1958-08-26</td>\n",
       "      <td>F</td>\n",
       "      <td>1.620</td>\n",
       "      <td>NaN</td>\n",
       "      <td>Wanda De Jesus</td>\n",
       "      <td>42.0</td>\n",
       "      <td>/m/0bgchxw</td>\n",
       "      <td>/m/0bgcj3x</td>\n",
       "      <td>/m/03wcfv7</td>\n",
       "    </tr>\n",
       "    <tr>\n",
       "      <th>1</th>\n",
       "      <td>975900</td>\n",
       "      <td>/m/03vyhn</td>\n",
       "      <td>2001-08-24</td>\n",
       "      <td>Lieutenant Melanie Ballard</td>\n",
       "      <td>1974-08-15</td>\n",
       "      <td>F</td>\n",
       "      <td>1.780</td>\n",
       "      <td>/m/044038p</td>\n",
       "      <td>Natasha Henstridge</td>\n",
       "      <td>27.0</td>\n",
       "      <td>/m/0jys3m</td>\n",
       "      <td>/m/0bgchn4</td>\n",
       "      <td>/m/0346l4</td>\n",
       "    </tr>\n",
       "    <tr>\n",
       "      <th>2</th>\n",
       "      <td>975900</td>\n",
       "      <td>/m/03vyhn</td>\n",
       "      <td>2001-08-24</td>\n",
       "      <td>Desolation Williams</td>\n",
       "      <td>1969-06-15</td>\n",
       "      <td>M</td>\n",
       "      <td>1.727</td>\n",
       "      <td>/m/0x67</td>\n",
       "      <td>Ice Cube</td>\n",
       "      <td>32.0</td>\n",
       "      <td>/m/0jys3g</td>\n",
       "      <td>/m/0bgchn_</td>\n",
       "      <td>/m/01vw26l</td>\n",
       "    </tr>\n",
       "    <tr>\n",
       "      <th>3</th>\n",
       "      <td>975900</td>\n",
       "      <td>/m/03vyhn</td>\n",
       "      <td>2001-08-24</td>\n",
       "      <td>Sgt Jericho Butler</td>\n",
       "      <td>1967-09-12</td>\n",
       "      <td>M</td>\n",
       "      <td>1.750</td>\n",
       "      <td>NaN</td>\n",
       "      <td>Jason Statham</td>\n",
       "      <td>33.0</td>\n",
       "      <td>/m/02vchl6</td>\n",
       "      <td>/m/0bgchnq</td>\n",
       "      <td>/m/034hyc</td>\n",
       "    </tr>\n",
       "    <tr>\n",
       "      <th>4</th>\n",
       "      <td>975900</td>\n",
       "      <td>/m/03vyhn</td>\n",
       "      <td>2001-08-24</td>\n",
       "      <td>Bashira Kincaid</td>\n",
       "      <td>1977-09-25</td>\n",
       "      <td>F</td>\n",
       "      <td>1.650</td>\n",
       "      <td>NaN</td>\n",
       "      <td>Clea DuVall</td>\n",
       "      <td>23.0</td>\n",
       "      <td>/m/02vbb3r</td>\n",
       "      <td>/m/0bgchp9</td>\n",
       "      <td>/m/01y9xg</td>\n",
       "    </tr>\n",
       "  </tbody>\n",
       "</table>\n",
       "</div>"
      ],
      "text/plain": [
       "   movie_wikipedia_id movie_freebase_id movie_release_date  \\\n",
       "0              975900         /m/03vyhn         2001-08-24   \n",
       "1              975900         /m/03vyhn         2001-08-24   \n",
       "2              975900         /m/03vyhn         2001-08-24   \n",
       "3              975900         /m/03vyhn         2001-08-24   \n",
       "4              975900         /m/03vyhn         2001-08-24   \n",
       "\n",
       "               character_name actor_date_of_birth actor_gender  \\\n",
       "0                    Akooshay          1958-08-26            F   \n",
       "1  Lieutenant Melanie Ballard          1974-08-15            F   \n",
       "2         Desolation Williams          1969-06-15            M   \n",
       "3          Sgt Jericho Butler          1967-09-12            M   \n",
       "4             Bashira Kincaid          1977-09-25            F   \n",
       "\n",
       "   actor_height_meters actor_ethnicity_freebase_id          actor_name  \\\n",
       "0                1.620                         NaN      Wanda De Jesus   \n",
       "1                1.780                  /m/044038p  Natasha Henstridge   \n",
       "2                1.727                     /m/0x67            Ice Cube   \n",
       "3                1.750                         NaN       Jason Statham   \n",
       "4                1.650                         NaN         Clea DuVall   \n",
       "\n",
       "   actor_age_at_movie_release character_actor_freebase_map_id  \\\n",
       "0                        42.0                      /m/0bgchxw   \n",
       "1                        27.0                       /m/0jys3m   \n",
       "2                        32.0                       /m/0jys3g   \n",
       "3                        33.0                      /m/02vchl6   \n",
       "4                        23.0                      /m/02vbb3r   \n",
       "\n",
       "  character_freebase_id actor_freebase_id  \n",
       "0            /m/0bgcj3x        /m/03wcfv7  \n",
       "1            /m/0bgchn4         /m/0346l4  \n",
       "2            /m/0bgchn_        /m/01vw26l  \n",
       "3            /m/0bgchnq         /m/034hyc  \n",
       "4            /m/0bgchp9         /m/01y9xg  "
      ]
     },
     "execution_count": 14,
     "metadata": {},
     "output_type": "execute_result"
    }
   ],
   "source": [
    "characters_df.head()"
   ]
  },
  {
   "cell_type": "code",
   "execution_count": null,
   "id": "2f6b71bf-25a7-4cae-b0cd-bd6f6aa40bb6",
   "metadata": {},
   "outputs": [
    {
     "name": "stdout",
     "output_type": "stream",
     "text": [
      "Number of characters: 450669\n",
      "Number of unique actors: 183436\n",
      "\n"
     ]
    }
   ],
   "source": [
    "total_characters = len(characters_df)\n",
    "print(f\"Number of characters: {total_characters}\")\n",
    "print(f\"Number of unique actors: {len(characters_df['character_freebase_id'].unique())}\", end=\"\\n\\n\")"
   ]
  },
  {
   "cell_type": "markdown",
   "id": "ae1c465e-6a1f-4d7c-b799-9956da6130b5",
   "metadata": {
    "tags": []
   },
   "source": [
    "#### Missing data"
   ]
  },
  {
   "cell_type": "markdown",
   "id": "0ac5a1f6-ad92-4370-9989-3d8076b62232",
   "metadata": {},
   "source": [
    "Now, let's examine the percentage of missing data for the **Ethnicity**, **Gender**, and **Age** features in our character dataset."
   ]
  },
  {
   "cell_type": "code",
   "execution_count": null,
   "id": "6d0e80d4-7576-415d-9f75-1ce268532c01",
   "metadata": {
    "tags": []
   },
   "outputs": [
    {
     "data": {
      "image/png": "[encoded data removed]",
      "text/plain": [
       "<Figure size 1200x400 with 3 Axes>"
      ]
     },
     "metadata": {},
     "output_type": "display_data"
    },
    {
     "name": "stdout",
     "output_type": "stream",
     "text": [
      "Gender :\n",
      "Data missing : 45609\n",
      "Data present : 405060\n",
      "\n",
      "Age :\n",
      "Data missing : 106145\n",
      "Data present : 344524\n",
      "\n",
      "Ethnicity :\n",
      "Data missing : 344611\n",
      "Data present : 106058\n"
     ]
    }
   ],
   "source": [
    "# Calculate missing data percentages\n",
    "total_characters = len(characters_df)\n",
    "missing_gender_count = characters_df['actor_gender'].isna().sum()\n",
    "missing_age_count = characters_df['actor_date_of_birth'].isna().sum()\n",
    "missing_ethnicity_count = characters_df['actor_ethnicity_freebase_id'].isna().sum()\n",
    "missing_gender_percentage = missing_gender_count / total_characters * 100\n",
    "missing_age_percentage = missing_age_count / total_characters * 100\n",
    "missing_ethnicity_percentage = missing_ethnicity_count / total_characters * 100\n",
    "\n",
    "# Create a pie chart for missing gender data\n",
    "labels_gender = ['Missing', 'Present']\n",
    "sizes_gender = [missing_gender_percentage, 100 - missing_gender_percentage]\n",
    "colors_gender = ['lightcoral', 'lightskyblue']\n",
    "explode_gender = (0.1, 0)  # Explode the \"Missing\" slice\n",
    "\n",
    "plt.figure(figsize=(12, 4))  # Create a larger figure for multiple pie charts\n",
    "\n",
    "plt.subplot(1, 3, 1)  # Create the first subplot for gender\n",
    "plt.pie(sizes_gender, labels=labels_gender, colors=colors_gender, autopct='%1.1f%%', explode=explode_gender, startangle=140)\n",
    "plt.title('Missing Gender Data')\n",
    "\n",
    "# Create a pie chart for missing age data\n",
    "labels_age = ['Missing', 'Present']\n",
    "sizes_age = [missing_age_percentage, 100 - missing_age_percentage]\n",
    "colors_age = ['lightcoral', 'lightskyblue']\n",
    "explode_age = (0.1, 0)  # Explode the \"Missing\" slice\n",
    "\n",
    "plt.subplot(1, 3, 2)  # Create the second subplot for age\n",
    "plt.pie(sizes_age, labels=labels_age, colors=colors_age, autopct='%1.1f%%', explode=explode_age, startangle=140)\n",
    "plt.title('Missing Age Data')\n",
    "\n",
    "# Create a pie chart for missing ethnicity data\n",
    "labels_ethnicity = ['Missing', 'Present']\n",
    "sizes_ethnicity = [missing_ethnicity_percentage, 100 - missing_ethnicity_percentage]\n",
    "colors_ethnicity = ['lightcoral', 'lightskyblue']\n",
    "explode_ethnicity = (0.1, 0)  # Explode the \"Missing\" slice\n",
    "\n",
    "plt.subplot(1, 3, 3)  # Create the third subplot for ethnicity\n",
    "plt.pie(sizes_ethnicity, labels=labels_ethnicity, colors=colors_ethnicity, autopct='%1.1f%%', explode=explode_ethnicity, startangle=140)\n",
    "plt.title('Missing Ethnicity Data')\n",
    "\n",
    "plt.tight_layout()  # Ensure proper spacing between subplots\n",
    "\n",
    "# Display the pie charts\n",
    "plt.show()\n",
    "\n",
    "print(f\"Gender :\\nData missing : {missing_gender_count}\\nData present : {total_characters - missing_gender_count}\\n\")\n",
    "print(f\"Age :\\nData missing : {missing_age_count}\\nData present : {total_characters - missing_age_count}\\n\")\n",
    "print(f\"Ethnicity :\\nData missing : {missing_ethnicity_count}\\nData present : {total_characters - missing_ethnicity_count}\")"
   ]
  },
  {
   "cell_type": "markdown",
   "id": "99b1c21b-4247-4512-9dff-a6dd89130431",
   "metadata": {},
   "source": [
    "We notice that a huge percentage of actor's ethnicity is missing. Since our project focuses primarily on actors' ethnicity, this could pose a challenge when we investigate how an actor's ethnicity affects a movie's success.\n",
    "We have to keep this in mind for our research, so we try to address this data deficiency if needed."
   ]
  },
  {
   "cell_type": "markdown",
   "id": "bc5ede6a-38e8-485d-a3a9-c75b3d935761",
   "metadata": {},
   "source": [
    "Let's attempt to analyze the distribution of each feature to gain some insights:"
   ]
  },
  {
   "cell_type": "markdown",
   "id": "d5c75fd1-ec11-4e21-ab4d-2c5d58a5df05",
   "metadata": {},
   "source": [
    "**Gender (Categorical)**"
   ]
  },
  {
   "cell_type": "code",
   "execution_count": null,
   "id": "f7e70b7e-d34f-492c-ad1d-0a7c4f27db09",
   "metadata": {},
   "outputs": [
    {
     "data": {
      "image/png": "[encoded data removed]",
      "text/plain": [
       "<Figure size 300x300 with 1 Axes>"
      ]
     },
     "metadata": {},
     "output_type": "display_data"
    }
   ],
   "source": [
    "gender_counts = characters_df['actor_gender'].value_counts()\n",
    "\n",
    "plt.figure(figsize=(3, 3))\n",
    "plt.bar(gender_counts.index, gender_counts.values, color='skyblue')\n",
    "plt.xlabel('Character Gender')\n",
    "plt.ylabel('Count')\n",
    "plt.title('Distribution of Character Gender in Movies')\n",
    "plt.grid(axis='y', linestyle='--', alpha=0.7)\n",
    "\n",
    "plt.show()"
   ]
  },
  {
   "cell_type": "markdown",
   "id": "44262d0a-19ca-49d4-b052-ea4dc441a47f",
   "metadata": {},
   "source": [
    "There are approximately twice as many male characters as female characters. However, it's important to clarify that our focus is on the characters themselves rather than the actors portraying them. It would be valuable to conduct a more in-depth analysis to determine whether the distribution of characters aligns with the distribution of actors. This analysis would help us determine if the observed gender disparity is a result of fewer women being involved in the film industry or if roles are simply being unequally assigned."
   ]
  },
  {
   "cell_type": "markdown",
   "id": "b64e342b-5a11-4fc9-9a6c-167e528c4db2",
   "metadata": {},
   "source": [
    "**Age (Numerical)**"
   ]
  },
  {
   "cell_type": "code",
   "execution_count": null,
   "id": "40eaabbd-bdc3-4883-968b-c631451abd01",
   "metadata": {},
   "outputs": [
    {
     "data": {
      "image/png": "[encoded data removed]",
      "text/plain": [
       "<Figure size 300x300 with 1 Axes>"
      ]
     },
     "metadata": {},
     "output_type": "display_data"
    }
   ],
   "source": [
    "character_ages = characters_df[characters_df['actor_age_at_movie_release'].notna()]['actor_age_at_movie_release']\n",
    "\n",
    "plt.figure(figsize=(3, 3))\n",
    "plt.hist(character_ages)\n",
    "plt.xlabel('Age')\n",
    "plt.ylabel('Frequency')\n",
    "plt.title('Distribution of Age in Movies')\n",
    "plt.grid(axis='y', linestyle='--', alpha=0.7)\n",
    "\n",
    "plt.show()"
   ]
  },
  {
   "cell_type": "markdown",
   "id": "7887f223-6d07-41a0-b434-6301e34e57f9",
   "metadata": {},
   "source": [
    "We can observe instances of negative ages that appear to be inconsistent. To better understand their prevalence, we will determine their proportion within the dataset and subsequently remove them as they are considered erroneous data."
   ]
  },
  {
   "cell_type": "code",
   "execution_count": null,
   "id": "ee150cc2-1bb9-4ed1-a5e1-82c7c7274dc9",
   "metadata": {},
   "outputs": [
    {
     "name": "stdout",
     "output_type": "stream",
     "text": [
      "Percentage of characters with a negative age: 0.08%\n"
     ]
    }
   ],
   "source": [
    "# Calculate the percentage of characters with a negative age\n",
    "total_characters = len(characters_df)\n",
    "negative_age_characters = len(characters_df[characters_df['actor_age_at_movie_release'] < 0])\n",
    "percentage_negative_age = (negative_age_characters / total_characters) * 100\n",
    "\n",
    "print(f\"Percentage of characters with a negative age: {percentage_negative_age:.2f}%\")"
   ]
  },
  {
   "cell_type": "code",
   "execution_count": null,
   "id": "581f1ff3-ccff-4ab1-9f7b-12d47eec99c8",
   "metadata": {},
   "outputs": [
    {
     "data": {
      "image/png": "[encoded data removed]",
      "text/plain": [
       "<Figure size 300x300 with 1 Axes>"
      ]
     },
     "metadata": {},
     "output_type": "display_data"
    }
   ],
   "source": [
    "# Drop characters with a negative age in place\n",
    "characters_df.drop(characters_df[characters_df['actor_age_at_movie_release'] < 0].index, inplace=True)\n",
    "\n",
    "character_ages2 = characters_df[characters_df['actor_age_at_movie_release'].notna()]['actor_age_at_movie_release']\n",
    "\n",
    "plt.figure(figsize=(3, 3))\n",
    "plt.hist(character_ages2)\n",
    "plt.xlabel('Age')\n",
    "plt.ylabel('Frequency')\n",
    "plt.title('Distribution of Age in Movies')\n",
    "plt.grid(axis='y', linestyle='--', alpha=0.7)\n",
    "\n",
    "plt.show()"
   ]
  },
  {
   "cell_type": "markdown",
   "id": "3bfbc2e9-96cd-4942-b4ff-ea5ee8415d19",
   "metadata": {},
   "source": [
    "Looks better !"
   ]
  },
  {
   "cell_type": "code",
   "execution_count": null,
   "id": "cef0d1a6-80f1-40e9-bc68-7a862cb076d9",
   "metadata": {},
   "outputs": [
    {
     "name": "stdout",
     "output_type": "stream",
     "text": [
      "Number of characters after cleaning: 450288\n",
      "Number of unique actors after cleaning: 183372\n",
      "\n"
     ]
    }
   ],
   "source": [
    "total_characters = len(characters_df)\n",
    "print(f\"Number of characters after cleaning: {total_characters}\")\n",
    "print(f\"Number of unique actors after cleaning: {len(characters_df['character_freebase_id'].unique())}\", end=\"\\n\\n\")"
   ]
  },
  {
   "cell_type": "markdown",
   "id": "d687a7dd-5add-4eee-947f-9530a73c9625",
   "metadata": {},
   "source": [
    "**Ethnicity (Categorical)**"
   ]
  },
  {
   "cell_type": "code",
   "execution_count": null,
   "id": "f3d48136-45c0-47c8-a5e4-e1bb2805892d",
   "metadata": {},
   "outputs": [
    {
     "data": {
      "image/png": "[encoded data removed]",
      "text/plain": [
       "<Figure size 2000x600 with 1 Axes>"
      ]
     },
     "metadata": {},
     "output_type": "display_data"
    }
   ],
   "source": [
    "actors_ethnicities = characters_df.groupby(by='actor_ethnicity_freebase_id')[\"actor_ethnicity_freebase_id\"].count().sort_values(ascending=False)\n",
    "\n",
    "plt.figure(figsize=(20,6))\n",
    "plt.bar(actors_ethnicities.index, actors_ethnicities.values, label='')\n",
    "plt.title(\"Actors ethnicities distribution\")\n",
    "plt.yscale('log')\n",
    "plt.xticks([])\n",
    "plt.ylabel(\"Count\")\n",
    "plt.xlabel(\"Ethnicity\")\n",
    "plt.show()"
   ]
  },
  {
   "cell_type": "markdown",
   "id": "16edc03b-b668-4a54-8ada-2ca739a160ab",
   "metadata": {},
   "source": [
    "The distribution of ethnicities among the characters exhibits significant diversity. While some ethnicities are sparsely represented, others have a notably larger presence in the dataset."
   ]
  },
  {
   "cell_type": "markdown",
   "id": "abf1a5e1-4a20-4712-b45a-7a12ca771385",
   "metadata": {
    "tags": []
   },
   "source": [
    "### Plot summaries"
   ]
  },
  {
   "cell_type": "markdown",
   "id": "8e81803a-ba48-4a88-af59-cb3bd6af71a3",
   "metadata": {},
   "source": [
    "The `plot` dataframe comes from the CMU dataset and contains a summary of the plot of a given movie."
   ]
  },
  {
   "cell_type": "code",
   "execution_count": null,
   "id": "7f81cf9e-62b0-4eaa-82ad-60a502959369",
   "metadata": {},
   "outputs": [
    {
     "data": {
      "text/html": [
       "<div>\n",
       "<style scoped>\n",
       "    .dataframe tbody tr th:only-of-type {\n",
       "        vertical-align: middle;\n",
       "    }\n",
       "\n",
       "    .dataframe tbody tr th {\n",
       "        vertical-align: top;\n",
       "    }\n",
       "\n",
       "    .dataframe thead th {\n",
       "        text-align: right;\n",
       "    }\n",
       "</style>\n",
       "<table border=\"1\" class=\"dataframe\">\n",
       "  <thead>\n",
       "    <tr style=\"text-align: right;\">\n",
       "      <th></th>\n",
       "      <th>movie_wikipedia_id</th>\n",
       "      <th>movie_plot</th>\n",
       "    </tr>\n",
       "  </thead>\n",
       "  <tbody>\n",
       "    <tr>\n",
       "      <th>0</th>\n",
       "      <td>23890098</td>\n",
       "      <td>Shlykov, a hard-working taxi driver and Lyosha...</td>\n",
       "    </tr>\n",
       "    <tr>\n",
       "      <th>1</th>\n",
       "      <td>31186339</td>\n",
       "      <td>The nation of Panem consists of a wealthy Capi...</td>\n",
       "    </tr>\n",
       "    <tr>\n",
       "      <th>2</th>\n",
       "      <td>20663735</td>\n",
       "      <td>Poovalli Induchoodan  is sentenced for six yea...</td>\n",
       "    </tr>\n",
       "    <tr>\n",
       "      <th>3</th>\n",
       "      <td>2231378</td>\n",
       "      <td>The Lemon Drop Kid , a New York City swindler,...</td>\n",
       "    </tr>\n",
       "    <tr>\n",
       "      <th>4</th>\n",
       "      <td>595909</td>\n",
       "      <td>Seventh-day Adventist Church pastor Michael Ch...</td>\n",
       "    </tr>\n",
       "  </tbody>\n",
       "</table>\n",
       "</div>"
      ],
      "text/plain": [
       "   movie_wikipedia_id                                         movie_plot\n",
       "0            23890098  Shlykov, a hard-working taxi driver and Lyosha...\n",
       "1            31186339  The nation of Panem consists of a wealthy Capi...\n",
       "2            20663735  Poovalli Induchoodan  is sentenced for six yea...\n",
       "3             2231378  The Lemon Drop Kid , a New York City swindler,...\n",
       "4              595909  Seventh-day Adventist Church pastor Michael Ch..."
      ]
     },
     "execution_count": 128,
     "metadata": {},
     "output_type": "execute_result"
    }
   ],
   "source": [
    "plot_summary_df.head()"
   ]
  },
  {
   "cell_type": "code",
   "execution_count": null,
   "id": "fffa0156-700e-48de-a69f-486c9a83c975",
   "metadata": {},
   "outputs": [
    {
     "name": "stdout",
     "output_type": "stream",
     "text": [
      "Number of plot summaries loaded: 42306\n",
      "Percentage of movies with plot summaries: 51.64%\n"
     ]
    }
   ],
   "source": [
    "total_plot = len(plot_summary_df)\n",
    "print(f\"Number of plot summaries loaded: {total_plot}\")\n",
    "\n",
    "# Compute the number of movies without plot summaries\n",
    "movies_with_summary = movies_df[movies_df['movie_wikipedia_id'].isin(plot_summary_df['movie_wikipedia_id'])]\n",
    "percentage_with_summary = (len(movies_with_summary) / len(movies_df)) * 100\n",
    "\n",
    "# Print the percentage of movies without plot summaries\n",
    "print(f\"Percentage of movies with plot summaries: {percentage_with_summary:.2f}%\")"
   ]
  },
  {
   "cell_type": "markdown",
   "id": "4a9b13ed-4357-44d2-8d21-c6c47e8d15b1",
   "metadata": {
    "tags": []
   },
   "source": [
    "### Tvtropes dataframe"
   ]
  },
  {
   "cell_type": "markdown",
   "id": "4f28e951-7b5c-4202-9cab-5b3e384fa916",
   "metadata": {},
   "source": [
    "The `tvtropes` DataFrame is derived from the CMU dataset and includes records of character types along with the corresponding actors who portray those characters."
   ]
  },
  {
   "cell_type": "code",
   "execution_count": null,
   "id": "2c6963ab-d0de-410a-8755-f941e333b9b9",
   "metadata": {},
   "outputs": [
    {
     "data": {
      "text/html": [
       "<div>\n",
       "<style scoped>\n",
       "    .dataframe tbody tr th:only-of-type {\n",
       "        vertical-align: middle;\n",
       "    }\n",
       "\n",
       "    .dataframe tbody tr th {\n",
       "        vertical-align: top;\n",
       "    }\n",
       "\n",
       "    .dataframe thead th {\n",
       "        text-align: right;\n",
       "    }\n",
       "</style>\n",
       "<table border=\"1\" class=\"dataframe\">\n",
       "  <thead>\n",
       "    <tr style=\"text-align: right;\">\n",
       "      <th></th>\n",
       "      <th>character_type</th>\n",
       "      <th>character_name</th>\n",
       "      <th>movie_name</th>\n",
       "      <th>character_actor_freebase_map_id</th>\n",
       "      <th>actor_name</th>\n",
       "    </tr>\n",
       "  </thead>\n",
       "  <tbody>\n",
       "    <tr>\n",
       "      <th>0</th>\n",
       "      <td>absent_minded_professor</td>\n",
       "      <td>Professor Philip Brainard</td>\n",
       "      <td>Flubber</td>\n",
       "      <td>/m/0jy9q0</td>\n",
       "      <td>Robin Williams</td>\n",
       "    </tr>\n",
       "    <tr>\n",
       "      <th>1</th>\n",
       "      <td>absent_minded_professor</td>\n",
       "      <td>Professor Keenbean</td>\n",
       "      <td>Richie Rich</td>\n",
       "      <td>/m/02vchl3</td>\n",
       "      <td>Michael McShane</td>\n",
       "    </tr>\n",
       "    <tr>\n",
       "      <th>2</th>\n",
       "      <td>absent_minded_professor</td>\n",
       "      <td>Dr. Reinhardt Lane</td>\n",
       "      <td>The Shadow</td>\n",
       "      <td>/m/0k6fkc</td>\n",
       "      <td>Ian McKellen</td>\n",
       "    </tr>\n",
       "    <tr>\n",
       "      <th>3</th>\n",
       "      <td>absent_minded_professor</td>\n",
       "      <td>Dr. Harold Medford</td>\n",
       "      <td>Them!</td>\n",
       "      <td>/m/0k6_br</td>\n",
       "      <td>Edmund Gwenn</td>\n",
       "    </tr>\n",
       "    <tr>\n",
       "      <th>4</th>\n",
       "      <td>absent_minded_professor</td>\n",
       "      <td>Daniel Jackson</td>\n",
       "      <td>Stargate</td>\n",
       "      <td>/m/0k3rhh</td>\n",
       "      <td>James Spader</td>\n",
       "    </tr>\n",
       "  </tbody>\n",
       "</table>\n",
       "</div>"
      ],
      "text/plain": [
       "            character_type             character_name   movie_name  \\\n",
       "0  absent_minded_professor  Professor Philip Brainard      Flubber   \n",
       "1  absent_minded_professor         Professor Keenbean  Richie Rich   \n",
       "2  absent_minded_professor         Dr. Reinhardt Lane   The Shadow   \n",
       "3  absent_minded_professor         Dr. Harold Medford        Them!   \n",
       "4  absent_minded_professor             Daniel Jackson     Stargate   \n",
       "\n",
       "  character_actor_freebase_map_id       actor_name  \n",
       "0                       /m/0jy9q0   Robin Williams  \n",
       "1                      /m/02vchl3  Michael McShane  \n",
       "2                       /m/0k6fkc     Ian McKellen  \n",
       "3                       /m/0k6_br     Edmund Gwenn  \n",
       "4                       /m/0k3rhh     James Spader  "
      ]
     },
     "execution_count": 130,
     "metadata": {},
     "output_type": "execute_result"
    }
   ],
   "source": [
    "tvtropes_df.head()"
   ]
  },
  {
   "cell_type": "code",
   "execution_count": null,
   "id": "1f57bf54-119b-49c6-bb80-5f8467230354",
   "metadata": {},
   "outputs": [
    {
     "name": "stdout",
     "output_type": "stream",
     "text": [
      "Number of tropes loaded: 501\n",
      "Number of unique character types: 72\n"
     ]
    }
   ],
   "source": [
    "total_tvtropes = len(tvtropes_df)\n",
    "print(f\"Number of tropes loaded: {total_tvtropes}\")\n",
    "\n",
    "unique_character_types = len(tvtropes_df[\"character_type\"].unique())\n",
    "print(f\"Number of unique character types: {unique_character_types}\")"
   ]
  },
  {
   "cell_type": "markdown",
   "id": "54f98b8d",
   "metadata": {},
   "source": [
    "# B) Data collection"
   ]
  },
  {
   "cell_type": "markdown",
   "id": "76b02b38",
   "metadata": {},
   "source": [
    "Since we aim to get a better understanding of our data, we make use of some online apis to enrich our data. Firstly, as said before, we aim to assess the performance of a movie user ratings. Since those are not available on the provided CMU dataset, we make use of a data fetcher that will try to get as much valuable information as possible. In this notebook, the collected datasets are loaded only. See [this notebook](data_collection.ipynb) for insights on the collection process."
   ]
  },
  {
   "cell_type": "markdown",
   "id": "71cf5b2a",
   "metadata": {},
   "source": [
    "## TMDB "
   ]
  },
  {
   "cell_type": "markdown",
   "id": "ced27c51",
   "metadata": {},
   "source": [
    "TMDB is a public movie database that contains information about numerous movies and offers a free access to [their api](https://developer.themoviedb.org/reference/intro/getting-started) that allows to extract information about movies, such as ratings from the platform, budgets if available and more. They recently started to add wikipedia id information inside the movies descriptions but their database seems still very empty in that regard. Another problem that is faced from their api is that it allows to query movie informations for one movie at a time. \n",
    "\n",
    "Our proposed solution to this problem was to develop a movie matching algorithm that first queries all movie titles in the database that contains the name of the movie we're looking for. Then, we gather information about all these movies (one query at a time) and we keep the entry that has an exact title match as well as a similar duration (+-3min). The extracted data consists of the average ratings of the movies, the number of votes and, the budgets if available. Since some of these informations aren't public or missing. Lacking entries are filled with zeros."
   ]
  },
  {
   "cell_type": "code",
   "execution_count": null,
   "id": "eeadcb85",
   "metadata": {},
   "outputs": [
    {
     "name": "stdout",
     "output_type": "stream",
     "text": [
      "Informations found for 40647 movies out of 81741\n"
     ]
    },
    {
     "data": {
      "text/html": [
       "<div>\n",
       "<style scoped>\n",
       "    .dataframe tbody tr th:only-of-type {\n",
       "        vertical-align: middle;\n",
       "    }\n",
       "\n",
       "    .dataframe tbody tr th {\n",
       "        vertical-align: top;\n",
       "    }\n",
       "\n",
       "    .dataframe thead th {\n",
       "        text-align: right;\n",
       "    }\n",
       "</style>\n",
       "<table border=\"1\" class=\"dataframe\">\n",
       "  <thead>\n",
       "    <tr style=\"text-align: right;\">\n",
       "      <th></th>\n",
       "      <th>title</th>\n",
       "      <th>vote_average</th>\n",
       "      <th>vote_counts</th>\n",
       "      <th>budget</th>\n",
       "    </tr>\n",
       "  </thead>\n",
       "  <tbody>\n",
       "    <tr>\n",
       "      <th>0</th>\n",
       "      <td>Ghosts of Mars</td>\n",
       "      <td>5.125</td>\n",
       "      <td>982</td>\n",
       "      <td>28000000</td>\n",
       "    </tr>\n",
       "    <tr>\n",
       "      <th>1</th>\n",
       "      <td>Brun bitter</td>\n",
       "      <td>0.000</td>\n",
       "      <td>0</td>\n",
       "      <td>0</td>\n",
       "    </tr>\n",
       "    <tr>\n",
       "      <th>2</th>\n",
       "      <td>White Of The Eye</td>\n",
       "      <td>5.742</td>\n",
       "      <td>64</td>\n",
       "      <td>0</td>\n",
       "    </tr>\n",
       "    <tr>\n",
       "      <th>3</th>\n",
       "      <td>A Woman in Flames</td>\n",
       "      <td>5.300</td>\n",
       "      <td>13</td>\n",
       "      <td>0</td>\n",
       "    </tr>\n",
       "  </tbody>\n",
       "</table>\n",
       "</div>"
      ],
      "text/plain": [
       "               title  vote_average  vote_counts    budget\n",
       "0     Ghosts of Mars         5.125          982  28000000\n",
       "1        Brun bitter         0.000            0         0\n",
       "2   White Of The Eye         5.742           64         0\n",
       "3  A Woman in Flames         5.300           13         0"
      ]
     },
     "execution_count": 133,
     "metadata": {},
     "output_type": "execute_result"
    }
   ],
   "source": [
    "# Get the generated dataset and remove a duplicate index column\n",
    "extracted_movie_info = pd.read_csv('generated/TMDB_extra_info.csv').iloc[:,1:]\n",
    "print(\"Informations found for {} movies out of {}\"\n",
    "      .format(len(extracted_movie_info),len(movies_df)))\n",
    "extracted_movie_info.head(4)"
   ]
  },
  {
   "cell_type": "markdown",
   "id": "23369a96",
   "metadata": {},
   "source": [
    "First analysis on the ratings"
   ]
  },
  {
   "cell_type": "code",
   "execution_count": null,
   "id": "66ead29d",
   "metadata": {},
   "outputs": [
    {
     "name": "stdout",
     "output_type": "stream",
     "text": [
      "movies with more that 30 ratings : 13906\n"
     ]
    }
   ],
   "source": [
    "# We filter out movies that have a small amout of votes, let's say 30 is representative enough\n",
    "movie_ratings = extracted_movie_info[extracted_movie_info['vote_counts'] > 30].copy()\n",
    "movie_ratings = movie_ratings[['title','vote_average','vote_counts']]\n",
    "print(\"movies with more than 30 ratings : {}\".format(len(movie_ratings)))"
   ]
  },
  {
   "cell_type": "code",
   "execution_count": 1,
   "id": "be98f08f",
   "metadata": {},
   "outputs": [
    {
     "ename": "NameError",
     "evalue": "name 'sns' is not defined",
     "output_type": "error",
     "traceback": [
      "\u001b[1;31m---------------------------------------------------------------------------\u001b[0m",
      "\u001b[1;31mNameError\u001b[0m                                 Traceback (most recent call last)",
      "\u001b[1;32mc:\\Users\\David\\Desktop\\Ma3\\ADA\\Project_git\\ada-2023-project-analytixxperts2023\\milestoneP2h.ipynb Cell 66\u001b[0m line \u001b[0;36m2\n\u001b[0;32m      <a href='vscode-notebook-cell:/c%3A/Users/David/Desktop/Ma3/ADA/Project_git/ada-2023-project-analytixxperts2023/milestoneP2h.ipynb#Y122sZmlsZQ%3D%3D?line=0'>1</a>\u001b[0m \u001b[39m#Show the distribution of votes and some relevant information\u001b[39;00m\n\u001b[1;32m----> <a href='vscode-notebook-cell:/c%3A/Users/David/Desktop/Ma3/ADA/Project_git/ada-2023-project-analytixxperts2023/milestoneP2h.ipynb#Y122sZmlsZQ%3D%3D?line=1'>2</a>\u001b[0m sns\u001b[39m.\u001b[39mhistplot(data\u001b[39m=\u001b[39mmovie_ratings,x\u001b[39m=\u001b[39m\u001b[39m'\u001b[39m\u001b[39mvote_average\u001b[39m\u001b[39m'\u001b[39m)\n\u001b[0;32m      <a href='vscode-notebook-cell:/c%3A/Users/David/Desktop/Ma3/ADA/Project_git/ada-2023-project-analytixxperts2023/milestoneP2h.ipynb#Y122sZmlsZQ%3D%3D?line=2'>3</a>\u001b[0m plt\u001b[39m.\u001b[39mtitle(\u001b[39m\"\u001b[39m\u001b[39mDistribution of movies\u001b[39m\u001b[39m'\u001b[39m\u001b[39m vote averages\u001b[39m\u001b[39m\"\u001b[39m)\n\u001b[0;32m      <a href='vscode-notebook-cell:/c%3A/Users/David/Desktop/Ma3/ADA/Project_git/ada-2023-project-analytixxperts2023/milestoneP2h.ipynb#Y122sZmlsZQ%3D%3D?line=3'>4</a>\u001b[0m plt\u001b[39m.\u001b[39mshow()\n",
      "\u001b[1;31mNameError\u001b[0m: name 'sns' is not defined"
     ]
    }
   ],
   "source": [
    "#Show the distribution of votes and some relevant information\n",
    "sns.histplot(data=movie_ratings,x='vote_average')\n",
    "plt.title(\"Distribution of movies' vote averages\")\n",
    "plt.show()\n",
    "\n",
    "print(\"Mean average rating {:.2f}\\nMedian average rating {:.2f}\"\n",
    "      .format(movie_ratings['vote_average'].mean(),movie_ratings['vote_average'].median()))"
   ]
  },
  {
   "cell_type": "markdown",
   "id": "07d506b2",
   "metadata": {},
   "source": [
    "The distribution seems to follow a gaussian distribution. Let's investigate that a bit more."
   ]
  },
  {
   "cell_type": "code",
   "execution_count": null,
   "id": "31d85764",
   "metadata": {},
   "outputs": [
    {
     "data": {
      "text/plain": [
       "NormaltestResult(statistic=1057.8150882573825, pvalue=1.9877975358998404e-230)"
      ]
     },
     "execution_count": 136,
     "metadata": {},
     "output_type": "execute_result"
    }
   ],
   "source": [
    "normaltest(movie_ratings['vote_average'])"
   ]
  },
  {
   "cell_type": "markdown",
   "id": "6a23a7d1",
   "metadata": {},
   "source": [
    "The p-value is way under 0.05, which means that we reject the null hypothesis that the samples were drawn from a normal distribution."
   ]
  },
  {
   "cell_type": "markdown",
   "id": "6284d96f",
   "metadata": {},
   "source": [
    "Now let's have a look at the few budgets extracted from TMDB"
   ]
  },
  {
   "cell_type": "code",
   "execution_count": null,
   "id": "620c015d",
   "metadata": {},
   "outputs": [
    {
     "name": "stdout",
     "output_type": "stream",
     "text": [
      "number of movies that have a budget higher than 1 Million : 5606\n"
     ]
    }
   ],
   "source": [
    "# Extract movies that contain budgets above a million to generate a dataframe that allows\n",
    "# comparisons of movies developed under what is considered high budgets\n",
    "movies_budgets = extracted_movie_info[extracted_movie_info[\"budget\"] > 1e6].copy()\n",
    "movies_budgets = movies_budgets[['title','budget']]\n",
    "min_budget =movies_budgets['budget'].min()\n",
    "max_budget = movies_budgets['budget'].max()\n",
    "print('number of movies that have a budget higher than 1 Million : {}'\n",
    "      .format(len(movies_budgets)))"
   ]
  },
  {
   "cell_type": "code",
   "execution_count": 2,
   "id": "71ba40ec",
   "metadata": {},
   "outputs": [
    {
     "ename": "NameError",
     "evalue": "name 'sns' is not defined",
     "output_type": "error",
     "traceback": [
      "\u001b[1;31m---------------------------------------------------------------------------\u001b[0m",
      "\u001b[1;31mNameError\u001b[0m                                 Traceback (most recent call last)",
      "\u001b[1;32mc:\\Users\\David\\Desktop\\Ma3\\ADA\\Project_git\\ada-2023-project-analytixxperts2023\\milestoneP2h.ipynb Cell 72\u001b[0m line \u001b[0;36m3\n\u001b[0;32m      <a href='vscode-notebook-cell:/c%3A/Users/David/Desktop/Ma3/ADA/Project_git/ada-2023-project-analytixxperts2023/milestoneP2h.ipynb#Y131sZmlsZQ%3D%3D?line=0'>1</a>\u001b[0m \u001b[39m## Get the informations of the highest and smallest budgets for movies above a million\u001b[39;00m\n\u001b[0;32m      <a href='vscode-notebook-cell:/c%3A/Users/David/Desktop/Ma3/ADA/Project_git/ada-2023-project-analytixxperts2023/milestoneP2h.ipynb#Y131sZmlsZQ%3D%3D?line=1'>2</a>\u001b[0m \u001b[39m## and plot the overall distribution\u001b[39;00m\n\u001b[1;32m----> <a href='vscode-notebook-cell:/c%3A/Users/David/Desktop/Ma3/ADA/Project_git/ada-2023-project-analytixxperts2023/milestoneP2h.ipynb#Y131sZmlsZQ%3D%3D?line=2'>3</a>\u001b[0m sns\u001b[39m.\u001b[39mhistplot(data\u001b[39m=\u001b[39mmovies_budgets,x\u001b[39m=\u001b[39m\u001b[39m'\u001b[39m\u001b[39mbudget\u001b[39m\u001b[39m'\u001b[39m,bins\u001b[39m=\u001b[39m\u001b[39m50\u001b[39m)\n\u001b[0;32m      <a href='vscode-notebook-cell:/c%3A/Users/David/Desktop/Ma3/ADA/Project_git/ada-2023-project-analytixxperts2023/milestoneP2h.ipynb#Y131sZmlsZQ%3D%3D?line=3'>4</a>\u001b[0m plt\u001b[39m.\u001b[39mtitle(\u001b[39m'\u001b[39m\u001b[39mDistribution of budgets above a million\u001b[39m\u001b[39m'\u001b[39m)\n\u001b[0;32m      <a href='vscode-notebook-cell:/c%3A/Users/David/Desktop/Ma3/ADA/Project_git/ada-2023-project-analytixxperts2023/milestoneP2h.ipynb#Y131sZmlsZQ%3D%3D?line=4'>5</a>\u001b[0m plt\u001b[39m.\u001b[39mxlim([\u001b[39m1e6\u001b[39m,\u001b[39m6e8\u001b[39m])\n",
      "\u001b[1;31mNameError\u001b[0m: name 'sns' is not defined"
     ]
    }
   ],
   "source": [
    "## Get the informations of the highest and smallest budgets for movies above a million\n",
    "## and plot the overall distribution\n",
    "sns.histplot(data=movies_budgets,x='budget',bins=50)\n",
    "plt.title('Distribution of budgets above a million')\n",
    "plt.xlim([1e6,6e8])\n",
    "plt.xscale('log')\n",
    "plt.show()\n",
    "print('The median movie has a budget of {}'.format(movies_budgets['budget'].median()))\n",
    "print('The cheapest movie costed {}\\nThe most expensive movie costed {}'\n",
    "      .format(min_budget,max_budget))"
   ]
  },
  {
   "cell_type": "code",
   "execution_count": null,
   "id": "482e13f3",
   "metadata": {},
   "outputs": [
    {
     "data": {
      "text/plain": [
       "<Axes: xlabel='budget', ylabel='Proportion'>"
      ]
     },
     "execution_count": 139,
     "metadata": {},
     "output_type": "execute_result"
    },
    {
     "data": {
      "image/png": "[encoded data removed]",
      "text/plain": [
       "<Figure size 640x480 with 1 Axes>"
      ]
     },
     "metadata": {},
     "output_type": "display_data"
    }
   ],
   "source": [
    "## Plot a ccdf to get a better idea of the budget distribution above a million\n",
    "sns.ecdfplot(data=movies_budgets,x='budget',complementary=True,log_scale=True)\n",
    "plt.title('CCDF of budets above a million')"
   ]
  },
  {
   "cell_type": "markdown",
   "id": "50c26000",
   "metadata": {},
   "source": [
    "We remark that the distribution of budgets above 1 million doesn't necessarily follow a power law but it makes it very clear that a vast majority of movies are developed with a budgets under 10 millions. \n",
    "\n",
    "This data will allow us to compare movies that are still considered high budgets and help us making coherent grouping when trying to perform causal analysis on the impact diversity has.\n",
    "This data may be important because comparing only box office revenues could bring a consequent bias. However, we have to keep in mind that this subsample represent a very small set of the population."
   ]
  },
  {
   "cell_type": "markdown",
   "id": "44820876",
   "metadata": {},
   "source": [
    "## Wikipedia database"
   ]
  },
  {
   "cell_type": "markdown",
   "id": "b6c4a5ed",
   "metadata": {},
   "source": [
    "The dataset is composed of numerous entries in FreeBaseID format. Those are not very verbose and don't allow to understand exactly what is represented by these features. We therefore make use of the wikipedia database to extract the related labels of those ids."
   ]
  },
  {
   "cell_type": "code",
   "execution_count": null,
   "id": "3e55bc55",
   "metadata": {},
   "outputs": [],
   "source": [
    "FB_ids = characters_df['actor_ethnicity_freebase_id'].dropna().unique()"
   ]
  },
  {
   "cell_type": "code",
   "execution_count": null,
   "id": "213ad268",
   "metadata": {},
   "outputs": [
    {
     "data": {
      "text/html": [
       "<div>\n",
       "<style scoped>\n",
       "    .dataframe tbody tr th:only-of-type {\n",
       "        vertical-align: middle;\n",
       "    }\n",
       "\n",
       "    .dataframe tbody tr th {\n",
       "        vertical-align: top;\n",
       "    }\n",
       "\n",
       "    .dataframe thead th {\n",
       "        text-align: right;\n",
       "    }\n",
       "</style>\n",
       "<table border=\"1\" class=\"dataframe\">\n",
       "  <thead>\n",
       "    <tr style=\"text-align: right;\">\n",
       "      <th></th>\n",
       "      <th>actor_ethnicity_freebase_id</th>\n",
       "      <th>actor_ethnicity</th>\n",
       "    </tr>\n",
       "  </thead>\n",
       "  <tbody>\n",
       "    <tr>\n",
       "      <th>0</th>\n",
       "      <td>/m/0790v</td>\n",
       "      <td>Slavs</td>\n",
       "    </tr>\n",
       "    <tr>\n",
       "      <th>1</th>\n",
       "      <td>/m/03kbr</td>\n",
       "      <td>Hindu</td>\n",
       "    </tr>\n",
       "    <tr>\n",
       "      <th>2</th>\n",
       "      <td>/m/01km_m</td>\n",
       "      <td>Slovenes</td>\n",
       "    </tr>\n",
       "    <tr>\n",
       "      <th>3</th>\n",
       "      <td>/m/013y54</td>\n",
       "      <td>Han Chinese people</td>\n",
       "    </tr>\n",
       "  </tbody>\n",
       "</table>\n",
       "</div>"
      ],
      "text/plain": [
       "  actor_ethnicity_freebase_id     actor_ethnicity\n",
       "0                    /m/0790v               Slavs\n",
       "1                    /m/03kbr               Hindu\n",
       "2                   /m/01km_m            Slovenes\n",
       "3                   /m/013y54  Han Chinese people"
      ]
     },
     "execution_count": 141,
     "metadata": {},
     "output_type": "execute_result"
    }
   ],
   "source": [
    "label_ethnicity_df = pd.read_csv('./generated/ethnicities_labels.csv',names=['actor_ethnicity_freebase_id','actor_ethnicity'])\n",
    "label_ethnicity_df.head(4)"
   ]
  },
  {
   "cell_type": "markdown",
   "id": "7053ee76",
   "metadata": {},
   "source": [
    "A very interesting aspect we note here is that ethnicities here are, as expected, precisely defined as the entity of actors instead of their country of origin, which is a richer concept and good news for the analysis."
   ]
  },
  {
   "cell_type": "markdown",
   "id": "0b7451e6-f6b9-4dba-9425-e21b7d395a31",
   "metadata": {
    "tags": []
   },
   "source": [
    "# C) Data generation from given datasets"
   ]
  },
  {
   "cell_type": "markdown",
   "id": "f71bef1e-806b-4b3f-b714-de1b39613a0d",
   "metadata": {},
   "source": [
    "This section is designated for creating the basic Data Frames that will be used in our research."
   ]
  },
  {
   "cell_type": "markdown",
   "id": "1d13e329-d6db-4563-96f8-6e6898bdd542",
   "metadata": {
    "tags": []
   },
   "source": [
    "### 1) Movies, Characters, Ethnicities"
   ]
  },
  {
   "cell_type": "markdown",
   "id": "2cf1877e-8439-424d-aecb-7cbbd484440a",
   "metadata": {},
   "source": [
    "Previously we saw that a lot of ethnicities were missing, which would made us lose a lot of information during the merging. Therefore we will generate 2 dataframes : \n",
    "\n",
    "- `movie_characters_df` : Will be useful when analysing the age and gender diversity\n",
    "- `movie_characters_ethnicity_df` : Will be useful when analysing the ethnicity disparity.\n",
    "    \n",
    "Only the second one will suffer from lack of data."
   ]
  },
  {
   "cell_type": "code",
   "execution_count": null,
   "id": "31048798-8aed-4f98-9b59-ee2d446e71bf",
   "metadata": {},
   "outputs": [
    {
     "data": {
      "text/html": [
       "<div>\n",
       "<style scoped>\n",
       "    .dataframe tbody tr th:only-of-type {\n",
       "        vertical-align: middle;\n",
       "    }\n",
       "\n",
       "    .dataframe tbody tr th {\n",
       "        vertical-align: top;\n",
       "    }\n",
       "\n",
       "    .dataframe thead th {\n",
       "        text-align: right;\n",
       "    }\n",
       "</style>\n",
       "<table border=\"1\" class=\"dataframe\">\n",
       "  <thead>\n",
       "    <tr style=\"text-align: right;\">\n",
       "      <th></th>\n",
       "      <th>movie_wikipedia_id</th>\n",
       "      <th>movie_freebase_id</th>\n",
       "      <th>movie_name</th>\n",
       "      <th>movie_release_date</th>\n",
       "      <th>movie_box_office_revenue</th>\n",
       "      <th>movie_runtime</th>\n",
       "      <th>movie_languages</th>\n",
       "      <th>movie_countries</th>\n",
       "      <th>movie_genres</th>\n",
       "      <th>movie_release_year</th>\n",
       "      <th>...</th>\n",
       "      <th>character_name</th>\n",
       "      <th>actor_date_of_birth</th>\n",
       "      <th>actor_gender</th>\n",
       "      <th>actor_height_meters</th>\n",
       "      <th>actor_ethnicity_freebase_id</th>\n",
       "      <th>actor_name</th>\n",
       "      <th>actor_age_at_movie_release</th>\n",
       "      <th>character_actor_freebase_map_id</th>\n",
       "      <th>character_freebase_id</th>\n",
       "      <th>actor_freebase_id</th>\n",
       "    </tr>\n",
       "  </thead>\n",
       "  <tbody>\n",
       "    <tr>\n",
       "      <th>0</th>\n",
       "      <td>975900</td>\n",
       "      <td>/m/03vyhn</td>\n",
       "      <td>Ghosts of Mars</td>\n",
       "      <td>2001-08-24</td>\n",
       "      <td>14010832.0</td>\n",
       "      <td>98.0</td>\n",
       "      <td>{\"/m/02h40lc\": \"English Language\"}</td>\n",
       "      <td>{\"/m/09c7w0\": \"United States of America\"}</td>\n",
       "      <td>{\"/m/01jfsb\": \"Thriller\", \"/m/06n90\": \"Science...</td>\n",
       "      <td>2001.0</td>\n",
       "      <td>...</td>\n",
       "      <td>Akooshay</td>\n",
       "      <td>1958-08-26</td>\n",
       "      <td>F</td>\n",
       "      <td>1.620</td>\n",
       "      <td>NaN</td>\n",
       "      <td>Wanda De Jesus</td>\n",
       "      <td>42.0</td>\n",
       "      <td>/m/0bgchxw</td>\n",
       "      <td>/m/0bgcj3x</td>\n",
       "      <td>/m/03wcfv7</td>\n",
       "    </tr>\n",
       "    <tr>\n",
       "      <th>1</th>\n",
       "      <td>975900</td>\n",
       "      <td>/m/03vyhn</td>\n",
       "      <td>Ghosts of Mars</td>\n",
       "      <td>2001-08-24</td>\n",
       "      <td>14010832.0</td>\n",
       "      <td>98.0</td>\n",
       "      <td>{\"/m/02h40lc\": \"English Language\"}</td>\n",
       "      <td>{\"/m/09c7w0\": \"United States of America\"}</td>\n",
       "      <td>{\"/m/01jfsb\": \"Thriller\", \"/m/06n90\": \"Science...</td>\n",
       "      <td>2001.0</td>\n",
       "      <td>...</td>\n",
       "      <td>Lieutenant Melanie Ballard</td>\n",
       "      <td>1974-08-15</td>\n",
       "      <td>F</td>\n",
       "      <td>1.780</td>\n",
       "      <td>/m/044038p</td>\n",
       "      <td>Natasha Henstridge</td>\n",
       "      <td>27.0</td>\n",
       "      <td>/m/0jys3m</td>\n",
       "      <td>/m/0bgchn4</td>\n",
       "      <td>/m/0346l4</td>\n",
       "    </tr>\n",
       "    <tr>\n",
       "      <th>2</th>\n",
       "      <td>975900</td>\n",
       "      <td>/m/03vyhn</td>\n",
       "      <td>Ghosts of Mars</td>\n",
       "      <td>2001-08-24</td>\n",
       "      <td>14010832.0</td>\n",
       "      <td>98.0</td>\n",
       "      <td>{\"/m/02h40lc\": \"English Language\"}</td>\n",
       "      <td>{\"/m/09c7w0\": \"United States of America\"}</td>\n",
       "      <td>{\"/m/01jfsb\": \"Thriller\", \"/m/06n90\": \"Science...</td>\n",
       "      <td>2001.0</td>\n",
       "      <td>...</td>\n",
       "      <td>Desolation Williams</td>\n",
       "      <td>1969-06-15</td>\n",
       "      <td>M</td>\n",
       "      <td>1.727</td>\n",
       "      <td>/m/0x67</td>\n",
       "      <td>Ice Cube</td>\n",
       "      <td>32.0</td>\n",
       "      <td>/m/0jys3g</td>\n",
       "      <td>/m/0bgchn_</td>\n",
       "      <td>/m/01vw26l</td>\n",
       "    </tr>\n",
       "    <tr>\n",
       "      <th>3</th>\n",
       "      <td>975900</td>\n",
       "      <td>/m/03vyhn</td>\n",
       "      <td>Ghosts of Mars</td>\n",
       "      <td>2001-08-24</td>\n",
       "      <td>14010832.0</td>\n",
       "      <td>98.0</td>\n",
       "      <td>{\"/m/02h40lc\": \"English Language\"}</td>\n",
       "      <td>{\"/m/09c7w0\": \"United States of America\"}</td>\n",
       "      <td>{\"/m/01jfsb\": \"Thriller\", \"/m/06n90\": \"Science...</td>\n",
       "      <td>2001.0</td>\n",
       "      <td>...</td>\n",
       "      <td>Sgt Jericho Butler</td>\n",
       "      <td>1967-09-12</td>\n",
       "      <td>M</td>\n",
       "      <td>1.750</td>\n",
       "      <td>NaN</td>\n",
       "      <td>Jason Statham</td>\n",
       "      <td>33.0</td>\n",
       "      <td>/m/02vchl6</td>\n",
       "      <td>/m/0bgchnq</td>\n",
       "      <td>/m/034hyc</td>\n",
       "    </tr>\n",
       "    <tr>\n",
       "      <th>4</th>\n",
       "      <td>975900</td>\n",
       "      <td>/m/03vyhn</td>\n",
       "      <td>Ghosts of Mars</td>\n",
       "      <td>2001-08-24</td>\n",
       "      <td>14010832.0</td>\n",
       "      <td>98.0</td>\n",
       "      <td>{\"/m/02h40lc\": \"English Language\"}</td>\n",
       "      <td>{\"/m/09c7w0\": \"United States of America\"}</td>\n",
       "      <td>{\"/m/01jfsb\": \"Thriller\", \"/m/06n90\": \"Science...</td>\n",
       "      <td>2001.0</td>\n",
       "      <td>...</td>\n",
       "      <td>Bashira Kincaid</td>\n",
       "      <td>1977-09-25</td>\n",
       "      <td>F</td>\n",
       "      <td>1.650</td>\n",
       "      <td>NaN</td>\n",
       "      <td>Clea DuVall</td>\n",
       "      <td>23.0</td>\n",
       "      <td>/m/02vbb3r</td>\n",
       "      <td>/m/0bgchp9</td>\n",
       "      <td>/m/01y9xg</td>\n",
       "    </tr>\n",
       "  </tbody>\n",
       "</table>\n",
       "<p>5 rows × 21 columns</p>\n",
       "</div>"
      ],
      "text/plain": [
       "   movie_wikipedia_id movie_freebase_id      movie_name movie_release_date  \\\n",
       "0              975900         /m/03vyhn  Ghosts of Mars         2001-08-24   \n",
       "1              975900         /m/03vyhn  Ghosts of Mars         2001-08-24   \n",
       "2              975900         /m/03vyhn  Ghosts of Mars         2001-08-24   \n",
       "3              975900         /m/03vyhn  Ghosts of Mars         2001-08-24   \n",
       "4              975900         /m/03vyhn  Ghosts of Mars         2001-08-24   \n",
       "\n",
       "   movie_box_office_revenue  movie_runtime  \\\n",
       "0                14010832.0           98.0   \n",
       "1                14010832.0           98.0   \n",
       "2                14010832.0           98.0   \n",
       "3                14010832.0           98.0   \n",
       "4                14010832.0           98.0   \n",
       "\n",
       "                      movie_languages  \\\n",
       "0  {\"/m/02h40lc\": \"English Language\"}   \n",
       "1  {\"/m/02h40lc\": \"English Language\"}   \n",
       "2  {\"/m/02h40lc\": \"English Language\"}   \n",
       "3  {\"/m/02h40lc\": \"English Language\"}   \n",
       "4  {\"/m/02h40lc\": \"English Language\"}   \n",
       "\n",
       "                             movie_countries  \\\n",
       "0  {\"/m/09c7w0\": \"United States of America\"}   \n",
       "1  {\"/m/09c7w0\": \"United States of America\"}   \n",
       "2  {\"/m/09c7w0\": \"United States of America\"}   \n",
       "3  {\"/m/09c7w0\": \"United States of America\"}   \n",
       "4  {\"/m/09c7w0\": \"United States of America\"}   \n",
       "\n",
       "                                        movie_genres  movie_release_year  ...  \\\n",
       "0  {\"/m/01jfsb\": \"Thriller\", \"/m/06n90\": \"Science...              2001.0  ...   \n",
       "1  {\"/m/01jfsb\": \"Thriller\", \"/m/06n90\": \"Science...              2001.0  ...   \n",
       "2  {\"/m/01jfsb\": \"Thriller\", \"/m/06n90\": \"Science...              2001.0  ...   \n",
       "3  {\"/m/01jfsb\": \"Thriller\", \"/m/06n90\": \"Science...              2001.0  ...   \n",
       "4  {\"/m/01jfsb\": \"Thriller\", \"/m/06n90\": \"Science...              2001.0  ...   \n",
       "\n",
       "               character_name actor_date_of_birth actor_gender  \\\n",
       "0                    Akooshay          1958-08-26            F   \n",
       "1  Lieutenant Melanie Ballard          1974-08-15            F   \n",
       "2         Desolation Williams          1969-06-15            M   \n",
       "3          Sgt Jericho Butler          1967-09-12            M   \n",
       "4             Bashira Kincaid          1977-09-25            F   \n",
       "\n",
       "  actor_height_meters  actor_ethnicity_freebase_id          actor_name  \\\n",
       "0               1.620                          NaN      Wanda De Jesus   \n",
       "1               1.780                   /m/044038p  Natasha Henstridge   \n",
       "2               1.727                      /m/0x67            Ice Cube   \n",
       "3               1.750                          NaN       Jason Statham   \n",
       "4               1.650                          NaN         Clea DuVall   \n",
       "\n",
       "  actor_age_at_movie_release  character_actor_freebase_map_id  \\\n",
       "0                       42.0                       /m/0bgchxw   \n",
       "1                       27.0                        /m/0jys3m   \n",
       "2                       32.0                        /m/0jys3g   \n",
       "3                       33.0                       /m/02vchl6   \n",
       "4                       23.0                       /m/02vbb3r   \n",
       "\n",
       "  character_freebase_id actor_freebase_id  \n",
       "0            /m/0bgcj3x        /m/03wcfv7  \n",
       "1            /m/0bgchn4         /m/0346l4  \n",
       "2            /m/0bgchn_        /m/01vw26l  \n",
       "3            /m/0bgchnq         /m/034hyc  \n",
       "4            /m/0bgchp9         /m/01y9xg  \n",
       "\n",
       "[5 rows x 21 columns]"
      ]
     },
     "execution_count": 142,
     "metadata": {},
     "output_type": "execute_result"
    }
   ],
   "source": [
    "# Merging the 'movies_df' and 'characters_df' DataFrames using an inner join on the 'Wikipedia_ID' and 'Wikipedia_movie_ID' columns\n",
    "\n",
    "movie_characters_df = pd.merge(movies_df, characters_df, on=['movie_wikipedia_id', 'movie_freebase_id', 'movie_release_date'], how='inner')\n",
    "movie_characters_df.head()"
   ]
  },
  {
   "cell_type": "code",
   "execution_count": null,
   "id": "9b53895c-5930-496d-b216-e8fee3b9d265",
   "metadata": {
    "tags": []
   },
   "outputs": [
    {
     "data": {
      "text/html": [
       "<div>\n",
       "<style scoped>\n",
       "    .dataframe tbody tr th:only-of-type {\n",
       "        vertical-align: middle;\n",
       "    }\n",
       "\n",
       "    .dataframe tbody tr th {\n",
       "        vertical-align: top;\n",
       "    }\n",
       "\n",
       "    .dataframe thead th {\n",
       "        text-align: right;\n",
       "    }\n",
       "</style>\n",
       "<table border=\"1\" class=\"dataframe\">\n",
       "  <thead>\n",
       "    <tr style=\"text-align: right;\">\n",
       "      <th></th>\n",
       "      <th>movie_wikipedia_id</th>\n",
       "      <th>movie_freebase_id</th>\n",
       "      <th>movie_name</th>\n",
       "      <th>movie_release_date</th>\n",
       "      <th>movie_box_office_revenue</th>\n",
       "      <th>movie_runtime</th>\n",
       "      <th>movie_languages</th>\n",
       "      <th>movie_countries</th>\n",
       "      <th>movie_genres</th>\n",
       "      <th>movie_release_year</th>\n",
       "      <th>...</th>\n",
       "      <th>actor_date_of_birth</th>\n",
       "      <th>actor_gender</th>\n",
       "      <th>actor_height_meters</th>\n",
       "      <th>actor_ethnicity_freebase_id</th>\n",
       "      <th>actor_name</th>\n",
       "      <th>actor_age_at_movie_release</th>\n",
       "      <th>character_actor_freebase_map_id</th>\n",
       "      <th>character_freebase_id</th>\n",
       "      <th>actor_freebase_id</th>\n",
       "      <th>actor_ethnicity</th>\n",
       "    </tr>\n",
       "  </thead>\n",
       "  <tbody>\n",
       "    <tr>\n",
       "      <th>0</th>\n",
       "      <td>975900</td>\n",
       "      <td>/m/03vyhn</td>\n",
       "      <td>Ghosts of Mars</td>\n",
       "      <td>2001-08-24</td>\n",
       "      <td>14010832.0</td>\n",
       "      <td>98.0</td>\n",
       "      <td>{\"/m/02h40lc\": \"English Language\"}</td>\n",
       "      <td>{\"/m/09c7w0\": \"United States of America\"}</td>\n",
       "      <td>{\"/m/01jfsb\": \"Thriller\", \"/m/06n90\": \"Science...</td>\n",
       "      <td>2001.0</td>\n",
       "      <td>...</td>\n",
       "      <td>1969-06-15</td>\n",
       "      <td>M</td>\n",
       "      <td>1.727</td>\n",
       "      <td>/m/0x67</td>\n",
       "      <td>Ice Cube</td>\n",
       "      <td>32.0</td>\n",
       "      <td>/m/0jys3g</td>\n",
       "      <td>/m/0bgchn_</td>\n",
       "      <td>/m/01vw26l</td>\n",
       "      <td>African Americans</td>\n",
       "    </tr>\n",
       "    <tr>\n",
       "      <th>1</th>\n",
       "      <td>975900</td>\n",
       "      <td>/m/03vyhn</td>\n",
       "      <td>Ghosts of Mars</td>\n",
       "      <td>2001-08-24</td>\n",
       "      <td>14010832.0</td>\n",
       "      <td>98.0</td>\n",
       "      <td>{\"/m/02h40lc\": \"English Language\"}</td>\n",
       "      <td>{\"/m/09c7w0\": \"United States of America\"}</td>\n",
       "      <td>{\"/m/01jfsb\": \"Thriller\", \"/m/06n90\": \"Science...</td>\n",
       "      <td>2001.0</td>\n",
       "      <td>...</td>\n",
       "      <td>1949-05-26</td>\n",
       "      <td>F</td>\n",
       "      <td>1.727</td>\n",
       "      <td>/m/0x67</td>\n",
       "      <td>Pam Grier</td>\n",
       "      <td>52.0</td>\n",
       "      <td>/m/02vdcfp</td>\n",
       "      <td>/m/0bgchnd</td>\n",
       "      <td>/m/0418ft</td>\n",
       "      <td>African Americans</td>\n",
       "    </tr>\n",
       "    <tr>\n",
       "      <th>2</th>\n",
       "      <td>3196793</td>\n",
       "      <td>/m/08yl5d</td>\n",
       "      <td>Getting Away with Murder: The JonBenét Ramsey ...</td>\n",
       "      <td>2000-02-16</td>\n",
       "      <td>NaN</td>\n",
       "      <td>95.0</td>\n",
       "      <td>{\"/m/02h40lc\": \"English Language\"}</td>\n",
       "      <td>{\"/m/09c7w0\": \"United States of America\"}</td>\n",
       "      <td>{\"/m/02n4kr\": \"Mystery\", \"/m/03bxz7\": \"Biograp...</td>\n",
       "      <td>2000.0</td>\n",
       "      <td>...</td>\n",
       "      <td>1937-11-10</td>\n",
       "      <td>M</td>\n",
       "      <td>NaN</td>\n",
       "      <td>/m/0x67</td>\n",
       "      <td>Albert Hall</td>\n",
       "      <td>62.0</td>\n",
       "      <td>/m/0lr37dy</td>\n",
       "      <td>NaN</td>\n",
       "      <td>/m/01lntp</td>\n",
       "      <td>African Americans</td>\n",
       "    </tr>\n",
       "    <tr>\n",
       "      <th>3</th>\n",
       "      <td>156558</td>\n",
       "      <td>/m/014k4y</td>\n",
       "      <td>Baby Boy</td>\n",
       "      <td>2001-06-27</td>\n",
       "      <td>29381649.0</td>\n",
       "      <td>123.0</td>\n",
       "      <td>{\"/m/02h40lc\": \"English Language\"}</td>\n",
       "      <td>{\"/m/09c7w0\": \"United States of America\"}</td>\n",
       "      <td>{\"/m/0lsxr\": \"Crime Fiction\", \"/m/07s9rl0\": \"D...</td>\n",
       "      <td>2001.0</td>\n",
       "      <td>...</td>\n",
       "      <td>1970-09-11</td>\n",
       "      <td>F</td>\n",
       "      <td>1.650</td>\n",
       "      <td>/m/0x67</td>\n",
       "      <td>Taraji P. Henson</td>\n",
       "      <td>30.0</td>\n",
       "      <td>/m/0jtx5t</td>\n",
       "      <td>/m/03jnxj_</td>\n",
       "      <td>/m/0blbxk</td>\n",
       "      <td>African Americans</td>\n",
       "    </tr>\n",
       "    <tr>\n",
       "      <th>4</th>\n",
       "      <td>156558</td>\n",
       "      <td>/m/014k4y</td>\n",
       "      <td>Baby Boy</td>\n",
       "      <td>2001-06-27</td>\n",
       "      <td>29381649.0</td>\n",
       "      <td>123.0</td>\n",
       "      <td>{\"/m/02h40lc\": \"English Language\"}</td>\n",
       "      <td>{\"/m/09c7w0\": \"United States of America\"}</td>\n",
       "      <td>{\"/m/0lsxr\": \"Crime Fiction\", \"/m/07s9rl0\": \"D...</td>\n",
       "      <td>2001.0</td>\n",
       "      <td>...</td>\n",
       "      <td>1978-12-30</td>\n",
       "      <td>M</td>\n",
       "      <td>1.797</td>\n",
       "      <td>/m/0x67</td>\n",
       "      <td>Tyrese Gibson</td>\n",
       "      <td>22.0</td>\n",
       "      <td>/m/0jtx5h</td>\n",
       "      <td>/m/03jnxf4</td>\n",
       "      <td>/m/01l1b90</td>\n",
       "      <td>African Americans</td>\n",
       "    </tr>\n",
       "  </tbody>\n",
       "</table>\n",
       "<p>5 rows × 22 columns</p>\n",
       "</div>"
      ],
      "text/plain": [
       "   movie_wikipedia_id movie_freebase_id  \\\n",
       "0              975900         /m/03vyhn   \n",
       "1              975900         /m/03vyhn   \n",
       "2             3196793         /m/08yl5d   \n",
       "3              156558         /m/014k4y   \n",
       "4              156558         /m/014k4y   \n",
       "\n",
       "                                          movie_name movie_release_date  \\\n",
       "0                                     Ghosts of Mars         2001-08-24   \n",
       "1                                     Ghosts of Mars         2001-08-24   \n",
       "2  Getting Away with Murder: The JonBenét Ramsey ...         2000-02-16   \n",
       "3                                           Baby Boy         2001-06-27   \n",
       "4                                           Baby Boy         2001-06-27   \n",
       "\n",
       "   movie_box_office_revenue  movie_runtime  \\\n",
       "0                14010832.0           98.0   \n",
       "1                14010832.0           98.0   \n",
       "2                       NaN           95.0   \n",
       "3                29381649.0          123.0   \n",
       "4                29381649.0          123.0   \n",
       "\n",
       "                      movie_languages  \\\n",
       "0  {\"/m/02h40lc\": \"English Language\"}   \n",
       "1  {\"/m/02h40lc\": \"English Language\"}   \n",
       "2  {\"/m/02h40lc\": \"English Language\"}   \n",
       "3  {\"/m/02h40lc\": \"English Language\"}   \n",
       "4  {\"/m/02h40lc\": \"English Language\"}   \n",
       "\n",
       "                             movie_countries  \\\n",
       "0  {\"/m/09c7w0\": \"United States of America\"}   \n",
       "1  {\"/m/09c7w0\": \"United States of America\"}   \n",
       "2  {\"/m/09c7w0\": \"United States of America\"}   \n",
       "3  {\"/m/09c7w0\": \"United States of America\"}   \n",
       "4  {\"/m/09c7w0\": \"United States of America\"}   \n",
       "\n",
       "                                        movie_genres  movie_release_year  ...  \\\n",
       "0  {\"/m/01jfsb\": \"Thriller\", \"/m/06n90\": \"Science...              2001.0  ...   \n",
       "1  {\"/m/01jfsb\": \"Thriller\", \"/m/06n90\": \"Science...              2001.0  ...   \n",
       "2  {\"/m/02n4kr\": \"Mystery\", \"/m/03bxz7\": \"Biograp...              2000.0  ...   \n",
       "3  {\"/m/0lsxr\": \"Crime Fiction\", \"/m/07s9rl0\": \"D...              2001.0  ...   \n",
       "4  {\"/m/0lsxr\": \"Crime Fiction\", \"/m/07s9rl0\": \"D...              2001.0  ...   \n",
       "\n",
       "   actor_date_of_birth actor_gender actor_height_meters  \\\n",
       "0           1969-06-15            M               1.727   \n",
       "1           1949-05-26            F               1.727   \n",
       "2           1937-11-10            M                 NaN   \n",
       "3           1970-09-11            F               1.650   \n",
       "4           1978-12-30            M               1.797   \n",
       "\n",
       "  actor_ethnicity_freebase_id        actor_name actor_age_at_movie_release  \\\n",
       "0                     /m/0x67          Ice Cube                       32.0   \n",
       "1                     /m/0x67         Pam Grier                       52.0   \n",
       "2                     /m/0x67       Albert Hall                       62.0   \n",
       "3                     /m/0x67  Taraji P. Henson                       30.0   \n",
       "4                     /m/0x67     Tyrese Gibson                       22.0   \n",
       "\n",
       "  character_actor_freebase_map_id  character_freebase_id actor_freebase_id  \\\n",
       "0                       /m/0jys3g             /m/0bgchn_        /m/01vw26l   \n",
       "1                      /m/02vdcfp             /m/0bgchnd         /m/0418ft   \n",
       "2                      /m/0lr37dy                    NaN         /m/01lntp   \n",
       "3                       /m/0jtx5t             /m/03jnxj_         /m/0blbxk   \n",
       "4                       /m/0jtx5h             /m/03jnxf4        /m/01l1b90   \n",
       "\n",
       "     actor_ethnicity  \n",
       "0  African Americans  \n",
       "1  African Americans  \n",
       "2  African Americans  \n",
       "3  African Americans  \n",
       "4  African Americans  \n",
       "\n",
       "[5 rows x 22 columns]"
      ]
     },
     "execution_count": 143,
     "metadata": {},
     "output_type": "execute_result"
    }
   ],
   "source": [
    "# Merging with the ethnicity label\n",
    "movie_characters_ethnicity_df = pd.merge(movie_characters_df, label_ethnicity_df, on=\"actor_ethnicity_freebase_id\", how='inner')\n",
    "movie_characters_ethnicity_df.head()"
   ]
  },
  {
   "cell_type": "code",
   "execution_count": null,
   "id": "0f83a2cc-c230-490f-806a-a62c96521079",
   "metadata": {},
   "outputs": [
    {
     "name": "stdout",
     "output_type": "stream",
     "text": [
      "Shape of 'movie_characters_df': (450273, 21)\n",
      "Shape of 'movie_characters_ethnicity_df': (102934, 22)\n"
     ]
    }
   ],
   "source": [
    "# Display the shape of the 'movie_characters_df' DataFrame\n",
    "print(\"Shape of 'movie_characters_df':\", movie_characters_df.shape)\n",
    "print(\"Shape of 'movie_characters_ethnicity_df':\", movie_characters_ethnicity_df.shape)"
   ]
  },
  {
   "cell_type": "markdown",
   "id": "05849299-2235-4cbd-bd9e-c553b411c143",
   "metadata": {},
   "source": [
    "There are approximately four times as many samples in the `movie_characters_df` compared to the `movie_characters_ethnicity_df`. Therefore, we can confidently conclude that it is necessary to store both dataframes."
   ]
  },
  {
   "cell_type": "markdown",
   "id": "bc7e897e-d521-4410-9b9a-5dc6acb3c4fe",
   "metadata": {},
   "source": [
    "Finally, we postpone the removal of `NaN` values until later in the research. This way, we can eliminate the `NaN` values specifically from the feature that is relevant to each step, ensuring that we do not discard valuable data unnecessarily."
   ]
  },
  {
   "cell_type": "markdown",
   "id": "c4fa6c46-cdfb-4f54-a0f3-60fc5e428790",
   "metadata": {},
   "source": [
    "Now we can store our datasets in csv files, but we should keep only relevant columns !"
   ]
  },
  {
   "cell_type": "code",
   "execution_count": null,
   "id": "f7ba5da6-59b4-4667-9023-a7e2886ec392",
   "metadata": {},
   "outputs": [
    {
     "name": "stdout",
     "output_type": "stream",
     "text": [
      "Number of columns of movie_characters_df before filtering: 21\n",
      "Number of columns of movie_characters_df after filtering: 13\n",
      "\n",
      "Number of columns of movie_characters_ethnicity_df before filtering: 22\n",
      "Number of columns of movie_characters_ethnicity_df after filtering: 14\n"
     ]
    }
   ],
   "source": [
    "# List of columns to keep, in specific order for better readability.\n",
    "columns_to_keep_no_ethnicity = [\n",
    "    'movie_wikipedia_id',\n",
    "    'movie_freebase_id',\n",
    "    'movie_name',\n",
    "    'movie_release_year',\n",
    "    'movie_languages_count',\n",
    "    'movie_box_office_revenue',\n",
    "    'character_freebase_id',\n",
    "    'actor_freebase_id',\n",
    "    'character_actor_freebase_map_id',\n",
    "    'character_name',\n",
    "    'actor_name',\n",
    "    'actor_gender',\n",
    "    'actor_age_at_movie_release',\n",
    "]\n",
    "\n",
    "columns_to_keep_ethnicity = columns_to_keep_no_ethnicity + ['actor_ethnicity']\n",
    "\n",
    "print(f\"Number of columns of movie_characters_df before filtering: {movie_characters_df.shape[1]}\")\n",
    "movie_characters_df = movie_characters_df[columns_to_keep_no_ethnicity]\n",
    "print(f\"Number of columns of movie_characters_df after filtering: {movie_characters_df.shape[1]}\")\n",
    "\n",
    "print()\n",
    "\n",
    "print(f\"Number of columns of movie_characters_ethnicity_df before filtering: {movie_characters_ethnicity_df.shape[1]}\")\n",
    "movie_characters_ethnicity_df = movie_characters_ethnicity_df[columns_to_keep_ethnicity]\n",
    "print(f\"Number of columns of movie_characters_ethnicity_df after filtering: {movie_characters_ethnicity_df.shape[1]}\")"
   ]
  },
  {
   "cell_type": "code",
   "execution_count": null,
   "id": "c0fa12f1-eff2-4785-8c5e-d7a6d28fde88",
   "metadata": {},
   "outputs": [],
   "source": [
    "# Save the generated data frames in cvs file\n",
    "movie_characters_df.to_csv('generated/movie_characters.csv', index=False)\n",
    "movie_characters_ethnicity_df.to_csv('generated/movie_characters_ethnicity.csv', index=False)"
   ]
  },
  {
   "cell_type": "markdown",
   "id": "19c770a6-9cad-4118-9e91-e7be18b21a2d",
   "metadata": {
    "tags": []
   },
   "source": [
    "### 2) Movies, Characters, Plots, TVtropes"
   ]
  },
  {
   "cell_type": "markdown",
   "id": "f580ceed-3b56-485f-8810-2862271e2e62",
   "metadata": {
    "tags": []
   },
   "source": [
    "Now we will generate a dataframe with movies, characters and plots. This one will be used in our analysis of stereotypes associated with roles and the significance of these roles."
   ]
  },
  {
   "cell_type": "code",
   "execution_count": null,
   "id": "218af80f-5125-47e2-a7a6-4ca14e5b0b19",
   "metadata": {
    "tags": []
   },
   "outputs": [
    {
     "data": {
      "text/html": [
       "<div>\n",
       "<style scoped>\n",
       "    .dataframe tbody tr th:only-of-type {\n",
       "        vertical-align: middle;\n",
       "    }\n",
       "\n",
       "    .dataframe tbody tr th {\n",
       "        vertical-align: top;\n",
       "    }\n",
       "\n",
       "    .dataframe thead th {\n",
       "        text-align: right;\n",
       "    }\n",
       "</style>\n",
       "<table border=\"1\" class=\"dataframe\">\n",
       "  <thead>\n",
       "    <tr style=\"text-align: right;\">\n",
       "      <th></th>\n",
       "      <th>movie_wikipedia_id</th>\n",
       "      <th>movie_plot</th>\n",
       "      <th>movie_freebase_id</th>\n",
       "      <th>movie_name</th>\n",
       "      <th>movie_release_year</th>\n",
       "      <th>movie_languages_count</th>\n",
       "      <th>movie_box_office_revenue</th>\n",
       "      <th>character_freebase_id</th>\n",
       "      <th>actor_freebase_id</th>\n",
       "      <th>character_actor_freebase_map_id</th>\n",
       "      <th>character_name</th>\n",
       "      <th>actor_name</th>\n",
       "      <th>actor_gender</th>\n",
       "      <th>actor_age_at_movie_release</th>\n",
       "      <th>character_type</th>\n",
       "    </tr>\n",
       "  </thead>\n",
       "  <tbody>\n",
       "    <tr>\n",
       "      <th>0</th>\n",
       "      <td>6002183</td>\n",
       "      <td>In the Jungle of Nool, a tiny dust speck is pu...</td>\n",
       "      <td>/m/0fk25m</td>\n",
       "      <td>Horton Hears a Who!</td>\n",
       "      <td>2008.0</td>\n",
       "      <td>22</td>\n",
       "      <td>297138014.0</td>\n",
       "      <td>/m/04xnbs</td>\n",
       "      <td>/m/0lx2l</td>\n",
       "      <td>/m/05tgl99</td>\n",
       "      <td>Horton the Elephant</td>\n",
       "      <td>Jim Carrey</td>\n",
       "      <td>M</td>\n",
       "      <td>46.0</td>\n",
       "      <td>warrior_poet</td>\n",
       "    </tr>\n",
       "    <tr>\n",
       "      <th>1</th>\n",
       "      <td>45772</td>\n",
       "      <td>On November 25, 1975, Rocky Balboa  is introd...</td>\n",
       "      <td>/m/0cf08</td>\n",
       "      <td>Rocky</td>\n",
       "      <td>1976.0</td>\n",
       "      <td>22</td>\n",
       "      <td>225000000.0</td>\n",
       "      <td>/m/0cg655</td>\n",
       "      <td>/m/0234pg</td>\n",
       "      <td>/m/0k2n0d</td>\n",
       "      <td>Apollo Creed</td>\n",
       "      <td>Carl Weathers</td>\n",
       "      <td>M</td>\n",
       "      <td>28.0</td>\n",
       "      <td>arrogant_kungfu_guy</td>\n",
       "    </tr>\n",
       "    <tr>\n",
       "      <th>2</th>\n",
       "      <td>1238102</td>\n",
       "      <td>The film opens in the Bronx, where The Lieuten...</td>\n",
       "      <td>/m/04l40p</td>\n",
       "      <td>Bad Lieutenant</td>\n",
       "      <td>1992.0</td>\n",
       "      <td>27</td>\n",
       "      <td>2019469.0</td>\n",
       "      <td>/m/0bdwp2l</td>\n",
       "      <td>/m/0klh7</td>\n",
       "      <td>/m/0jtz28</td>\n",
       "      <td>The Lieutenant</td>\n",
       "      <td>Harvey Keitel</td>\n",
       "      <td>M</td>\n",
       "      <td>53.0</td>\n",
       "      <td>dirty_cop</td>\n",
       "    </tr>\n",
       "    <tr>\n",
       "      <th>3</th>\n",
       "      <td>133688</td>\n",
       "      <td>The Piano tells the story of a mute Scotswoman...</td>\n",
       "      <td>/m/0_b9f</td>\n",
       "      <td>The Piano</td>\n",
       "      <td>1993.0</td>\n",
       "      <td>30</td>\n",
       "      <td>40157856.0</td>\n",
       "      <td>/m/0h2qv1_</td>\n",
       "      <td>/m/01ckhj</td>\n",
       "      <td>/m/0k63tb</td>\n",
       "      <td>Alisdair Stewart</td>\n",
       "      <td>Sam Neill</td>\n",
       "      <td>M</td>\n",
       "      <td>45.0</td>\n",
       "      <td>crazy_jealous_guy</td>\n",
       "    </tr>\n",
       "    <tr>\n",
       "      <th>4</th>\n",
       "      <td>77223</td>\n",
       "      <td>Tony Wendice is an ex-professional tennis play...</td>\n",
       "      <td>/m/0k7tq</td>\n",
       "      <td>Dial M for Murder</td>\n",
       "      <td>1954.0</td>\n",
       "      <td>22</td>\n",
       "      <td>6000000.0</td>\n",
       "      <td>/m/0528dy7</td>\n",
       "      <td>/m/0f0p0</td>\n",
       "      <td>/m/0jx7qr</td>\n",
       "      <td>Tony Wendice</td>\n",
       "      <td>Ray Milland</td>\n",
       "      <td>M</td>\n",
       "      <td>47.0</td>\n",
       "      <td>crazy_jealous_guy</td>\n",
       "    </tr>\n",
       "  </tbody>\n",
       "</table>\n",
       "</div>"
      ],
      "text/plain": [
       "   movie_wikipedia_id                                         movie_plot  \\\n",
       "0             6002183  In the Jungle of Nool, a tiny dust speck is pu...   \n",
       "1               45772   On November 25, 1975, Rocky Balboa  is introd...   \n",
       "2             1238102  The film opens in the Bronx, where The Lieuten...   \n",
       "3              133688  The Piano tells the story of a mute Scotswoman...   \n",
       "4               77223  Tony Wendice is an ex-professional tennis play...   \n",
       "\n",
       "  movie_freebase_id           movie_name  movie_release_year  \\\n",
       "0         /m/0fk25m  Horton Hears a Who!              2008.0   \n",
       "1          /m/0cf08                Rocky              1976.0   \n",
       "2         /m/04l40p       Bad Lieutenant              1992.0   \n",
       "3          /m/0_b9f            The Piano              1993.0   \n",
       "4          /m/0k7tq    Dial M for Murder              1954.0   \n",
       "\n",
       "   movie_languages_count  movie_box_office_revenue character_freebase_id  \\\n",
       "0                     22               297138014.0             /m/04xnbs   \n",
       "1                     22               225000000.0             /m/0cg655   \n",
       "2                     27                 2019469.0            /m/0bdwp2l   \n",
       "3                     30                40157856.0            /m/0h2qv1_   \n",
       "4                     22                 6000000.0            /m/0528dy7   \n",
       "\n",
       "  actor_freebase_id character_actor_freebase_map_id       character_name  \\\n",
       "0          /m/0lx2l                      /m/05tgl99  Horton the Elephant   \n",
       "1         /m/0234pg                       /m/0k2n0d         Apollo Creed   \n",
       "2          /m/0klh7                       /m/0jtz28       The Lieutenant   \n",
       "3         /m/01ckhj                       /m/0k63tb     Alisdair Stewart   \n",
       "4          /m/0f0p0                       /m/0jx7qr         Tony Wendice   \n",
       "\n",
       "      actor_name actor_gender  actor_age_at_movie_release       character_type  \n",
       "0     Jim Carrey            M                        46.0         warrior_poet  \n",
       "1  Carl Weathers            M                        28.0  arrogant_kungfu_guy  \n",
       "2  Harvey Keitel            M                        53.0            dirty_cop  \n",
       "3      Sam Neill            M                        45.0    crazy_jealous_guy  \n",
       "4    Ray Milland            M                        47.0    crazy_jealous_guy  "
      ]
     },
     "execution_count": 147,
     "metadata": {},
     "output_type": "execute_result"
    }
   ],
   "source": [
    "# Merging the 'movie_characters_df' and 'plot_summary_df' DataFrames using an inner join on the 'Wikipedia_ID' and 'Wikipedia_movie_ID' columns\n",
    "\n",
    "movie_characters_plot_df = pd.merge(plot_summary_df, movie_characters_df, how='inner')\n",
    "movie_characters_plot_tvtropes_df = pd.merge(movie_characters_plot_df, tvtropes_df, how='inner')\n",
    "\n",
    "movie_characters_plot_tvtropes_df.head()"
   ]
  },
  {
   "cell_type": "code",
   "execution_count": null,
   "id": "6a0ad567-4c42-4305-9c9c-d7003adc3c49",
   "metadata": {},
   "outputs": [
    {
     "name": "stdout",
     "output_type": "stream",
     "text": [
      "Shape of 'movie_characters_plot_df': (308257, 14)\n",
      "Shape of 'movie_characters_plot_tvtropes_df': (501, 15)\n"
     ]
    }
   ],
   "source": [
    "# Display the shape of the generated dataframes\n",
    "print(\"Shape of 'movie_characters_plot_df':\", movie_characters_plot_df.shape)\n",
    "print(\"Shape of 'movie_characters_plot_tvtropes_df':\", movie_characters_plot_tvtropes_df.shape)"
   ]
  },
  {
   "cell_type": "markdown",
   "id": "f83c05f3-04b9-4533-bc8b-b5ca3b64cc0c",
   "metadata": {},
   "source": [
    "Again there is a huge lose of data for the `movie_characters_plot_tvtropes_df`. Therefore we will store both dataframes.\n",
    "Moreover, as these dataframe were generated from the `movie_characters`, we notice that we don't need to filter their columns again."
   ]
  },
  {
   "cell_type": "code",
   "execution_count": null,
   "id": "9e7d8b8c-be4a-49b8-a63f-f853fad4410e",
   "metadata": {},
   "outputs": [],
   "source": [
    "movie_characters_plot_df.to_csv('generated/movie_characters_plot.csv', index=False)\n",
    "movie_characters_plot_tvtropes_df.to_csv('generated/movie_characters_plot_tvtropes.csv', index=False)"
   ]
  },
  {
   "cell_type": "markdown",
   "id": "7b065527-9292-4766-8a02-ec5d753be7b2",
   "metadata": {
    "tags": []
   },
   "source": [
    "# D) Test our generated datasets"
   ]
  },
  {
   "cell_type": "markdown",
   "id": "a14160d6-c3a3-4e9d-8bb5-1a3418b15667",
   "metadata": {
    "tags": []
   },
   "source": [
    "### 1) Movies, Characters, Ethnicities"
   ]
  },
  {
   "cell_type": "code",
   "execution_count": null,
   "id": "9c315990-30ef-4965-ab75-db7c3b34bb8c",
   "metadata": {},
   "outputs": [],
   "source": [
    "# Load our generated datasets\n",
    "movie_characters_test_df = pd.read_csv('generated/movie_characters.csv')\n",
    "movie_characters_ethnicity_test_df = pd.read_csv('generated/movie_characters_ethnicity.csv')"
   ]
  },
  {
   "cell_type": "markdown",
   "id": "eda3719f-2581-4b37-81ed-f5db758e1dbb",
   "metadata": {},
   "source": [
    "Let's get some insights from the ethnicity repartition."
   ]
  },
  {
   "cell_type": "code",
   "execution_count": null,
   "id": "9d579b09-d0ba-406d-b8ef-694a0bce8273",
   "metadata": {
    "tags": []
   },
   "outputs": [
    {
     "name": "stderr",
     "output_type": "stream",
     "text": [
      "C:\\Users\\Louis\\AppData\\Local\\Temp\\ipykernel_22696\\2304411325.py:10: FutureWarning: \n",
      "\n",
      "Passing `palette` without assigning `hue` is deprecated and will be removed in v0.14.0. Assign the `x` variable to `hue` and set `legend=False` for the same effect.\n",
      "\n",
      "  sns.barplot(x=top_20_ethnicities.index, y=top_20_ethnicities.values, palette='viridis')\n"
     ]
    },
    {
     "data": {
      "image/png": "[encoded data removed]",
      "text/plain": [
       "<Figure size 800x600 with 1 Axes>"
      ]
     },
     "metadata": {},
     "output_type": "display_data"
    }
   ],
   "source": [
    "# Compute and sort the ethnicity distribution\n",
    "ethnicity_distribution = movie_characters_ethnicity_test_df['actor_ethnicity'].value_counts()\n",
    "sorted_ethnicity_distribution = ethnicity_distribution.sort_values(ascending=False)\n",
    "\n",
    "# Keep only the top 20 values\n",
    "top_20_ethnicities = sorted_ethnicity_distribution.head(20)\n",
    "\n",
    "# Create a bar chart\n",
    "plt.figure(figsize=(8, 6))\n",
    "sns.barplot(x=top_20_ethnicities.index, y=top_20_ethnicities.values, palette='viridis')\n",
    "plt.xlabel('Ethnicity')\n",
    "plt.ylabel('Count')\n",
    "plt.title('Count of the top 20 most represented ethnicities')\n",
    "plt.xticks(rotation=90)  # Rotate x-axis labels for better readability\n",
    "\n",
    "# Show the bar chart\n",
    "plt.tight_layout()\n",
    "plt.show()"
   ]
  },
  {
   "cell_type": "markdown",
   "id": "f91ddb55-f51b-4681-a20a-44e9ba0ea192",
   "metadata": {},
   "source": [
    "The distribution appears to be heterogeneous, offering us the chance to make assumptions about the more prevalent and less common ethnicities. It's important to note that this first chart reflects the ethnicities for each character appearance. Therefore, it's possible for a single actor to contribute to the chart multiple times."
   ]
  },
  {
   "cell_type": "markdown",
   "id": "cc2a8171-2fcc-4ce6-a121-29abcba32cca",
   "metadata": {},
   "source": [
    "Let's get some insights from the gender repartition. This time, we will use the `movie_characters_test_df` so we use the maximum data."
   ]
  },
  {
   "cell_type": "code",
   "execution_count": null,
   "id": "0396a47c-6c31-445b-9eb8-43110ebce14b",
   "metadata": {
    "tags": []
   },
   "outputs": [
    {
     "data": {
      "image/png": "[encoded data removed]",
      "text/plain": [
       "<Figure size 300x300 with 1 Axes>"
      ]
     },
     "metadata": {},
     "output_type": "display_data"
    }
   ],
   "source": [
    "# Calculate the gender distribution\n",
    "gender_distribution = movie_characters_test_df['actor_gender'].value_counts()\n",
    "\n",
    "# Create a pie chart\n",
    "plt.figure(figsize=(3, 3))\n",
    "plt.pie(gender_distribution, labels=gender_distribution.index, autopct='%1.1f%%', startangle=90, colors=['lightblue', 'pink'])\n",
    "plt.title('Distribution of Actor Gender')\n",
    "plt.axis('equal')  # Equal aspect ratio ensures that the pie chart is circular\n",
    "\n",
    "# Show the pie chart\n",
    "plt.show()"
   ]
  },
  {
   "cell_type": "markdown",
   "id": "d0553925-fbd8-4f81-aad4-17f438fc21c0",
   "metadata": {},
   "source": [
    "Finally, let's get some insights from the age repartition, again on the `movie_characters_test_df`."
   ]
  },
  {
   "cell_type": "code",
   "execution_count": null,
   "id": "27d315ed-7850-482c-af8f-cf3a8315124b",
   "metadata": {},
   "outputs": [
    {
     "name": "stderr",
     "output_type": "stream",
     "text": [
      "C:\\Users\\Louis\\AppData\\Local\\Temp\\ipykernel_22696\\1679627518.py:6: FutureWarning: \n",
      "\n",
      "Passing `palette` without assigning `hue` is deprecated and will be removed in v0.14.0. Assign the `x` variable to `hue` and set `legend=False` for the same effect.\n",
      "\n",
      "  sns.barplot(x=age_distribution.index.astype(int), y=age_distribution.values, palette='viridis')\n"
     ]
    },
    {
     "data": {
      "image/png": "[encoded data removed]",
      "text/plain": [
       "<Figure size 2200x600 with 1 Axes>"
      ]
     },
     "metadata": {},
     "output_type": "display_data"
    }
   ],
   "source": [
    "# Calculate the age distribution\n",
    "age_distribution = movie_characters_test_df['actor_age_at_movie_release'].value_counts()\n",
    "\n",
    "# Create a histogram\n",
    "plt.figure(figsize=(22, 6))\n",
    "sns.barplot(x=age_distribution.index.astype(int), y=age_distribution.values, palette='viridis')\n",
    "plt.xlabel('Actor Age at Movie Release')\n",
    "plt.ylabel('Frequency')\n",
    "plt.title('Distribution of Actor Age at Movie Release')\n",
    "\n",
    "# Show the histogram\n",
    "plt.tight_layout()\n",
    "plt.show()"
   ]
  },
  {
   "cell_type": "markdown",
   "id": "ab14e44a-e415-4824-961c-5c1d645910a6",
   "metadata": {
    "tags": []
   },
   "source": [
    "### 2) Movies, Characters, Plots, TVtropes"
   ]
  },
  {
   "cell_type": "code",
   "execution_count": null,
   "id": "7ea26a7c-ce85-4489-a181-c981d9745975",
   "metadata": {},
   "outputs": [],
   "source": [
    "# Load our generated datasets\n",
    "movie_characters_plot_df = pd.read_csv('generated/movie_characters_plot.csv')\n",
    "movie_characters_plot_tvtropes_df = pd.read_csv('generated/movie_characters_plot_tvtropes.csv')"
   ]
  },
  {
   "cell_type": "markdown",
   "id": "d0ab2c6a-1598-4240-89af-84c355c2a259",
   "metadata": {},
   "source": [
    "Let's try an example on the movie _\"Pirates of the Caribbean: Dead Man's Chest\"_"
   ]
  },
  {
   "cell_type": "code",
   "execution_count": null,
   "id": "605808b7-7cb3-4a1d-9106-2d93b88e4d42",
   "metadata": {},
   "outputs": [
    {
     "name": "stdout",
     "output_type": "stream",
     "text": [
      "The names of the characters in the movie 'Pirates of the Caribbean: Dead Man's Chest' are:\n",
      "['Cutler Beckett' 'Captain Jack Sparrow' 'Will Turner' 'Elizabeth Swann'\n",
      " 'Norrington' 'Davy Jones' 'Governor Weatherby Swann' 'Pintel' 'Ragetti'\n",
      " 'Joshamee Gibbs' 'Cotton' 'Bootstrap Bill Turner' 'Tia Dalma' 'Marty'\n",
      " 'Mercer' 'Captain Bellamy' 'Scarlett' 'Leech' 'Very Old Man'\n",
      " 'Hector Barbossa']\n"
     ]
    }
   ],
   "source": [
    "# The names of the characters in the movie_characters_plot_tvtropes_df dataframes are :\n",
    "unique_characters = movie_characters_plot_df[movie_characters_plot_df['movie_name'] == \"Pirates of the Caribbean: Dead Man's Chest\"][\"character_name\"].unique()\n",
    "print(\"The names of the characters in the movie 'Pirates of the Caribbean: Dead Man's Chest' are:\")\n",
    "print(unique_characters)"
   ]
  },
  {
   "cell_type": "code",
   "execution_count": null,
   "id": "d89b6877-5d65-4bef-9d53-3aa4ce815216",
   "metadata": {},
   "outputs": [
    {
     "name": "stderr",
     "output_type": "stream",
     "text": [
      "C:\\Users\\Louis\\AppData\\Local\\Temp\\ipykernel_22696\\3999814322.py:15: UserWarning: FixedFormatter should only be used together with FixedLocator\n",
      "  plot.set_xticklabels(plot.get_xticklabels(), rotation=90)\n"
     ]
    },
    {
     "data": {
      "image/png": "[encoded data removed]",
      "text/plain": [
       "<Figure size 1200x600 with 1 Axes>"
      ]
     },
     "metadata": {},
     "output_type": "display_data"
    }
   ],
   "source": [
    "# Example our generated dataframe with Pirate of the Caribbean\n",
    "pirate_df = movie_characters_plot_df[movie_characters_plot_df['movie_name'] == \"Pirates of the Caribbean: Dead Man's Chest\"].copy()\n",
    "\n",
    "# Compute the frequency of apparition of each character in Pirate of the Caribbean in the plot summary\n",
    "pirate_df['frequency_apparition'] = pirate_df.apply(lambda row: compute_apparition_frequency(row['character_name'], row['movie_plot']), axis=1)\n",
    "\n",
    "unique_pirate_df = pirate_df.drop_duplicates(subset=\"actor_name\", keep=\"first\")\n",
    "unique_pirate_df = unique_pirate_df.sort_values(by=\"frequency_apparition\", ascending=False)\n",
    "\n",
    "# Create the bar plot\n",
    "plt.figure(figsize=(12, 6))\n",
    "plot = sns.barplot(x=unique_pirate_df['character_name'], y=unique_pirate_df['frequency_apparition'])\n",
    "\n",
    "# Rotate the x-axis labels by 90 degrees\n",
    "plot.set_xticklabels(plot.get_xticklabels(), rotation=90)\n",
    "\n",
    "plt.xlabel('Character name')\n",
    "plt.ylabel('Number of occurrences in plot summary')\n",
    "plt.title(\"Number of occurrences of characters' names in plot summary\")\n",
    "\n",
    "plt.show()"
   ]
  },
  {
   "cell_type": "markdown",
   "id": "2fa63137-092a-49ee-84fa-2fddcd09f512",
   "metadata": {},
   "source": [
    "This chart relies on the performance of the function responsible for calculating the occurrences. While there is room for potential improvements in this function in the future, it currently appears to be functioning quite effectively."
   ]
  }
 ],
 "metadata": {
  "kernelspec": {
   "display_name": "Python 3 (ipykernel)",
   "language": "python",
   "name": "python3"
  },
  "language_info": {
   "codemirror_mode": {
    "name": "ipython",
    "version": 3
   },
   "file_extension": ".py",
   "mimetype": "text/x-python",
   "name": "python",
   "nbconvert_exporter": "python",
   "pygments_lexer": "ipython3",
   "version": "3.9.18"
  }
 },
 "nbformat": 4,
 "nbformat_minor": 5
}
