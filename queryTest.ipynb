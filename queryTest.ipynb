{
 "cells": [
  {
   "cell_type": "markdown",
   "metadata": {},
   "source": [
    "# Wikidata query"
   ]
  },
  {
   "cell_type": "code",
   "execution_count": 1,
   "metadata": {},
   "outputs": [],
   "source": [
    "import pandas as pd\n",
    "import requests\n",
    "from src.apiQueries import getLabelFromFBID, getInfoFromTMDB, multiprocess_query\n",
    "\n",
    "\n",
    "\n",
    "DATA_PATH = './datasets/'\n",
    "MOVIE_DATASET_PATH = DATA_PATH + 'MovieSummaries/'\n",
    "char_datapath = MOVIE_DATASET_PATH + 'character.metadata.tsv'\n",
    "movie_metadata = MOVIE_DATASET_PATH + 'movie.metadata.tsv'\n",
    "name_clusters = MOVIE_DATASET_PATH + 'name.clusters.txt'\n",
    "plot_summaries = MOVIE_DATASET_PATH + 'plot_summaries.txt'\n",
    "tvtropes_clusters = MOVIE_DATASET_PATH + 'tvtropes.clusters.txt'"
   ]
  },
  {
   "cell_type": "code",
   "execution_count": 2,
   "metadata": {},
   "outputs": [],
   "source": [
    "# ## Define columns names corresponding to characters metadata \n",
    "# ## and import the table using Pandas\n",
    "# char_col_names= ['Wikipedia_movie_ID','Freebase_move_ID', 'movie_release_date',\n",
    "#                    'Character_name','Actor_DOB','Actor_gender',\n",
    "#                    'Actor_height','Actor_ethnicity','Actor_name',\n",
    "#                    'Actor_age_release','Freebase_character_map',\n",
    "#                    'Freebase_character_map2','Freebase_character_map3']\n",
    "\n",
    "# char_metadata_df = pd.read_csv(char_datapath,header=None,sep='\\t',names=char_col_names) "
   ]
  },
  {
   "cell_type": "code",
   "execution_count": 3,
   "metadata": {},
   "outputs": [],
   "source": [
    "# # Extract the list of Freebase ID ethnicities and get their label\n",
    "# # with a query on the wikiData api\n",
    "# FBids = char_metadata_df['Actor_ethnicity'].dropna().unique()\n",
    "# df = getLabelFromFBID(id_list=FBids,verbose=True)"
   ]
  },
  {
   "cell_type": "code",
   "execution_count": 4,
   "metadata": {},
   "outputs": [],
   "source": [
    "# # Save the labels for later use (if needed)\n",
    "# df.to_csv('./generated/EthnicitiesLabels.csv')"
   ]
  },
  {
   "cell_type": "code",
   "execution_count": 5,
   "metadata": {},
   "outputs": [],
   "source": [
    "# ethn_df = char_metadata_df.dropna(subset=['Actor_ethnicity'])\n",
    "# ethn_df = ethn_df.merge(right = df,\n",
    "#                        how='left',\n",
    "#                        left_on='Actor_ethnicity',\n",
    "#                        right_on='freebaseID.value')"
   ]
  },
  {
   "cell_type": "code",
   "execution_count": 6,
   "metadata": {},
   "outputs": [],
   "source": [
    "# ethn_df['freebaseID.value'].isna().sum()"
   ]
  },
  {
   "cell_type": "markdown",
   "metadata": {},
   "source": [
    "We see that some of the freebase IDs were not found on the database -> wanna search on another DB ?"
   ]
  },
  {
   "cell_type": "markdown",
   "metadata": {},
   "source": [
    "## IMDB Queries"
   ]
  },
  {
   "cell_type": "code",
   "execution_count": 7,
   "metadata": {},
   "outputs": [],
   "source": [
    "col_names = names=['Wikipedia_movie_ID','Freebase_move_ID',\n",
    "                   'Movie_name','Movie_release_date','Movie_box_office_revenue',\n",
    "                   'Movie_runtime','Movie_languages','Movie_countries','Movie_genres']\n",
    "\n",
    "\n",
    "movie_metadata_df = pd.read_csv(movie_metadata,header=None,sep='\\t',\n",
    "                                names=col_names) \n",
    "movie_list = movie_metadata_df[['Movie_name','Movie_runtime']]"
   ]
  },
  {
   "cell_type": "code",
   "execution_count": 8,
   "metadata": {},
   "outputs": [],
   "source": [
    "import tmdbsimple as tmdb\n",
    "with open('api_keys/tmdbkey.txt','r') as file:\n",
    "    key = file.readline()"
   ]
  },
  {
   "cell_type": "code",
   "execution_count": 9,
   "metadata": {},
   "outputs": [
    {
     "data": {
      "text/plain": [
       "1634"
      ]
     },
     "execution_count": 9,
     "metadata": {},
     "output_type": "execute_result"
    }
   ],
   "source": [
    "length_quartile = len(movie_list)//50\n",
    "length_quartile"
   ]
  },
  {
   "cell_type": "code",
   "execution_count": 10,
   "metadata": {},
   "outputs": [
    {
     "name": "stdout",
     "output_type": "stream",
     "text": [
      "Starting to fetch ...\n",
      "Found a match for movie number 0\n",
      "['Ghosts of Mars', 5.125, 982, 28000000]\n",
      "Found a match for movie number 2\n",
      "['Brun bitter', 0.0, 0, 0]\n",
      "Found a match for movie number 3\n",
      "['White Of The Eye', 5.742, 64, 0]\n",
      "Found a match for movie number 4\n",
      "['A Woman in Flames', 5.3, 13, 0]\n",
      "Found a match for movie number 5\n",
      "['The Gangsters', 6.0, 1, 0]\n",
      "Found a match for movie number 6\n",
      "[\"The Sorcerer's Apprentice\", 4.6, 11, 0]\n",
      "Found a match for movie number 7\n",
      "[\"Alexander's Ragtime Band\", 6.6, 23, 2000000]\n"
     ]
    },
    {
     "data": {
      "text/html": [
       "<div>\n",
       "<style scoped>\n",
       "    .dataframe tbody tr th:only-of-type {\n",
       "        vertical-align: middle;\n",
       "    }\n",
       "\n",
       "    .dataframe tbody tr th {\n",
       "        vertical-align: top;\n",
       "    }\n",
       "\n",
       "    .dataframe thead th {\n",
       "        text-align: right;\n",
       "    }\n",
       "</style>\n",
       "<table border=\"1\" class=\"dataframe\">\n",
       "  <thead>\n",
       "    <tr style=\"text-align: right;\">\n",
       "      <th></th>\n",
       "      <th>title</th>\n",
       "      <th>vote_average</th>\n",
       "      <th>vote_counts</th>\n",
       "      <th>budget</th>\n",
       "    </tr>\n",
       "  </thead>\n",
       "  <tbody>\n",
       "    <tr>\n",
       "      <th>0</th>\n",
       "      <td>Ghosts of Mars</td>\n",
       "      <td>5.125</td>\n",
       "      <td>982</td>\n",
       "      <td>28000000</td>\n",
       "    </tr>\n",
       "    <tr>\n",
       "      <th>1</th>\n",
       "      <td>Brun bitter</td>\n",
       "      <td>0.000</td>\n",
       "      <td>0</td>\n",
       "      <td>0</td>\n",
       "    </tr>\n",
       "    <tr>\n",
       "      <th>2</th>\n",
       "      <td>White Of The Eye</td>\n",
       "      <td>5.742</td>\n",
       "      <td>64</td>\n",
       "      <td>0</td>\n",
       "    </tr>\n",
       "    <tr>\n",
       "      <th>3</th>\n",
       "      <td>A Woman in Flames</td>\n",
       "      <td>5.300</td>\n",
       "      <td>13</td>\n",
       "      <td>0</td>\n",
       "    </tr>\n",
       "    <tr>\n",
       "      <th>4</th>\n",
       "      <td>The Gangsters</td>\n",
       "      <td>6.000</td>\n",
       "      <td>1</td>\n",
       "      <td>0</td>\n",
       "    </tr>\n",
       "    <tr>\n",
       "      <th>5</th>\n",
       "      <td>The Sorcerer's Apprentice</td>\n",
       "      <td>4.600</td>\n",
       "      <td>11</td>\n",
       "      <td>0</td>\n",
       "    </tr>\n",
       "    <tr>\n",
       "      <th>6</th>\n",
       "      <td>Alexander's Ragtime Band</td>\n",
       "      <td>6.600</td>\n",
       "      <td>23</td>\n",
       "      <td>2000000</td>\n",
       "    </tr>\n",
       "  </tbody>\n",
       "</table>\n",
       "</div>"
      ],
      "text/plain": [
       "                       title  vote_average  vote_counts    budget\n",
       "0             Ghosts of Mars         5.125          982  28000000\n",
       "1                Brun bitter         0.000            0         0\n",
       "2           White Of The Eye         5.742           64         0\n",
       "3          A Woman in Flames         5.300           13         0\n",
       "4              The Gangsters         6.000            1         0\n",
       "5  The Sorcerer's Apprentice         4.600           11         0\n",
       "6   Alexander's Ragtime Band         6.600           23   2000000"
      ]
     },
     "execution_count": 10,
     "metadata": {},
     "output_type": "execute_result"
    }
   ],
   "source": [
    "getInfoFromTMDB(movie_list=movie_list[:10],key=key,verbose=True)"
   ]
  },
  {
   "cell_type": "code",
   "execution_count": 11,
   "metadata": {},
   "outputs": [],
   "source": [
    "\n",
    "def task(chunk, key):\n",
    "    return getInfoFromTMDB(movie_list = chunk,key = key, verbose=False)\n",
    "movie_info_df = multiprocess_query(movie_list=movie_list[:10],api_key=key, nb_workers=1,task = task)"
   ]
  },
  {
   "cell_type": "code",
   "execution_count": null,
   "metadata": {},
   "outputs": [],
   "source": [
    "movie_info_df.to_csv('./generated/TMDB1.csv')"
   ]
  },
  {
   "cell_type": "code",
   "execution_count": null,
   "metadata": {},
   "outputs": [],
   "source": []
  },
  {
   "cell_type": "code",
   "execution_count": null,
   "metadata": {},
   "outputs": [],
   "source": []
  },
  {
   "cell_type": "code",
   "execution_count": null,
   "metadata": {},
   "outputs": [],
   "source": []
  }
 ],
 "metadata": {
  "kernelspec": {
   "display_name": "ada",
   "language": "python",
   "name": "python3"
  },
  "language_info": {
   "codemirror_mode": {
    "name": "ipython",
    "version": 3
   },
   "file_extension": ".py",
   "mimetype": "text/x-python",
   "name": "python",
   "nbconvert_exporter": "python",
   "pygments_lexer": "ipython3",
   "version": "3.9.18"
  }
 },
 "nbformat": 4,
 "nbformat_minor": 2
}
