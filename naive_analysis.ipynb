{
 "cells": [
  {
   "cell_type": "markdown",
   "id": "beb4c4be",
   "metadata": {},
   "source": [
    "# Naive Analysis"
   ]
  },
  {
   "cell_type": "code",
   "execution_count": 123,
   "id": "db7e40dd",
   "metadata": {},
   "outputs": [],
   "source": [
    "# Useful Imports\n",
    "import pandas as pd\n",
    "import matplotlib.pyplot as plt\n",
    "import plotly.express as px\n",
    "import seaborn as sns\n",
    "import statsmodels.api as sm"
   ]
  },
  {
   "cell_type": "markdown",
   "id": "0814371b",
   "metadata": {},
   "source": [
    "## Ethnic diversity"
   ]
  },
  {
   "cell_type": "markdown",
   "id": "366b1d0c",
   "metadata": {},
   "source": [
    "### Dataframe"
   ]
  },
  {
   "cell_type": "code",
   "execution_count": 124,
   "id": "087dab2d",
   "metadata": {},
   "outputs": [],
   "source": [
    "# Load Datasets\n",
    "ethnicity_diversity_df = pd.read_csv('generated/ethnicity_diversity.csv')\n",
    "# gender_diversity_df = pd.read_csv(\"generated/gender_diversity.csv\")"
   ]
  },
  {
   "cell_type": "code",
   "execution_count": 125,
   "id": "dbdaf51e",
   "metadata": {},
   "outputs": [
    {
     "data": {
      "text/html": [
       "<div>\n",
       "<style scoped>\n",
       "    .dataframe tbody tr th:only-of-type {\n",
       "        vertical-align: middle;\n",
       "    }\n",
       "\n",
       "    .dataframe tbody tr th {\n",
       "        vertical-align: top;\n",
       "    }\n",
       "\n",
       "    .dataframe thead th {\n",
       "        text-align: right;\n",
       "    }\n",
       "</style>\n",
       "<table border=\"1\" class=\"dataframe\">\n",
       "  <thead>\n",
       "    <tr style=\"text-align: right;\">\n",
       "      <th></th>\n",
       "      <th>movie_freebase_id</th>\n",
       "      <th>movie_name</th>\n",
       "      <th>movie_release_year</th>\n",
       "      <th>movie_languages_count</th>\n",
       "      <th>movie_genres</th>\n",
       "      <th>ethnicity_diversity</th>\n",
       "      <th>actors_count</th>\n",
       "      <th>rating_average</th>\n",
       "      <th>rating_count</th>\n",
       "      <th>movie_box_office_revenue</th>\n",
       "    </tr>\n",
       "  </thead>\n",
       "  <tbody>\n",
       "    <tr>\n",
       "      <th>0</th>\n",
       "      <td>/m/031hcx</td>\n",
       "      <td>Harry Potter and the Order of the Phoenix</td>\n",
       "      <td>2007.0</td>\n",
       "      <td>22</td>\n",
       "      <td>['Mystery', 'Family Film', 'Fantasy Adventure'...</td>\n",
       "      <td>0.744898</td>\n",
       "      <td>28</td>\n",
       "      <td>7.685</td>\n",
       "      <td>18416</td>\n",
       "      <td>7.263377</td>\n",
       "    </tr>\n",
       "    <tr>\n",
       "      <th>1</th>\n",
       "      <td>/m/02qr3k8</td>\n",
       "      <td>Terror in the Aisles</td>\n",
       "      <td>1984.0</td>\n",
       "      <td>22</td>\n",
       "      <td>['Thriller', 'Horror', 'Documentary']</td>\n",
       "      <td>0.850480</td>\n",
       "      <td>27</td>\n",
       "      <td>6.100</td>\n",
       "      <td>37</td>\n",
       "      <td>-0.425137</td>\n",
       "    </tr>\n",
       "    <tr>\n",
       "      <th>2</th>\n",
       "      <td>/m/031786</td>\n",
       "      <td>Harry Potter and the Goblet of Fire</td>\n",
       "      <td>2005.0</td>\n",
       "      <td>32</td>\n",
       "      <td>['Thriller', 'Science Fiction', 'Fantasy Adven...</td>\n",
       "      <td>0.793600</td>\n",
       "      <td>25</td>\n",
       "      <td>7.815</td>\n",
       "      <td>19551</td>\n",
       "      <td>6.908049</td>\n",
       "    </tr>\n",
       "    <tr>\n",
       "      <th>3</th>\n",
       "      <td>/m/03l6q0</td>\n",
       "      <td>Scary Movie 3</td>\n",
       "      <td>2003.0</td>\n",
       "      <td>22</td>\n",
       "      <td>['Parody', 'Horror', 'Absurdism', 'Gross-out f...</td>\n",
       "      <td>0.760417</td>\n",
       "      <td>24</td>\n",
       "      <td>5.977</td>\n",
       "      <td>3815</td>\n",
       "      <td>1.316728</td>\n",
       "    </tr>\n",
       "    <tr>\n",
       "      <th>4</th>\n",
       "      <td>/m/011ywj</td>\n",
       "      <td>Gosford Park</td>\n",
       "      <td>2001.0</td>\n",
       "      <td>22</td>\n",
       "      <td>['Thriller', 'Ensemble Film', 'LGBT', 'Comedy ...</td>\n",
       "      <td>0.548204</td>\n",
       "      <td>23</td>\n",
       "      <td>6.853</td>\n",
       "      <td>997</td>\n",
       "      <td>0.217715</td>\n",
       "    </tr>\n",
       "    <tr>\n",
       "      <th>...</th>\n",
       "      <td>...</td>\n",
       "      <td>...</td>\n",
       "      <td>...</td>\n",
       "      <td>...</td>\n",
       "      <td>...</td>\n",
       "      <td>...</td>\n",
       "      <td>...</td>\n",
       "      <td>...</td>\n",
       "      <td>...</td>\n",
       "      <td>...</td>\n",
       "    </tr>\n",
       "    <tr>\n",
       "      <th>12635</th>\n",
       "      <td>/m/0270d95</td>\n",
       "      <td>The Painted Veil</td>\n",
       "      <td>1934.0</td>\n",
       "      <td>22</td>\n",
       "      <td>['Drama', 'Black-and-white', 'War film']</td>\n",
       "      <td>0.500000</td>\n",
       "      <td>2</td>\n",
       "      <td>6.400</td>\n",
       "      <td>21</td>\n",
       "      <td>NaN</td>\n",
       "    </tr>\n",
       "    <tr>\n",
       "      <th>12636</th>\n",
       "      <td>/m/06zdqc</td>\n",
       "      <td>Passport to Paris</td>\n",
       "      <td>1999.0</td>\n",
       "      <td>22</td>\n",
       "      <td>['Romance Film', 'Family Film', 'Comedy', 'Tee...</td>\n",
       "      <td>0.500000</td>\n",
       "      <td>2</td>\n",
       "      <td>6.187</td>\n",
       "      <td>289</td>\n",
       "      <td>NaN</td>\n",
       "    </tr>\n",
       "    <tr>\n",
       "      <th>12637</th>\n",
       "      <td>/m/02y8kn</td>\n",
       "      <td>Mark of the Vampire</td>\n",
       "      <td>1935.0</td>\n",
       "      <td>22</td>\n",
       "      <td>['Thriller', 'Detective fiction', 'Horror', 'D...</td>\n",
       "      <td>0.500000</td>\n",
       "      <td>2</td>\n",
       "      <td>6.100</td>\n",
       "      <td>117</td>\n",
       "      <td>NaN</td>\n",
       "    </tr>\n",
       "    <tr>\n",
       "      <th>12638</th>\n",
       "      <td>/m/080b28t</td>\n",
       "      <td>Genesis</td>\n",
       "      <td>1999.0</td>\n",
       "      <td>2</td>\n",
       "      <td>['Drama', 'World cinema']</td>\n",
       "      <td>0.000000</td>\n",
       "      <td>2</td>\n",
       "      <td>5.700</td>\n",
       "      <td>3</td>\n",
       "      <td>NaN</td>\n",
       "    </tr>\n",
       "    <tr>\n",
       "      <th>12639</th>\n",
       "      <td>/m/0dyy_v</td>\n",
       "      <td>Vixen!</td>\n",
       "      <td>1968.0</td>\n",
       "      <td>22</td>\n",
       "      <td>['Softcore Porn', 'Sexploitation']</td>\n",
       "      <td>0.500000</td>\n",
       "      <td>2</td>\n",
       "      <td>5.300</td>\n",
       "      <td>70</td>\n",
       "      <td>NaN</td>\n",
       "    </tr>\n",
       "  </tbody>\n",
       "</table>\n",
       "<p>12640 rows × 10 columns</p>\n",
       "</div>"
      ],
      "text/plain": [
       "      movie_freebase_id                                 movie_name  \\\n",
       "0             /m/031hcx  Harry Potter and the Order of the Phoenix   \n",
       "1            /m/02qr3k8                       Terror in the Aisles   \n",
       "2             /m/031786        Harry Potter and the Goblet of Fire   \n",
       "3             /m/03l6q0                              Scary Movie 3   \n",
       "4             /m/011ywj                               Gosford Park   \n",
       "...                 ...                                        ...   \n",
       "12635        /m/0270d95                           The Painted Veil   \n",
       "12636         /m/06zdqc                          Passport to Paris   \n",
       "12637         /m/02y8kn                        Mark of the Vampire   \n",
       "12638        /m/080b28t                                    Genesis   \n",
       "12639         /m/0dyy_v                                     Vixen!   \n",
       "\n",
       "       movie_release_year  movie_languages_count  \\\n",
       "0                  2007.0                     22   \n",
       "1                  1984.0                     22   \n",
       "2                  2005.0                     32   \n",
       "3                  2003.0                     22   \n",
       "4                  2001.0                     22   \n",
       "...                   ...                    ...   \n",
       "12635              1934.0                     22   \n",
       "12636              1999.0                     22   \n",
       "12637              1935.0                     22   \n",
       "12638              1999.0                      2   \n",
       "12639              1968.0                     22   \n",
       "\n",
       "                                            movie_genres  ethnicity_diversity  \\\n",
       "0      ['Mystery', 'Family Film', 'Fantasy Adventure'...             0.744898   \n",
       "1                  ['Thriller', 'Horror', 'Documentary']             0.850480   \n",
       "2      ['Thriller', 'Science Fiction', 'Fantasy Adven...             0.793600   \n",
       "3      ['Parody', 'Horror', 'Absurdism', 'Gross-out f...             0.760417   \n",
       "4      ['Thriller', 'Ensemble Film', 'LGBT', 'Comedy ...             0.548204   \n",
       "...                                                  ...                  ...   \n",
       "12635           ['Drama', 'Black-and-white', 'War film']             0.500000   \n",
       "12636  ['Romance Film', 'Family Film', 'Comedy', 'Tee...             0.500000   \n",
       "12637  ['Thriller', 'Detective fiction', 'Horror', 'D...             0.500000   \n",
       "12638                          ['Drama', 'World cinema']             0.000000   \n",
       "12639                 ['Softcore Porn', 'Sexploitation']             0.500000   \n",
       "\n",
       "       actors_count  rating_average  rating_count  movie_box_office_revenue  \n",
       "0                28           7.685         18416                  7.263377  \n",
       "1                27           6.100            37                 -0.425137  \n",
       "2                25           7.815         19551                  6.908049  \n",
       "3                24           5.977          3815                  1.316728  \n",
       "4                23           6.853           997                  0.217715  \n",
       "...             ...             ...           ...                       ...  \n",
       "12635             2           6.400            21                       NaN  \n",
       "12636             2           6.187           289                       NaN  \n",
       "12637             2           6.100           117                       NaN  \n",
       "12638             2           5.700             3                       NaN  \n",
       "12639             2           5.300            70                       NaN  \n",
       "\n",
       "[12640 rows x 10 columns]"
      ]
     },
     "metadata": {},
     "output_type": "display_data"
    }
   ],
   "source": [
    "# Display ethnicity_diversity_df dataframe\n",
    "display(ethnicity_diversity_df)"
   ]
  },
  {
   "cell_type": "markdown",
   "id": "e43b08dc",
   "metadata": {},
   "source": [
    "### Evolution of Ethnic Diversity"
   ]
  },
  {
   "cell_type": "code",
   "execution_count": 126,
   "id": "e0cfa4ff",
   "metadata": {},
   "outputs": [
    {
     "data": {
      "image/png": "[encoded data removed]",
      "text/plain": [
       "<Figure size 720x432 with 1 Axes>"
      ]
     },
     "metadata": {
      "needs_background": "light"
     },
     "output_type": "display_data"
    }
   ],
   "source": [
    "# Show the average ethnic diversity for each year range (5 years)\n",
    "\n",
    "# Calculation of average ethnic diversity per 5-year period\n",
    "ethnicity_diversity_df['year_bin'] = (ethnicity_diversity_df['movie_release_year'] // 5) * 5\n",
    "\n",
    "# Calculation of the average of ethnic diversity for each 10-year period\n",
    "average_ethnic_diversity_by_decade = ethnicity_diversity_df.groupby('year_bin')['ethnicity_diversity'].mean().reset_index()\n",
    "\n",
    "# Creation of the histogram\n",
    "plt.figure(figsize=(10, 6))\n",
    "sns.barplot(data=average_ethnic_diversity_by_decade, x='year_bin', y='ethnicity_diversity')\n",
    "plt.title('Average Ethnic Diversity by Year Range (5 Years)')\n",
    "plt.xlabel('Range of Years')\n",
    "plt.ylabel('Average Ethnic Diversity')\n",
    "plt.xticks(rotation=45)\n",
    "plt.show()"
   ]
  },
  {
   "cell_type": "code",
   "execution_count": 127,
   "id": "6f728088",
   "metadata": {},
   "outputs": [
    {
     "data": {
      "image/png": "[encoded data removed]",
      "text/plain": [
       "<Figure size 720x432 with 1 Axes>"
      ]
     },
     "metadata": {
      "needs_background": "light"
     },
     "output_type": "display_data"
    }
   ],
   "source": [
    "# Calculation of the average of ethnic diversity per year\n",
    "average_ethnic_diversity_per_year = ethnicity_diversity_df.groupby('movie_release_year')['ethnicity_diversity'].mean()\n",
    "\n",
    "# Creation of the graph\n",
    "plt.figure(figsize=(10, 6))\n",
    "average_ethnic_diversity_per_year.plot(kind='line', marker='o')\n",
    "plt.title('Evolution of Ethnic Diversity in Films Over Time')\n",
    "plt.xlabel('Year of Film Release')\n",
    "plt.ylabel('Average Ethnic Diversity')\n",
    "plt.grid(True)\n",
    "plt.show()"
   ]
  },
  {
   "cell_type": "code",
   "execution_count": 128,
   "id": "7f3f8f78",
   "metadata": {},
   "outputs": [
    {
     "data": {
      "application/vnd.plotly.v1+json": {
       "config": {
        "plotlyServerURL": "https://plot.ly"
       },
       "data": [
        {
         "hovertemplate": "Year of Film Release=%{x}<br>Average Ethnic Diversity=%{y}<extra></extra>",
         "legendgroup": "",
         "line": {
          "color": "#636efa",
          "dash": "solid"
         },
         "marker": {
          "symbol": "circle"
         },
         "mode": "lines",
         "name": "",
         "orientation": "v",
         "showlegend": false,
         "type": "scatter",
         "x": [
          1913,
          1914,
          1915,
          1916,
          1917,
          1918,
          1919,
          1920,
          1921,
          1922,
          1923,
          1924,
          1925,
          1926,
          1927,
          1928,
          1929,
          1930,
          1931,
          1932,
          1933,
          1934,
          1935,
          1936,
          1937,
          1938,
          1939,
          1940,
          1941,
          1942,
          1943,
          1944,
          1945,
          1946,
          1947,
          1948,
          1949,
          1950,
          1951,
          1952,
          1953,
          1954,
          1955,
          1956,
          1957,
          1958,
          1959,
          1960,
          1961,
          1962,
          1963,
          1964,
          1965,
          1966,
          1967,
          1968,
          1969,
          1970,
          1971,
          1972,
          1973,
          1974,
          1975,
          1976,
          1977,
          1978,
          1979,
          1980,
          1981,
          1982,
          1983,
          1984,
          1985,
          1986,
          1987,
          1988,
          1989,
          1990,
          1991,
          1992,
          1993,
          1994,
          1995,
          1996,
          1997,
          1998,
          1999,
          2000,
          2001,
          2002,
          2003,
          2004,
          2005,
          2006,
          2007,
          2008,
          2009,
          2010,
          2011,
          2012,
          2013
         ],
         "xaxis": "x",
         "y": [
          0.5,
          0.5166666666666667,
          0.5277777777777778,
          0.5,
          0.5,
          0.5,
          0.5,
          0,
          0,
          0.08333333333333333,
          0.08974358974358974,
          0.25,
          0.25,
          0.5555555555555556,
          0.39583333333333337,
          0.24074074074074073,
          0.3181818181818182,
          0.3333333333333333,
          0.43209876543209874,
          0.42,
          0.3796296296296296,
          0.42388888888888887,
          0.40883190883190884,
          0.4177927927927928,
          0.44373219373219375,
          0.48289930555555555,
          0.4367235217673815,
          0.4266304347826087,
          0.46456349206349207,
          0.5046768707482994,
          0.4883986928104575,
          0.4074027777777777,
          0.4339080459770115,
          0.4375,
          0.46403133903133903,
          0.45908163265306123,
          0.417989417989418,
          0.44070512820512825,
          0.40725694444444444,
          0.472979797979798,
          0.4808700209643606,
          0.45987654320987653,
          0.40330687830687834,
          0.5016084834834835,
          0.436511839708561,
          0.4318181818181818,
          0.4432063492063492,
          0.4528732638888889,
          0.4754930942073799,
          0.5038253968253968,
          0.48676767676767674,
          0.5065888352120236,
          0.4853164556962026,
          0.4662706552706553,
          0.5200322079449063,
          0.5324822984749455,
          0.5010185185185184,
          0.4650470627074326,
          0.46472854180337175,
          0.39995698623091847,
          0.4454701967592593,
          0.4073861137407138,
          0.4615263928458373,
          0.48302129886968964,
          0.5379828876760376,
          0.4968059701204745,
          0.49024313120309854,
          0.47193612319612027,
          0.5306147036462409,
          0.530667184842687,
          0.5389856927343941,
          0.5300888589602949,
          0.4986305815335119,
          0.5463371396648634,
          0.5426313104408771,
          0.5413937770891608,
          0.5472285423290835,
          0.5281284036539661,
          0.5189962322179584,
          0.5608832348837945,
          0.5800845998890327,
          0.5609882569254374,
          0.5781151848079029,
          0.5819479910096442,
          0.5724735601067799,
          0.5961784784456488,
          0.5968099755559257,
          0.5902794443336444,
          0.5826531170826481,
          0.5773137258674077,
          0.5487401351011353,
          0.5754769986185244,
          0.5420982541921168,
          0.5698996627418933,
          0.574356707077446,
          0.574312135395482,
          0.5757304282013989,
          0.5661815884735429,
          0.5877718237011933,
          0.623166887197754,
          0.625
         ],
         "yaxis": "y"
        }
       ],
       "layout": {
        "legend": {
         "tracegroupgap": 0
        },
        "template": {
         "data": {
          "bar": [
           {
            "error_x": {
             "color": "#2a3f5f"
            },
            "error_y": {
             "color": "#2a3f5f"
            },
            "marker": {
             "line": {
              "color": "#E5ECF6",
              "width": 0.5
             },
             "pattern": {
              "fillmode": "overlay",
              "size": 10,
              "solidity": 0.2
             }
            },
            "type": "bar"
           }
          ],
          "barpolar": [
           {
            "marker": {
             "line": {
              "color": "#E5ECF6",
              "width": 0.5
             },
             "pattern": {
              "fillmode": "overlay",
              "size": 10,
              "solidity": 0.2
             }
            },
            "type": "barpolar"
           }
          ],
          "carpet": [
           {
            "aaxis": {
             "endlinecolor": "#2a3f5f",
             "gridcolor": "white",
             "linecolor": "white",
             "minorgridcolor": "white",
             "startlinecolor": "#2a3f5f"
            },
            "baxis": {
             "endlinecolor": "#2a3f5f",
             "gridcolor": "white",
             "linecolor": "white",
             "minorgridcolor": "white",
             "startlinecolor": "#2a3f5f"
            },
            "type": "carpet"
           }
          ],
          "choropleth": [
           {
            "colorbar": {
             "outlinewidth": 0,
             "ticks": ""
            },
            "type": "choropleth"
           }
          ],
          "contour": [
           {
            "colorbar": {
             "outlinewidth": 0,
             "ticks": ""
            },
            "colorscale": [
             [
              0,
              "#0d0887"
             ],
             [
              0.1111111111111111,
              "#46039f"
             ],
             [
              0.2222222222222222,
              "#7201a8"
             ],
             [
              0.3333333333333333,
              "#9c179e"
             ],
             [
              0.4444444444444444,
              "#bd3786"
             ],
             [
              0.5555555555555556,
              "#d8576b"
             ],
             [
              0.6666666666666666,
              "#ed7953"
             ],
             [
              0.7777777777777778,
              "#fb9f3a"
             ],
             [
              0.8888888888888888,
              "#fdca26"
             ],
             [
              1,
              "#f0f921"
             ]
            ],
            "type": "contour"
           }
          ],
          "contourcarpet": [
           {
            "colorbar": {
             "outlinewidth": 0,
             "ticks": ""
            },
            "type": "contourcarpet"
           }
          ],
          "heatmap": [
           {
            "colorbar": {
             "outlinewidth": 0,
             "ticks": ""
            },
            "colorscale": [
             [
              0,
              "#0d0887"
             ],
             [
              0.1111111111111111,
              "#46039f"
             ],
             [
              0.2222222222222222,
              "#7201a8"
             ],
             [
              0.3333333333333333,
              "#9c179e"
             ],
             [
              0.4444444444444444,
              "#bd3786"
             ],
             [
              0.5555555555555556,
              "#d8576b"
             ],
             [
              0.6666666666666666,
              "#ed7953"
             ],
             [
              0.7777777777777778,
              "#fb9f3a"
             ],
             [
              0.8888888888888888,
              "#fdca26"
             ],
             [
              1,
              "#f0f921"
             ]
            ],
            "type": "heatmap"
           }
          ],
          "heatmapgl": [
           {
            "colorbar": {
             "outlinewidth": 0,
             "ticks": ""
            },
            "colorscale": [
             [
              0,
              "#0d0887"
             ],
             [
              0.1111111111111111,
              "#46039f"
             ],
             [
              0.2222222222222222,
              "#7201a8"
             ],
             [
              0.3333333333333333,
              "#9c179e"
             ],
             [
              0.4444444444444444,
              "#bd3786"
             ],
             [
              0.5555555555555556,
              "#d8576b"
             ],
             [
              0.6666666666666666,
              "#ed7953"
             ],
             [
              0.7777777777777778,
              "#fb9f3a"
             ],
             [
              0.8888888888888888,
              "#fdca26"
             ],
             [
              1,
              "#f0f921"
             ]
            ],
            "type": "heatmapgl"
           }
          ],
          "histogram": [
           {
            "marker": {
             "pattern": {
              "fillmode": "overlay",
              "size": 10,
              "solidity": 0.2
             }
            },
            "type": "histogram"
           }
          ],
          "histogram2d": [
           {
            "colorbar": {
             "outlinewidth": 0,
             "ticks": ""
            },
            "colorscale": [
             [
              0,
              "#0d0887"
             ],
             [
              0.1111111111111111,
              "#46039f"
             ],
             [
              0.2222222222222222,
              "#7201a8"
             ],
             [
              0.3333333333333333,
              "#9c179e"
             ],
             [
              0.4444444444444444,
              "#bd3786"
             ],
             [
              0.5555555555555556,
              "#d8576b"
             ],
             [
              0.6666666666666666,
              "#ed7953"
             ],
             [
              0.7777777777777778,
              "#fb9f3a"
             ],
             [
              0.8888888888888888,
              "#fdca26"
             ],
             [
              1,
              "#f0f921"
             ]
            ],
            "type": "histogram2d"
           }
          ],
          "histogram2dcontour": [
           {
            "colorbar": {
             "outlinewidth": 0,
             "ticks": ""
            },
            "colorscale": [
             [
              0,
              "#0d0887"
             ],
             [
              0.1111111111111111,
              "#46039f"
             ],
             [
              0.2222222222222222,
              "#7201a8"
             ],
             [
              0.3333333333333333,
              "#9c179e"
             ],
             [
              0.4444444444444444,
              "#bd3786"
             ],
             [
              0.5555555555555556,
              "#d8576b"
             ],
             [
              0.6666666666666666,
              "#ed7953"
             ],
             [
              0.7777777777777778,
              "#fb9f3a"
             ],
             [
              0.8888888888888888,
              "#fdca26"
             ],
             [
              1,
              "#f0f921"
             ]
            ],
            "type": "histogram2dcontour"
           }
          ],
          "mesh3d": [
           {
            "colorbar": {
             "outlinewidth": 0,
             "ticks": ""
            },
            "type": "mesh3d"
           }
          ],
          "parcoords": [
           {
            "line": {
             "colorbar": {
              "outlinewidth": 0,
              "ticks": ""
             }
            },
            "type": "parcoords"
           }
          ],
          "pie": [
           {
            "automargin": true,
            "type": "pie"
           }
          ],
          "scatter": [
           {
            "marker": {
             "colorbar": {
              "outlinewidth": 0,
              "ticks": ""
             }
            },
            "type": "scatter"
           }
          ],
          "scatter3d": [
           {
            "line": {
             "colorbar": {
              "outlinewidth": 0,
              "ticks": ""
             }
            },
            "marker": {
             "colorbar": {
              "outlinewidth": 0,
              "ticks": ""
             }
            },
            "type": "scatter3d"
           }
          ],
          "scattercarpet": [
           {
            "marker": {
             "colorbar": {
              "outlinewidth": 0,
              "ticks": ""
             }
            },
            "type": "scattercarpet"
           }
          ],
          "scattergeo": [
           {
            "marker": {
             "colorbar": {
              "outlinewidth": 0,
              "ticks": ""
             }
            },
            "type": "scattergeo"
           }
          ],
          "scattergl": [
           {
            "marker": {
             "colorbar": {
              "outlinewidth": 0,
              "ticks": ""
             }
            },
            "type": "scattergl"
           }
          ],
          "scattermapbox": [
           {
            "marker": {
             "colorbar": {
              "outlinewidth": 0,
              "ticks": ""
             }
            },
            "type": "scattermapbox"
           }
          ],
          "scatterpolar": [
           {
            "marker": {
             "colorbar": {
              "outlinewidth": 0,
              "ticks": ""
             }
            },
            "type": "scatterpolar"
           }
          ],
          "scatterpolargl": [
           {
            "marker": {
             "colorbar": {
              "outlinewidth": 0,
              "ticks": ""
             }
            },
            "type": "scatterpolargl"
           }
          ],
          "scatterternary": [
           {
            "marker": {
             "colorbar": {
              "outlinewidth": 0,
              "ticks": ""
             }
            },
            "type": "scatterternary"
           }
          ],
          "surface": [
           {
            "colorbar": {
             "outlinewidth": 0,
             "ticks": ""
            },
            "colorscale": [
             [
              0,
              "#0d0887"
             ],
             [
              0.1111111111111111,
              "#46039f"
             ],
             [
              0.2222222222222222,
              "#7201a8"
             ],
             [
              0.3333333333333333,
              "#9c179e"
             ],
             [
              0.4444444444444444,
              "#bd3786"
             ],
             [
              0.5555555555555556,
              "#d8576b"
             ],
             [
              0.6666666666666666,
              "#ed7953"
             ],
             [
              0.7777777777777778,
              "#fb9f3a"
             ],
             [
              0.8888888888888888,
              "#fdca26"
             ],
             [
              1,
              "#f0f921"
             ]
            ],
            "type": "surface"
           }
          ],
          "table": [
           {
            "cells": {
             "fill": {
              "color": "#EBF0F8"
             },
             "line": {
              "color": "white"
             }
            },
            "header": {
             "fill": {
              "color": "#C8D4E3"
             },
             "line": {
              "color": "white"
             }
            },
            "type": "table"
           }
          ]
         },
         "layout": {
          "annotationdefaults": {
           "arrowcolor": "#2a3f5f",
           "arrowhead": 0,
           "arrowwidth": 1
          },
          "autotypenumbers": "strict",
          "coloraxis": {
           "colorbar": {
            "outlinewidth": 0,
            "ticks": ""
           }
          },
          "colorscale": {
           "diverging": [
            [
             0,
             "#8e0152"
            ],
            [
             0.1,
             "#c51b7d"
            ],
            [
             0.2,
             "#de77ae"
            ],
            [
             0.3,
             "#f1b6da"
            ],
            [
             0.4,
             "#fde0ef"
            ],
            [
             0.5,
             "#f7f7f7"
            ],
            [
             0.6,
             "#e6f5d0"
            ],
            [
             0.7,
             "#b8e186"
            ],
            [
             0.8,
             "#7fbc41"
            ],
            [
             0.9,
             "#4d9221"
            ],
            [
             1,
             "#276419"
            ]
           ],
           "sequential": [
            [
             0,
             "#0d0887"
            ],
            [
             0.1111111111111111,
             "#46039f"
            ],
            [
             0.2222222222222222,
             "#7201a8"
            ],
            [
             0.3333333333333333,
             "#9c179e"
            ],
            [
             0.4444444444444444,
             "#bd3786"
            ],
            [
             0.5555555555555556,
             "#d8576b"
            ],
            [
             0.6666666666666666,
             "#ed7953"
            ],
            [
             0.7777777777777778,
             "#fb9f3a"
            ],
            [
             0.8888888888888888,
             "#fdca26"
            ],
            [
             1,
             "#f0f921"
            ]
           ],
           "sequentialminus": [
            [
             0,
             "#0d0887"
            ],
            [
             0.1111111111111111,
             "#46039f"
            ],
            [
             0.2222222222222222,
             "#7201a8"
            ],
            [
             0.3333333333333333,
             "#9c179e"
            ],
            [
             0.4444444444444444,
             "#bd3786"
            ],
            [
             0.5555555555555556,
             "#d8576b"
            ],
            [
             0.6666666666666666,
             "#ed7953"
            ],
            [
             0.7777777777777778,
             "#fb9f3a"
            ],
            [
             0.8888888888888888,
             "#fdca26"
            ],
            [
             1,
             "#f0f921"
            ]
           ]
          },
          "colorway": [
           "#636efa",
           "#EF553B",
           "#00cc96",
           "#ab63fa",
           "#FFA15A",
           "#19d3f3",
           "#FF6692",
           "#B6E880",
           "#FF97FF",
           "#FECB52"
          ],
          "font": {
           "color": "#2a3f5f"
          },
          "geo": {
           "bgcolor": "white",
           "lakecolor": "white",
           "landcolor": "#E5ECF6",
           "showlakes": true,
           "showland": true,
           "subunitcolor": "white"
          },
          "hoverlabel": {
           "align": "left"
          },
          "hovermode": "closest",
          "mapbox": {
           "style": "light"
          },
          "paper_bgcolor": "white",
          "plot_bgcolor": "#E5ECF6",
          "polar": {
           "angularaxis": {
            "gridcolor": "white",
            "linecolor": "white",
            "ticks": ""
           },
           "bgcolor": "#E5ECF6",
           "radialaxis": {
            "gridcolor": "white",
            "linecolor": "white",
            "ticks": ""
           }
          },
          "scene": {
           "xaxis": {
            "backgroundcolor": "#E5ECF6",
            "gridcolor": "white",
            "gridwidth": 2,
            "linecolor": "white",
            "showbackground": true,
            "ticks": "",
            "zerolinecolor": "white"
           },
           "yaxis": {
            "backgroundcolor": "#E5ECF6",
            "gridcolor": "white",
            "gridwidth": 2,
            "linecolor": "white",
            "showbackground": true,
            "ticks": "",
            "zerolinecolor": "white"
           },
           "zaxis": {
            "backgroundcolor": "#E5ECF6",
            "gridcolor": "white",
            "gridwidth": 2,
            "linecolor": "white",
            "showbackground": true,
            "ticks": "",
            "zerolinecolor": "white"
           }
          },
          "shapedefaults": {
           "line": {
            "color": "#2a3f5f"
           }
          },
          "ternary": {
           "aaxis": {
            "gridcolor": "white",
            "linecolor": "white",
            "ticks": ""
           },
           "baxis": {
            "gridcolor": "white",
            "linecolor": "white",
            "ticks": ""
           },
           "bgcolor": "#E5ECF6",
           "caxis": {
            "gridcolor": "white",
            "linecolor": "white",
            "ticks": ""
           }
          },
          "title": {
           "x": 0.05
          },
          "xaxis": {
           "automargin": true,
           "gridcolor": "white",
           "linecolor": "white",
           "ticks": "",
           "title": {
            "standoff": 15
           },
           "zerolinecolor": "white",
           "zerolinewidth": 2
          },
          "yaxis": {
           "automargin": true,
           "gridcolor": "white",
           "linecolor": "white",
           "ticks": "",
           "title": {
            "standoff": 15
           },
           "zerolinecolor": "white",
           "zerolinewidth": 2
          }
         }
        },
        "title": {
         "text": "Evolution of Ethnic Diversity in Films Over Time"
        },
        "xaxis": {
         "anchor": "y",
         "domain": [
          0,
          1
         ],
         "title": {
          "text": "Year of Film Release"
         }
        },
        "yaxis": {
         "anchor": "x",
         "domain": [
          0,
          1
         ],
         "title": {
          "text": "Average Ethnic Diversity"
         }
        }
       }
      },
      "text/html": [
       "<div>                            <div id=\"b7cc54a7-ffe7-45cc-8a17-372bc0747625\" class=\"plotly-graph-div\" style=\"height:525px; width:100%;\"></div>            <script type=\"text/javascript\">                require([\"plotly\"], function(Plotly) {                    window.PLOTLYENV=window.PLOTLYENV || {};                                    if (document.getElementById(\"b7cc54a7-ffe7-45cc-8a17-372bc0747625\")) {                    Plotly.newPlot(                        \"b7cc54a7-ffe7-45cc-8a17-372bc0747625\",                        [{\"hovertemplate\":\"Year of Film Release=%{x}<br>Average Ethnic Diversity=%{y}<extra></extra>\",\"legendgroup\":\"\",\"line\":{\"color\":\"#636efa\",\"dash\":\"solid\"},\"marker\":{\"symbol\":\"circle\"},\"mode\":\"lines\",\"name\":\"\",\"orientation\":\"v\",\"showlegend\":false,\"x\":[1913.0,1914.0,1915.0,1916.0,1917.0,1918.0,1919.0,1920.0,1921.0,1922.0,1923.0,1924.0,1925.0,1926.0,1927.0,1928.0,1929.0,1930.0,1931.0,1932.0,1933.0,1934.0,1935.0,1936.0,1937.0,1938.0,1939.0,1940.0,1941.0,1942.0,1943.0,1944.0,1945.0,1946.0,1947.0,1948.0,1949.0,1950.0,1951.0,1952.0,1953.0,1954.0,1955.0,1956.0,1957.0,1958.0,1959.0,1960.0,1961.0,1962.0,1963.0,1964.0,1965.0,1966.0,1967.0,1968.0,1969.0,1970.0,1971.0,1972.0,1973.0,1974.0,1975.0,1976.0,1977.0,1978.0,1979.0,1980.0,1981.0,1982.0,1983.0,1984.0,1985.0,1986.0,1987.0,1988.0,1989.0,1990.0,1991.0,1992.0,1993.0,1994.0,1995.0,1996.0,1997.0,1998.0,1999.0,2000.0,2001.0,2002.0,2003.0,2004.0,2005.0,2006.0,2007.0,2008.0,2009.0,2010.0,2011.0,2012.0,2013.0],\"xaxis\":\"x\",\"y\":[0.5,0.5166666666666667,0.5277777777777778,0.5,0.5,0.5,0.5,0.0,0.0,0.08333333333333333,0.08974358974358974,0.25,0.25,0.5555555555555556,0.39583333333333337,0.24074074074074073,0.3181818181818182,0.3333333333333333,0.43209876543209874,0.42,0.3796296296296296,0.42388888888888887,0.40883190883190884,0.4177927927927928,0.44373219373219375,0.48289930555555555,0.4367235217673815,0.4266304347826087,0.46456349206349207,0.5046768707482994,0.4883986928104575,0.4074027777777777,0.4339080459770115,0.4375,0.46403133903133903,0.45908163265306123,0.417989417989418,0.44070512820512825,0.40725694444444444,0.472979797979798,0.4808700209643606,0.45987654320987653,0.40330687830687834,0.5016084834834835,0.436511839708561,0.4318181818181818,0.4432063492063492,0.4528732638888889,0.4754930942073799,0.5038253968253968,0.48676767676767674,0.5065888352120236,0.4853164556962026,0.4662706552706553,0.5200322079449063,0.5324822984749455,0.5010185185185184,0.4650470627074326,0.46472854180337175,0.39995698623091847,0.4454701967592593,0.4073861137407138,0.4615263928458373,0.48302129886968964,0.5379828876760376,0.4968059701204745,0.49024313120309854,0.47193612319612027,0.5306147036462409,0.530667184842687,0.5389856927343941,0.5300888589602949,0.4986305815335119,0.5463371396648634,0.5426313104408771,0.5413937770891608,0.5472285423290835,0.5281284036539661,0.5189962322179584,0.5608832348837945,0.5800845998890327,0.5609882569254374,0.5781151848079029,0.5819479910096442,0.5724735601067799,0.5961784784456488,0.5968099755559257,0.5902794443336444,0.5826531170826481,0.5773137258674077,0.5487401351011353,0.5754769986185244,0.5420982541921168,0.5698996627418933,0.574356707077446,0.574312135395482,0.5757304282013989,0.5661815884735429,0.5877718237011933,0.623166887197754,0.625],\"yaxis\":\"y\",\"type\":\"scatter\"}],                        {\"template\":{\"data\":{\"bar\":[{\"error_x\":{\"color\":\"#2a3f5f\"},\"error_y\":{\"color\":\"#2a3f5f\"},\"marker\":{\"line\":{\"color\":\"#E5ECF6\",\"width\":0.5},\"pattern\":{\"fillmode\":\"overlay\",\"size\":10,\"solidity\":0.2}},\"type\":\"bar\"}],\"barpolar\":[{\"marker\":{\"line\":{\"color\":\"#E5ECF6\",\"width\":0.5},\"pattern\":{\"fillmode\":\"overlay\",\"size\":10,\"solidity\":0.2}},\"type\":\"barpolar\"}],\"carpet\":[{\"aaxis\":{\"endlinecolor\":\"#2a3f5f\",\"gridcolor\":\"white\",\"linecolor\":\"white\",\"minorgridcolor\":\"white\",\"startlinecolor\":\"#2a3f5f\"},\"baxis\":{\"endlinecolor\":\"#2a3f5f\",\"gridcolor\":\"white\",\"linecolor\":\"white\",\"minorgridcolor\":\"white\",\"startlinecolor\":\"#2a3f5f\"},\"type\":\"carpet\"}],\"choropleth\":[{\"colorbar\":{\"outlinewidth\":0,\"ticks\":\"\"},\"type\":\"choropleth\"}],\"contour\":[{\"colorbar\":{\"outlinewidth\":0,\"ticks\":\"\"},\"colorscale\":[[0.0,\"#0d0887\"],[0.1111111111111111,\"#46039f\"],[0.2222222222222222,\"#7201a8\"],[0.3333333333333333,\"#9c179e\"],[0.4444444444444444,\"#bd3786\"],[0.5555555555555556,\"#d8576b\"],[0.6666666666666666,\"#ed7953\"],[0.7777777777777778,\"#fb9f3a\"],[0.8888888888888888,\"#fdca26\"],[1.0,\"#f0f921\"]],\"type\":\"contour\"}],\"contourcarpet\":[{\"colorbar\":{\"outlinewidth\":0,\"ticks\":\"\"},\"type\":\"contourcarpet\"}],\"heatmap\":[{\"colorbar\":{\"outlinewidth\":0,\"ticks\":\"\"},\"colorscale\":[[0.0,\"#0d0887\"],[0.1111111111111111,\"#46039f\"],[0.2222222222222222,\"#7201a8\"],[0.3333333333333333,\"#9c179e\"],[0.4444444444444444,\"#bd3786\"],[0.5555555555555556,\"#d8576b\"],[0.6666666666666666,\"#ed7953\"],[0.7777777777777778,\"#fb9f3a\"],[0.8888888888888888,\"#fdca26\"],[1.0,\"#f0f921\"]],\"type\":\"heatmap\"}],\"heatmapgl\":[{\"colorbar\":{\"outlinewidth\":0,\"ticks\":\"\"},\"colorscale\":[[0.0,\"#0d0887\"],[0.1111111111111111,\"#46039f\"],[0.2222222222222222,\"#7201a8\"],[0.3333333333333333,\"#9c179e\"],[0.4444444444444444,\"#bd3786\"],[0.5555555555555556,\"#d8576b\"],[0.6666666666666666,\"#ed7953\"],[0.7777777777777778,\"#fb9f3a\"],[0.8888888888888888,\"#fdca26\"],[1.0,\"#f0f921\"]],\"type\":\"heatmapgl\"}],\"histogram\":[{\"marker\":{\"pattern\":{\"fillmode\":\"overlay\",\"size\":10,\"solidity\":0.2}},\"type\":\"histogram\"}],\"histogram2d\":[{\"colorbar\":{\"outlinewidth\":0,\"ticks\":\"\"},\"colorscale\":[[0.0,\"#0d0887\"],[0.1111111111111111,\"#46039f\"],[0.2222222222222222,\"#7201a8\"],[0.3333333333333333,\"#9c179e\"],[0.4444444444444444,\"#bd3786\"],[0.5555555555555556,\"#d8576b\"],[0.6666666666666666,\"#ed7953\"],[0.7777777777777778,\"#fb9f3a\"],[0.8888888888888888,\"#fdca26\"],[1.0,\"#f0f921\"]],\"type\":\"histogram2d\"}],\"histogram2dcontour\":[{\"colorbar\":{\"outlinewidth\":0,\"ticks\":\"\"},\"colorscale\":[[0.0,\"#0d0887\"],[0.1111111111111111,\"#46039f\"],[0.2222222222222222,\"#7201a8\"],[0.3333333333333333,\"#9c179e\"],[0.4444444444444444,\"#bd3786\"],[0.5555555555555556,\"#d8576b\"],[0.6666666666666666,\"#ed7953\"],[0.7777777777777778,\"#fb9f3a\"],[0.8888888888888888,\"#fdca26\"],[1.0,\"#f0f921\"]],\"type\":\"histogram2dcontour\"}],\"mesh3d\":[{\"colorbar\":{\"outlinewidth\":0,\"ticks\":\"\"},\"type\":\"mesh3d\"}],\"parcoords\":[{\"line\":{\"colorbar\":{\"outlinewidth\":0,\"ticks\":\"\"}},\"type\":\"parcoords\"}],\"pie\":[{\"automargin\":true,\"type\":\"pie\"}],\"scatter\":[{\"marker\":{\"colorbar\":{\"outlinewidth\":0,\"ticks\":\"\"}},\"type\":\"scatter\"}],\"scatter3d\":[{\"line\":{\"colorbar\":{\"outlinewidth\":0,\"ticks\":\"\"}},\"marker\":{\"colorbar\":{\"outlinewidth\":0,\"ticks\":\"\"}},\"type\":\"scatter3d\"}],\"scattercarpet\":[{\"marker\":{\"colorbar\":{\"outlinewidth\":0,\"ticks\":\"\"}},\"type\":\"scattercarpet\"}],\"scattergeo\":[{\"marker\":{\"colorbar\":{\"outlinewidth\":0,\"ticks\":\"\"}},\"type\":\"scattergeo\"}],\"scattergl\":[{\"marker\":{\"colorbar\":{\"outlinewidth\":0,\"ticks\":\"\"}},\"type\":\"scattergl\"}],\"scattermapbox\":[{\"marker\":{\"colorbar\":{\"outlinewidth\":0,\"ticks\":\"\"}},\"type\":\"scattermapbox\"}],\"scatterpolar\":[{\"marker\":{\"colorbar\":{\"outlinewidth\":0,\"ticks\":\"\"}},\"type\":\"scatterpolar\"}],\"scatterpolargl\":[{\"marker\":{\"colorbar\":{\"outlinewidth\":0,\"ticks\":\"\"}},\"type\":\"scatterpolargl\"}],\"scatterternary\":[{\"marker\":{\"colorbar\":{\"outlinewidth\":0,\"ticks\":\"\"}},\"type\":\"scatterternary\"}],\"surface\":[{\"colorbar\":{\"outlinewidth\":0,\"ticks\":\"\"},\"colorscale\":[[0.0,\"#0d0887\"],[0.1111111111111111,\"#46039f\"],[0.2222222222222222,\"#7201a8\"],[0.3333333333333333,\"#9c179e\"],[0.4444444444444444,\"#bd3786\"],[0.5555555555555556,\"#d8576b\"],[0.6666666666666666,\"#ed7953\"],[0.7777777777777778,\"#fb9f3a\"],[0.8888888888888888,\"#fdca26\"],[1.0,\"#f0f921\"]],\"type\":\"surface\"}],\"table\":[{\"cells\":{\"fill\":{\"color\":\"#EBF0F8\"},\"line\":{\"color\":\"white\"}},\"header\":{\"fill\":{\"color\":\"#C8D4E3\"},\"line\":{\"color\":\"white\"}},\"type\":\"table\"}]},\"layout\":{\"annotationdefaults\":{\"arrowcolor\":\"#2a3f5f\",\"arrowhead\":0,\"arrowwidth\":1},\"autotypenumbers\":\"strict\",\"coloraxis\":{\"colorbar\":{\"outlinewidth\":0,\"ticks\":\"\"}},\"colorscale\":{\"diverging\":[[0,\"#8e0152\"],[0.1,\"#c51b7d\"],[0.2,\"#de77ae\"],[0.3,\"#f1b6da\"],[0.4,\"#fde0ef\"],[0.5,\"#f7f7f7\"],[0.6,\"#e6f5d0\"],[0.7,\"#b8e186\"],[0.8,\"#7fbc41\"],[0.9,\"#4d9221\"],[1,\"#276419\"]],\"sequential\":[[0.0,\"#0d0887\"],[0.1111111111111111,\"#46039f\"],[0.2222222222222222,\"#7201a8\"],[0.3333333333333333,\"#9c179e\"],[0.4444444444444444,\"#bd3786\"],[0.5555555555555556,\"#d8576b\"],[0.6666666666666666,\"#ed7953\"],[0.7777777777777778,\"#fb9f3a\"],[0.8888888888888888,\"#fdca26\"],[1.0,\"#f0f921\"]],\"sequentialminus\":[[0.0,\"#0d0887\"],[0.1111111111111111,\"#46039f\"],[0.2222222222222222,\"#7201a8\"],[0.3333333333333333,\"#9c179e\"],[0.4444444444444444,\"#bd3786\"],[0.5555555555555556,\"#d8576b\"],[0.6666666666666666,\"#ed7953\"],[0.7777777777777778,\"#fb9f3a\"],[0.8888888888888888,\"#fdca26\"],[1.0,\"#f0f921\"]]},\"colorway\":[\"#636efa\",\"#EF553B\",\"#00cc96\",\"#ab63fa\",\"#FFA15A\",\"#19d3f3\",\"#FF6692\",\"#B6E880\",\"#FF97FF\",\"#FECB52\"],\"font\":{\"color\":\"#2a3f5f\"},\"geo\":{\"bgcolor\":\"white\",\"lakecolor\":\"white\",\"landcolor\":\"#E5ECF6\",\"showlakes\":true,\"showland\":true,\"subunitcolor\":\"white\"},\"hoverlabel\":{\"align\":\"left\"},\"hovermode\":\"closest\",\"mapbox\":{\"style\":\"light\"},\"paper_bgcolor\":\"white\",\"plot_bgcolor\":\"#E5ECF6\",\"polar\":{\"angularaxis\":{\"gridcolor\":\"white\",\"linecolor\":\"white\",\"ticks\":\"\"},\"bgcolor\":\"#E5ECF6\",\"radialaxis\":{\"gridcolor\":\"white\",\"linecolor\":\"white\",\"ticks\":\"\"}},\"scene\":{\"xaxis\":{\"backgroundcolor\":\"#E5ECF6\",\"gridcolor\":\"white\",\"gridwidth\":2,\"linecolor\":\"white\",\"showbackground\":true,\"ticks\":\"\",\"zerolinecolor\":\"white\"},\"yaxis\":{\"backgroundcolor\":\"#E5ECF6\",\"gridcolor\":\"white\",\"gridwidth\":2,\"linecolor\":\"white\",\"showbackground\":true,\"ticks\":\"\",\"zerolinecolor\":\"white\"},\"zaxis\":{\"backgroundcolor\":\"#E5ECF6\",\"gridcolor\":\"white\",\"gridwidth\":2,\"linecolor\":\"white\",\"showbackground\":true,\"ticks\":\"\",\"zerolinecolor\":\"white\"}},\"shapedefaults\":{\"line\":{\"color\":\"#2a3f5f\"}},\"ternary\":{\"aaxis\":{\"gridcolor\":\"white\",\"linecolor\":\"white\",\"ticks\":\"\"},\"baxis\":{\"gridcolor\":\"white\",\"linecolor\":\"white\",\"ticks\":\"\"},\"bgcolor\":\"#E5ECF6\",\"caxis\":{\"gridcolor\":\"white\",\"linecolor\":\"white\",\"ticks\":\"\"}},\"title\":{\"x\":0.05},\"xaxis\":{\"automargin\":true,\"gridcolor\":\"white\",\"linecolor\":\"white\",\"ticks\":\"\",\"title\":{\"standoff\":15},\"zerolinecolor\":\"white\",\"zerolinewidth\":2},\"yaxis\":{\"automargin\":true,\"gridcolor\":\"white\",\"linecolor\":\"white\",\"ticks\":\"\",\"title\":{\"standoff\":15},\"zerolinecolor\":\"white\",\"zerolinewidth\":2}}},\"xaxis\":{\"anchor\":\"y\",\"domain\":[0.0,1.0],\"title\":{\"text\":\"Year of Film Release\"}},\"yaxis\":{\"anchor\":\"x\",\"domain\":[0.0,1.0],\"title\":{\"text\":\"Average Ethnic Diversity\"}},\"legend\":{\"tracegroupgap\":0},\"title\":{\"text\":\"Evolution of Ethnic Diversity in Films Over Time\"}},                        {\"responsive\": true}                    ).then(function(){\n",
       "                            \n",
       "var gd = document.getElementById('b7cc54a7-ffe7-45cc-8a17-372bc0747625');\n",
       "var x = new MutationObserver(function (mutations, observer) {{\n",
       "        var display = window.getComputedStyle(gd).display;\n",
       "        if (!display || display === 'none') {{\n",
       "            console.log([gd, 'removed!']);\n",
       "            Plotly.purge(gd);\n",
       "            observer.disconnect();\n",
       "        }}\n",
       "}});\n",
       "\n",
       "// Listen for the removal of the full notebook cells\n",
       "var notebookContainer = gd.closest('#notebook-container');\n",
       "if (notebookContainer) {{\n",
       "    x.observe(notebookContainer, {childList: true});\n",
       "}}\n",
       "\n",
       "// Listen for the clearing of the current output cell\n",
       "var outputEl = gd.closest('.output');\n",
       "if (outputEl) {{\n",
       "    x.observe(outputEl, {childList: true});\n",
       "}}\n",
       "\n",
       "                        })                };                });            </script>        </div>"
      ]
     },
     "metadata": {},
     "output_type": "display_data"
    }
   ],
   "source": [
    "# Visualize whether ethnic diversity in films has increased over time\n",
    "\n",
    "# Grouping by year of exit and calculation of the average of ethnic diversity\n",
    "ethnic_diversity_by_year = ethnicity_diversity_df.groupby('movie_release_year')['ethnicity_diversity'].mean().reset_index()\n",
    "\n",
    "# Creation of the interactif graph\n",
    "fig = px.line(ethnic_diversity_by_year, x='movie_release_year', y='ethnicity_diversity', \n",
    "              title='Evolution of Ethnic Diversity in Films Over Time',\n",
    "              labels={'movie_release_year': 'Year of Film Release', 'ethnicity_diversity': 'Average Ethnic Diversity'})\n",
    "fig.show()"
   ]
  },
  {
   "cell_type": "markdown",
   "id": "e9055f41",
   "metadata": {},
   "source": [
    "### Impact of Ethnic Diversity"
   ]
  },
  {
   "cell_type": "code",
   "execution_count": 129,
   "id": "e2875494",
   "metadata": {},
   "outputs": [
    {
     "name": "stdout",
     "output_type": "stream",
     "text": [
      "(4683, 11)\n"
     ]
    }
   ],
   "source": [
    "# Remove rows with NaNs in column \"movie_box_office_revenue\"\n",
    "ethnicity_diversity_box_office_df = ethnicity_diversity_df.dropna(subset=['movie_box_office_revenue'])\n",
    "\n",
    "print(ethnicity_diversity_box_office_df.shape)"
   ]
  },
  {
   "cell_type": "markdown",
   "id": "b3386dd1",
   "metadata": {},
   "source": [
    "#### Impact of Ethnic Diversity on Box Office"
   ]
  },
  {
   "cell_type": "code",
   "execution_count": 130,
   "id": "3c22adad",
   "metadata": {},
   "outputs": [
    {
     "data": {
      "text/plain": [
       "0.21742488328293136"
      ]
     },
     "execution_count": 130,
     "metadata": {},
     "output_type": "execute_result"
    }
   ],
   "source": [
    "# Correlation calculation between ethnicity_diversity score and box office revenue\n",
    "correlation = ethnicity_diversity_box_office_df['ethnicity_diversity'].corr(ethnicity_diversity_box_office_df['movie_box_office_revenue'])\n",
    "correlation"
   ]
  },
  {
   "cell_type": "code",
   "execution_count": 131,
   "id": "0666950f",
   "metadata": {},
   "outputs": [
    {
     "name": "stdout",
     "output_type": "stream",
     "text": [
      "                               OLS Regression Results                               \n",
      "====================================================================================\n",
      "Dep. Variable:     movie_box_office_revenue   R-squared:                       0.047\n",
      "Model:                                  OLS   Adj. R-squared:                  0.047\n",
      "Method:                       Least Squares   F-statistic:                     232.3\n",
      "Date:                      Sat, 16 Dec 2023   Prob (F-statistic):           3.18e-51\n",
      "Time:                              15:26:49   Log-Likelihood:                -6531.0\n",
      "No. Observations:                      4683   AIC:                         1.307e+04\n",
      "Df Residuals:                          4681   BIC:                         1.308e+04\n",
      "Df Model:                                 1                                         \n",
      "Covariance Type:                  nonrobust                                         \n",
      "=======================================================================================\n",
      "                          coef    std err          t      P>|t|      [0.025      0.975]\n",
      "---------------------------------------------------------------------------------------\n",
      "const                  -0.6925      0.048    -14.541      0.000      -0.786      -0.599\n",
      "ethnicity_diversity     1.0978      0.072     15.240      0.000       0.957       1.239\n",
      "==============================================================================\n",
      "Omnibus:                     4687.854   Durbin-Watson:                   1.816\n",
      "Prob(Omnibus):                  0.000   Jarque-Bera (JB):           333164.066\n",
      "Skew:                           4.825   Prob(JB):                         0.00\n",
      "Kurtosis:                      43.179   Cond. No.                         7.12\n",
      "==============================================================================\n",
      "\n",
      "Notes:\n",
      "[1] Standard Errors assume that the covariance matrix of the errors is correctly specified.\n"
     ]
    }
   ],
   "source": [
    "# Regression analysis to assess the relationship between ethnic diversity and box office revenue\n",
    "\n",
    "# Preparing data for regression\n",
    "X = ethnicity_diversity_box_office_df[['ethnicity_diversity']] # Independent variable\n",
    "y = ethnicity_diversity_box_office_df['movie_box_office_revenue'] # Dependent variable \n",
    "\n",
    "# Adding a constant to X\n",
    "X = sm.add_constant(X)\n",
    "\n",
    "# Linear regression\n",
    "model = sm.OLS(y, X).fit()\n",
    "\n",
    "# Model summary\n",
    "print(model.summary())"
   ]
  },
  {
   "cell_type": "code",
   "execution_count": 132,
   "id": "f04dd104",
   "metadata": {},
   "outputs": [
    {
     "data": {
      "image/png": "[encoded data removed]",
      "text/plain": [
       "<Figure size 720x432 with 1 Axes>"
      ]
     },
     "metadata": {
      "needs_background": "light"
     },
     "output_type": "display_data"
    }
   ],
   "source": [
    "# View a regression graph to visualize the relationship between ethnic diversity and movie box office revenue\n",
    "\n",
    "# Plot the regression graph that shows the relationship between ethnic diversity and box office revenue\n",
    "plt.figure(figsize=(10, 6))\n",
    "sns.regplot(\n",
    "    x='ethnicity_diversity',\n",
    "    y='movie_box_office_revenue',\n",
    "    data=ethnicity_diversity_box_office_df,\n",
    "    line_kws={'color': 'red'},\n",
    "    ci=95\n",
    ")\n",
    "plt.title('Relationship between Ethnic Diversity and Box Office Revenue')\n",
    "plt.xlabel('Ethnic diversity')\n",
    "plt.ylabel('Box Office Revenue')\n",
    "plt.show()"
   ]
  },
  {
   "cell_type": "markdown",
   "id": "f099c3c8",
   "metadata": {},
   "source": [
    "#### Impact of Ethnic Diversity on Average Rating"
   ]
  },
  {
   "cell_type": "code",
   "execution_count": 133,
   "id": "64829b46",
   "metadata": {},
   "outputs": [
    {
     "data": {
      "text/plain": [
       "0.06238477728578291"
      ]
     },
     "execution_count": 133,
     "metadata": {},
     "output_type": "execute_result"
    }
   ],
   "source": [
    "# Correlation calculation between ethnicity_diversity score and average rating\n",
    "correlation = ethnicity_diversity_df['ethnicity_diversity'].corr(ethnicity_diversity_df['rating_average'])\n",
    "correlation"
   ]
  },
  {
   "cell_type": "code",
   "execution_count": 134,
   "id": "369ec487",
   "metadata": {},
   "outputs": [
    {
     "name": "stdout",
     "output_type": "stream",
     "text": [
      "                            OLS Regression Results                            \n",
      "==============================================================================\n",
      "Dep. Variable:         rating_average   R-squared:                       0.004\n",
      "Model:                            OLS   Adj. R-squared:                  0.004\n",
      "Method:                 Least Squares   F-statistic:                     49.38\n",
      "Date:                Sat, 16 Dec 2023   Prob (F-statistic):           2.22e-12\n",
      "Time:                        15:26:50   Log-Likelihood:                -23376.\n",
      "No. Observations:               12640   AIC:                         4.676e+04\n",
      "Df Residuals:                   12638   BIC:                         4.677e+04\n",
      "Df Model:                           1                                         \n",
      "Covariance Type:            nonrobust                                         \n",
      "=======================================================================================\n",
      "                          coef    std err          t      P>|t|      [0.025      0.975]\n",
      "---------------------------------------------------------------------------------------\n",
      "const                   5.6095      0.035    162.493      0.000       5.542       5.677\n",
      "ethnicity_diversity     0.4132      0.059      7.027      0.000       0.298       0.529\n",
      "==============================================================================\n",
      "Omnibus:                     4893.503   Durbin-Watson:                   1.959\n",
      "Prob(Omnibus):                  0.000   Jarque-Bera (JB):            22355.845\n",
      "Skew:                          -1.859   Prob(JB):                         0.00\n",
      "Kurtosis:                       8.350   Cond. No.                         5.60\n",
      "==============================================================================\n",
      "\n",
      "Notes:\n",
      "[1] Standard Errors assume that the covariance matrix of the errors is correctly specified.\n"
     ]
    }
   ],
   "source": [
    "# Regression analysis to assess the relationship between ethnic diversity and average rating\n",
    "\n",
    "# Preparing data for regression\n",
    "X = ethnicity_diversity_df[['ethnicity_diversity']] # Independent variable\n",
    "y = ethnicity_diversity_df['rating_average'] # Dependent variable \n",
    "\n",
    "# Adding a constant to X\n",
    "X = sm.add_constant(X)\n",
    "\n",
    "# Linear regression\n",
    "model = sm.OLS(y, X).fit()\n",
    "\n",
    "# Model summary\n",
    "print(model.summary())"
   ]
  },
  {
   "cell_type": "code",
   "execution_count": 135,
   "id": "155adc79",
   "metadata": {},
   "outputs": [
    {
     "data": {
      "image/png": "[encoded data removed]",
      "text/plain": [
       "<Figure size 720x432 with 1 Axes>"
      ]
     },
     "metadata": {
      "needs_background": "light"
     },
     "output_type": "display_data"
    }
   ],
   "source": [
    "# View a regression graph to visualize the relationship between ethnic diversity and average rating\n",
    "\n",
    "# Plot the regression graph that shows the relationship between ethnic diversity and average rating\n",
    "plt.figure(figsize=(10, 6))\n",
    "sns.regplot(\n",
    "    x='ethnicity_diversity',\n",
    "    y='rating_average',\n",
    "    data=ethnicity_diversity_df,\n",
    "    line_kws={'color': 'red'},\n",
    "    ci=95\n",
    ")\n",
    "plt.title('Relationship between Ethnic Diversity and Average Rating')\n",
    "plt.xlabel('Ethnic Diversity')\n",
    "plt.ylabel('Average Rating')\n",
    "plt.show()"
   ]
  },
  {
   "cell_type": "markdown",
   "id": "234e87fc",
   "metadata": {},
   "source": [
    "#### Impact of Ethnic Diversity on Movie Performance"
   ]
  },
  {
   "cell_type": "code",
   "execution_count": 136,
   "id": "e56f9144",
   "metadata": {},
   "outputs": [
    {
     "data": {
      "image/png": "[encoded data removed]",
      "text/plain": [
       "<Figure size 576x432 with 2 Axes>"
      ]
     },
     "metadata": {
      "needs_background": "light"
     },
     "output_type": "display_data"
    }
   ],
   "source": [
    "correlation_matrix = ethnicity_diversity_df[['ethnicity_diversity', 'movie_box_office_revenue', 'rating_average']].corr()\n",
    "\n",
    "plt.figure(figsize=(8, 6))\n",
    "sns.heatmap(correlation_matrix, annot=True, cmap='coolwarm', linewidths=0.5)\n",
    "plt.title('Correlation matrix')\n",
    "plt.show()"
   ]
  },
  {
   "cell_type": "markdown",
   "id": "d850290b",
   "metadata": {},
   "source": [
    "## Gender diversity"
   ]
  },
  {
   "cell_type": "markdown",
   "id": "c9c2fb10",
   "metadata": {},
   "source": [
    "### Dataframe"
   ]
  },
  {
   "cell_type": "code",
   "execution_count": 137,
   "id": "c8e2a18d",
   "metadata": {},
   "outputs": [],
   "source": [
    "# Load Datasets\n",
    "gender_diversity_df = pd.read_csv(\"generated/gender_diversity.csv\")"
   ]
  },
  {
   "cell_type": "code",
   "execution_count": 138,
   "id": "5d24a536",
   "metadata": {},
   "outputs": [
    {
     "data": {
      "text/html": [
       "<div>\n",
       "<style scoped>\n",
       "    .dataframe tbody tr th:only-of-type {\n",
       "        vertical-align: middle;\n",
       "    }\n",
       "\n",
       "    .dataframe tbody tr th {\n",
       "        vertical-align: top;\n",
       "    }\n",
       "\n",
       "    .dataframe thead th {\n",
       "        text-align: right;\n",
       "    }\n",
       "</style>\n",
       "<table border=\"1\" class=\"dataframe\">\n",
       "  <thead>\n",
       "    <tr style=\"text-align: right;\">\n",
       "      <th></th>\n",
       "      <th>movie_freebase_id</th>\n",
       "      <th>movie_name</th>\n",
       "      <th>movie_release_year</th>\n",
       "      <th>movie_languages_count</th>\n",
       "      <th>movie_genres</th>\n",
       "      <th>gender_diversity</th>\n",
       "      <th>actors_count</th>\n",
       "      <th>rating_average</th>\n",
       "      <th>rating_count</th>\n",
       "      <th>movie_box_office_revenue</th>\n",
       "    </tr>\n",
       "  </thead>\n",
       "  <tbody>\n",
       "    <tr>\n",
       "      <th>0</th>\n",
       "      <td>/m/0cc8620</td>\n",
       "      <td>Hemingway &amp; Gellhorn</td>\n",
       "      <td>2012.0</td>\n",
       "      <td>22</td>\n",
       "      <td>['Romance Film', 'Drama']</td>\n",
       "      <td>0.377164</td>\n",
       "      <td>115</td>\n",
       "      <td>6.000</td>\n",
       "      <td>158</td>\n",
       "      <td>NaN</td>\n",
       "    </tr>\n",
       "    <tr>\n",
       "      <th>1</th>\n",
       "      <td>/m/04grkmd</td>\n",
       "      <td>Taking Woodstock</td>\n",
       "      <td>2009.0</td>\n",
       "      <td>22</td>\n",
       "      <td>['Indie', 'Slice of life story', 'Comedy-drama...</td>\n",
       "      <td>0.409565</td>\n",
       "      <td>87</td>\n",
       "      <td>6.211</td>\n",
       "      <td>405</td>\n",
       "      <td>-0.358824</td>\n",
       "    </tr>\n",
       "    <tr>\n",
       "      <th>2</th>\n",
       "      <td>/m/02725hs</td>\n",
       "      <td>Captain Corelli's Mandolin</td>\n",
       "      <td>2001.0</td>\n",
       "      <td>35</td>\n",
       "      <td>['Film adaptation', 'War film', 'Period piece'...</td>\n",
       "      <td>0.371895</td>\n",
       "      <td>81</td>\n",
       "      <td>5.946</td>\n",
       "      <td>488</td>\n",
       "      <td>1.840898</td>\n",
       "    </tr>\n",
       "    <tr>\n",
       "      <th>3</th>\n",
       "      <td>/m/02qr3k8</td>\n",
       "      <td>Terror in the Aisles</td>\n",
       "      <td>1984.0</td>\n",
       "      <td>22</td>\n",
       "      <td>['Thriller', 'Horror', 'Documentary']</td>\n",
       "      <td>0.491782</td>\n",
       "      <td>78</td>\n",
       "      <td>6.100</td>\n",
       "      <td>37</td>\n",
       "      <td>-0.355676</td>\n",
       "    </tr>\n",
       "    <tr>\n",
       "      <th>4</th>\n",
       "      <td>/m/01w8g3</td>\n",
       "      <td>Calendar Girls</td>\n",
       "      <td>2003.0</td>\n",
       "      <td>22</td>\n",
       "      <td>['Ensemble Film', 'Drama', 'Indie', 'Comedy']</td>\n",
       "      <td>0.492654</td>\n",
       "      <td>66</td>\n",
       "      <td>6.593</td>\n",
       "      <td>350</td>\n",
       "      <td>3.292231</td>\n",
       "    </tr>\n",
       "    <tr>\n",
       "      <th>...</th>\n",
       "      <td>...</td>\n",
       "      <td>...</td>\n",
       "      <td>...</td>\n",
       "      <td>...</td>\n",
       "      <td>...</td>\n",
       "      <td>...</td>\n",
       "      <td>...</td>\n",
       "      <td>...</td>\n",
       "      <td>...</td>\n",
       "      <td>...</td>\n",
       "    </tr>\n",
       "    <tr>\n",
       "      <th>29882</th>\n",
       "      <td>/m/0hzqvb3</td>\n",
       "      <td>Varnam</td>\n",
       "      <td>2010.0</td>\n",
       "      <td>21</td>\n",
       "      <td>['Drama']</td>\n",
       "      <td>0.500000</td>\n",
       "      <td>2</td>\n",
       "      <td>0.000</td>\n",
       "      <td>0</td>\n",
       "      <td>NaN</td>\n",
       "    </tr>\n",
       "    <tr>\n",
       "      <th>29883</th>\n",
       "      <td>/m/02pqq45</td>\n",
       "      <td>We're All Christs</td>\n",
       "      <td>2006.0</td>\n",
       "      <td>22</td>\n",
       "      <td>['Drama']</td>\n",
       "      <td>0.000000</td>\n",
       "      <td>2</td>\n",
       "      <td>6.643</td>\n",
       "      <td>42</td>\n",
       "      <td>NaN</td>\n",
       "    </tr>\n",
       "    <tr>\n",
       "      <th>29884</th>\n",
       "      <td>/m/09j44z</td>\n",
       "      <td>Rip Girls</td>\n",
       "      <td>2000.0</td>\n",
       "      <td>22</td>\n",
       "      <td>['Family Film']</td>\n",
       "      <td>0.500000</td>\n",
       "      <td>2</td>\n",
       "      <td>6.400</td>\n",
       "      <td>59</td>\n",
       "      <td>NaN</td>\n",
       "    </tr>\n",
       "    <tr>\n",
       "      <th>29885</th>\n",
       "      <td>/m/0514m7q</td>\n",
       "      <td>Touch the Sound</td>\n",
       "      <td>2004.0</td>\n",
       "      <td>22</td>\n",
       "      <td>['Music', 'Instrumental Music', 'Biography', '...</td>\n",
       "      <td>0.500000</td>\n",
       "      <td>2</td>\n",
       "      <td>7.300</td>\n",
       "      <td>11</td>\n",
       "      <td>-0.769968</td>\n",
       "    </tr>\n",
       "    <tr>\n",
       "      <th>29886</th>\n",
       "      <td>/m/06ztgf4</td>\n",
       "      <td>Laputa</td>\n",
       "      <td>1986.0</td>\n",
       "      <td>20</td>\n",
       "      <td>['Drama']</td>\n",
       "      <td>0.500000</td>\n",
       "      <td>2</td>\n",
       "      <td>5.000</td>\n",
       "      <td>1</td>\n",
       "      <td>NaN</td>\n",
       "    </tr>\n",
       "  </tbody>\n",
       "</table>\n",
       "<p>29887 rows × 10 columns</p>\n",
       "</div>"
      ],
      "text/plain": [
       "      movie_freebase_id                  movie_name  movie_release_year  \\\n",
       "0            /m/0cc8620        Hemingway & Gellhorn              2012.0   \n",
       "1            /m/04grkmd            Taking Woodstock              2009.0   \n",
       "2            /m/02725hs  Captain Corelli's Mandolin              2001.0   \n",
       "3            /m/02qr3k8        Terror in the Aisles              1984.0   \n",
       "4             /m/01w8g3              Calendar Girls              2003.0   \n",
       "...                 ...                         ...                 ...   \n",
       "29882        /m/0hzqvb3                      Varnam              2010.0   \n",
       "29883        /m/02pqq45           We're All Christs              2006.0   \n",
       "29884         /m/09j44z                   Rip Girls              2000.0   \n",
       "29885        /m/0514m7q             Touch the Sound              2004.0   \n",
       "29886        /m/06ztgf4                      Laputa              1986.0   \n",
       "\n",
       "       movie_languages_count  \\\n",
       "0                         22   \n",
       "1                         22   \n",
       "2                         35   \n",
       "3                         22   \n",
       "4                         22   \n",
       "...                      ...   \n",
       "29882                     21   \n",
       "29883                     22   \n",
       "29884                     22   \n",
       "29885                     22   \n",
       "29886                     20   \n",
       "\n",
       "                                            movie_genres  gender_diversity  \\\n",
       "0                              ['Romance Film', 'Drama']          0.377164   \n",
       "1      ['Indie', 'Slice of life story', 'Comedy-drama...          0.409565   \n",
       "2      ['Film adaptation', 'War film', 'Period piece'...          0.371895   \n",
       "3                  ['Thriller', 'Horror', 'Documentary']          0.491782   \n",
       "4          ['Ensemble Film', 'Drama', 'Indie', 'Comedy']          0.492654   \n",
       "...                                                  ...               ...   \n",
       "29882                                          ['Drama']          0.500000   \n",
       "29883                                          ['Drama']          0.000000   \n",
       "29884                                    ['Family Film']          0.500000   \n",
       "29885  ['Music', 'Instrumental Music', 'Biography', '...          0.500000   \n",
       "29886                                          ['Drama']          0.500000   \n",
       "\n",
       "       actors_count  rating_average  rating_count  movie_box_office_revenue  \n",
       "0               115           6.000           158                       NaN  \n",
       "1                87           6.211           405                 -0.358824  \n",
       "2                81           5.946           488                  1.840898  \n",
       "3                78           6.100            37                 -0.355676  \n",
       "4                66           6.593           350                  3.292231  \n",
       "...             ...             ...           ...                       ...  \n",
       "29882             2           0.000             0                       NaN  \n",
       "29883             2           6.643            42                       NaN  \n",
       "29884             2           6.400            59                       NaN  \n",
       "29885             2           7.300            11                 -0.769968  \n",
       "29886             2           5.000             1                       NaN  \n",
       "\n",
       "[29887 rows x 10 columns]"
      ]
     },
     "metadata": {},
     "output_type": "display_data"
    }
   ],
   "source": [
    "# Display gender_diversity_df dataframe\n",
    "display(gender_diversity_df)"
   ]
  },
  {
   "cell_type": "markdown",
   "id": "74687652",
   "metadata": {},
   "source": [
    "### Evolution of Gender Diversity"
   ]
  },
  {
   "cell_type": "code",
   "execution_count": 139,
   "id": "bb0542bf",
   "metadata": {},
   "outputs": [
    {
     "data": {
      "image/png": "[encoded data removed]",
      "text/plain": [
       "<Figure size 720x432 with 1 Axes>"
      ]
     },
     "metadata": {
      "needs_background": "light"
     },
     "output_type": "display_data"
    }
   ],
   "source": [
    "# Show the average gender diversity for each year range (5 years)\n",
    "\n",
    "# Calculation of average gender diversity per 5-year period\n",
    "gender_diversity_df['year_bin'] = (gender_diversity_df['movie_release_year'] // 5) * 5\n",
    "\n",
    "# Calculation of the average of gender diversity for each 10-year period\n",
    "average_gender_diversity_by_decade = gender_diversity_df.groupby('year_bin')['gender_diversity'].mean().reset_index()\n",
    "\n",
    "# Creation of the histogram\n",
    "plt.figure(figsize=(10, 6))\n",
    "sns.barplot(data=average_gender_diversity_by_decade, x='year_bin', y='gender_diversity')\n",
    "plt.title('Average Gender Diversity by Year Range (5 Years)')\n",
    "plt.xlabel('Range of Years')\n",
    "plt.ylabel('Average Gender Diversity')\n",
    "plt.xticks(rotation=45)\n",
    "plt.show()"
   ]
  },
  {
   "cell_type": "code",
   "execution_count": 140,
   "id": "a0030a15",
   "metadata": {},
   "outputs": [
    {
     "data": {
      "image/png": "[encoded data removed]",
      "text/plain": [
       "<Figure size 720x432 with 1 Axes>"
      ]
     },
     "metadata": {
      "needs_background": "light"
     },
     "output_type": "display_data"
    }
   ],
   "source": [
    "# Calculation of the average of ethnic diversity per year\n",
    "average_gender_diversity_per_year = gender_diversity_df.groupby('movie_release_year')['gender_diversity'].mean()\n",
    "\n",
    "# Creation of the graph\n",
    "plt.figure(figsize=(10, 6))\n",
    "average_gender_diversity_per_year.plot(kind='line', marker='o')\n",
    "plt.title('Evolution of Gender Diversity in Films Over Time')\n",
    "plt.xlabel('Year of Film Release')\n",
    "plt.ylabel('Average Gender Diversity')\n",
    "plt.grid(True)\n",
    "plt.show()"
   ]
  },
  {
   "cell_type": "code",
   "execution_count": 141,
   "id": "c04ed2d8",
   "metadata": {},
   "outputs": [
    {
     "data": {
      "application/vnd.plotly.v1+json": {
       "config": {
        "plotlyServerURL": "https://plot.ly"
       },
       "data": [
        {
         "hovertemplate": "Year of Film Release=%{x}<br>Average Gender Diversity=%{y}<extra></extra>",
         "legendgroup": "",
         "line": {
          "color": "#636efa",
          "dash": "solid"
         },
         "marker": {
          "symbol": "circle"
         },
         "mode": "lines",
         "name": "",
         "orientation": "v",
         "showlegend": false,
         "type": "scatter",
         "x": [
          1888,
          1893,
          1896,
          1899,
          1900,
          1903,
          1906,
          1907,
          1908,
          1909,
          1910,
          1911,
          1912,
          1913,
          1914,
          1915,
          1916,
          1917,
          1918,
          1919,
          1920,
          1921,
          1922,
          1923,
          1924,
          1925,
          1926,
          1927,
          1928,
          1929,
          1930,
          1931,
          1932,
          1933,
          1934,
          1935,
          1936,
          1937,
          1938,
          1939,
          1940,
          1941,
          1942,
          1943,
          1944,
          1945,
          1946,
          1947,
          1948,
          1949,
          1950,
          1951,
          1952,
          1953,
          1954,
          1955,
          1956,
          1957,
          1958,
          1959,
          1960,
          1961,
          1962,
          1963,
          1964,
          1965,
          1966,
          1967,
          1968,
          1969,
          1970,
          1971,
          1972,
          1973,
          1974,
          1975,
          1976,
          1977,
          1978,
          1979,
          1980,
          1981,
          1982,
          1983,
          1984,
          1985,
          1986,
          1987,
          1988,
          1989,
          1990,
          1991,
          1992,
          1993,
          1994,
          1995,
          1996,
          1997,
          1998,
          1999,
          2000,
          2001,
          2002,
          2003,
          2004,
          2005,
          2006,
          2007,
          2008,
          2009,
          2010,
          2011,
          2012,
          2013
         ],
         "xaxis": "x",
         "y": [
          0.5,
          0,
          0.3333333333333333,
          0.5,
          0.4444444444444444,
          0.3148148148148148,
          0.4444444444444444,
          0.1875,
          0.33641975308641975,
          0.4831662842651854,
          0.41986992708146553,
          0.40023397237682945,
          0.46144393722401245,
          0.4193567251461988,
          0.38485245578098043,
          0.4085700014959687,
          0.4045766223188634,
          0.31668242315444695,
          0.3798596263902386,
          0.3642627913287942,
          0.3803115959027289,
          0.3712451929884289,
          0.3796215329569762,
          0.3720885643877553,
          0.41808833516998645,
          0.4463865963281548,
          0.40787978890146165,
          0.3737842036916288,
          0.38356206550886723,
          0.3870465452642224,
          0.4019196776222005,
          0.406629591284622,
          0.38147927286114114,
          0.39303584954801046,
          0.3942503318139573,
          0.38189270846441203,
          0.37032349651787577,
          0.3626772319604327,
          0.344351566016636,
          0.33615004978342405,
          0.3397734020920144,
          0.3575385253075209,
          0.3463229666031077,
          0.3360621205201991,
          0.37651570664908246,
          0.3714397695243591,
          0.3708765015070459,
          0.3783725203288597,
          0.383340240633983,
          0.3754362044175989,
          0.378983970439876,
          0.3610952342257387,
          0.36273261882579744,
          0.35187411923015127,
          0.34900294878445554,
          0.35415504408395815,
          0.3555589647886586,
          0.36201388025989234,
          0.35902301535028436,
          0.36211400838791186,
          0.3555906147423281,
          0.34741558848072124,
          0.3503672998278664,
          0.36512006802363844,
          0.37437226248776206,
          0.3479654114516821,
          0.3375576010109611,
          0.3382290168909471,
          0.3452863879708049,
          0.345293861934313,
          0.3750908000923032,
          0.35569514367271327,
          0.3409187733879999,
          0.3499759313091067,
          0.337039032514624,
          0.3306743767002294,
          0.3402305376785876,
          0.33660563234314256,
          0.37085321106715824,
          0.35351445743088566,
          0.35117010940058363,
          0.35781634013870356,
          0.36471760618740556,
          0.35571852783141333,
          0.36698157761417427,
          0.36226781483929077,
          0.3662352031988039,
          0.35665458845862585,
          0.3698622995794105,
          0.3659900679883252,
          0.3677127398761493,
          0.3754834985165489,
          0.3650149367565705,
          0.3676517471068323,
          0.37136114557556593,
          0.37909311228190845,
          0.36952442118460643,
          0.3767292240546481,
          0.3808768056246808,
          0.38117981801630324,
          0.3793536966724814,
          0.37301046270712035,
          0.3784569824645797,
          0.3742532335377614,
          0.37511905612625696,
          0.38206623918851507,
          0.3838013927160833,
          0.37650814577037095,
          0.3835717768658298,
          0.3889258679912665,
          0.38335461483627004,
          0.39933779255573004,
          0.3837683444420992,
          0.48
         ],
         "yaxis": "y"
        }
       ],
       "layout": {
        "legend": {
         "tracegroupgap": 0
        },
        "template": {
         "data": {
          "bar": [
           {
            "error_x": {
             "color": "#2a3f5f"
            },
            "error_y": {
             "color": "#2a3f5f"
            },
            "marker": {
             "line": {
              "color": "#E5ECF6",
              "width": 0.5
             },
             "pattern": {
              "fillmode": "overlay",
              "size": 10,
              "solidity": 0.2
             }
            },
            "type": "bar"
           }
          ],
          "barpolar": [
           {
            "marker": {
             "line": {
              "color": "#E5ECF6",
              "width": 0.5
             },
             "pattern": {
              "fillmode": "overlay",
              "size": 10,
              "solidity": 0.2
             }
            },
            "type": "barpolar"
           }
          ],
          "carpet": [
           {
            "aaxis": {
             "endlinecolor": "#2a3f5f",
             "gridcolor": "white",
             "linecolor": "white",
             "minorgridcolor": "white",
             "startlinecolor": "#2a3f5f"
            },
            "baxis": {
             "endlinecolor": "#2a3f5f",
             "gridcolor": "white",
             "linecolor": "white",
             "minorgridcolor": "white",
             "startlinecolor": "#2a3f5f"
            },
            "type": "carpet"
           }
          ],
          "choropleth": [
           {
            "colorbar": {
             "outlinewidth": 0,
             "ticks": ""
            },
            "type": "choropleth"
           }
          ],
          "contour": [
           {
            "colorbar": {
             "outlinewidth": 0,
             "ticks": ""
            },
            "colorscale": [
             [
              0,
              "#0d0887"
             ],
             [
              0.1111111111111111,
              "#46039f"
             ],
             [
              0.2222222222222222,
              "#7201a8"
             ],
             [
              0.3333333333333333,
              "#9c179e"
             ],
             [
              0.4444444444444444,
              "#bd3786"
             ],
             [
              0.5555555555555556,
              "#d8576b"
             ],
             [
              0.6666666666666666,
              "#ed7953"
             ],
             [
              0.7777777777777778,
              "#fb9f3a"
             ],
             [
              0.8888888888888888,
              "#fdca26"
             ],
             [
              1,
              "#f0f921"
             ]
            ],
            "type": "contour"
           }
          ],
          "contourcarpet": [
           {
            "colorbar": {
             "outlinewidth": 0,
             "ticks": ""
            },
            "type": "contourcarpet"
           }
          ],
          "heatmap": [
           {
            "colorbar": {
             "outlinewidth": 0,
             "ticks": ""
            },
            "colorscale": [
             [
              0,
              "#0d0887"
             ],
             [
              0.1111111111111111,
              "#46039f"
             ],
             [
              0.2222222222222222,
              "#7201a8"
             ],
             [
              0.3333333333333333,
              "#9c179e"
             ],
             [
              0.4444444444444444,
              "#bd3786"
             ],
             [
              0.5555555555555556,
              "#d8576b"
             ],
             [
              0.6666666666666666,
              "#ed7953"
             ],
             [
              0.7777777777777778,
              "#fb9f3a"
             ],
             [
              0.8888888888888888,
              "#fdca26"
             ],
             [
              1,
              "#f0f921"
             ]
            ],
            "type": "heatmap"
           }
          ],
          "heatmapgl": [
           {
            "colorbar": {
             "outlinewidth": 0,
             "ticks": ""
            },
            "colorscale": [
             [
              0,
              "#0d0887"
             ],
             [
              0.1111111111111111,
              "#46039f"
             ],
             [
              0.2222222222222222,
              "#7201a8"
             ],
             [
              0.3333333333333333,
              "#9c179e"
             ],
             [
              0.4444444444444444,
              "#bd3786"
             ],
             [
              0.5555555555555556,
              "#d8576b"
             ],
             [
              0.6666666666666666,
              "#ed7953"
             ],
             [
              0.7777777777777778,
              "#fb9f3a"
             ],
             [
              0.8888888888888888,
              "#fdca26"
             ],
             [
              1,
              "#f0f921"
             ]
            ],
            "type": "heatmapgl"
           }
          ],
          "histogram": [
           {
            "marker": {
             "pattern": {
              "fillmode": "overlay",
              "size": 10,
              "solidity": 0.2
             }
            },
            "type": "histogram"
           }
          ],
          "histogram2d": [
           {
            "colorbar": {
             "outlinewidth": 0,
             "ticks": ""
            },
            "colorscale": [
             [
              0,
              "#0d0887"
             ],
             [
              0.1111111111111111,
              "#46039f"
             ],
             [
              0.2222222222222222,
              "#7201a8"
             ],
             [
              0.3333333333333333,
              "#9c179e"
             ],
             [
              0.4444444444444444,
              "#bd3786"
             ],
             [
              0.5555555555555556,
              "#d8576b"
             ],
             [
              0.6666666666666666,
              "#ed7953"
             ],
             [
              0.7777777777777778,
              "#fb9f3a"
             ],
             [
              0.8888888888888888,
              "#fdca26"
             ],
             [
              1,
              "#f0f921"
             ]
            ],
            "type": "histogram2d"
           }
          ],
          "histogram2dcontour": [
           {
            "colorbar": {
             "outlinewidth": 0,
             "ticks": ""
            },
            "colorscale": [
             [
              0,
              "#0d0887"
             ],
             [
              0.1111111111111111,
              "#46039f"
             ],
             [
              0.2222222222222222,
              "#7201a8"
             ],
             [
              0.3333333333333333,
              "#9c179e"
             ],
             [
              0.4444444444444444,
              "#bd3786"
             ],
             [
              0.5555555555555556,
              "#d8576b"
             ],
             [
              0.6666666666666666,
              "#ed7953"
             ],
             [
              0.7777777777777778,
              "#fb9f3a"
             ],
             [
              0.8888888888888888,
              "#fdca26"
             ],
             [
              1,
              "#f0f921"
             ]
            ],
            "type": "histogram2dcontour"
           }
          ],
          "mesh3d": [
           {
            "colorbar": {
             "outlinewidth": 0,
             "ticks": ""
            },
            "type": "mesh3d"
           }
          ],
          "parcoords": [
           {
            "line": {
             "colorbar": {
              "outlinewidth": 0,
              "ticks": ""
             }
            },
            "type": "parcoords"
           }
          ],
          "pie": [
           {
            "automargin": true,
            "type": "pie"
           }
          ],
          "scatter": [
           {
            "marker": {
             "colorbar": {
              "outlinewidth": 0,
              "ticks": ""
             }
            },
            "type": "scatter"
           }
          ],
          "scatter3d": [
           {
            "line": {
             "colorbar": {
              "outlinewidth": 0,
              "ticks": ""
             }
            },
            "marker": {
             "colorbar": {
              "outlinewidth": 0,
              "ticks": ""
             }
            },
            "type": "scatter3d"
           }
          ],
          "scattercarpet": [
           {
            "marker": {
             "colorbar": {
              "outlinewidth": 0,
              "ticks": ""
             }
            },
            "type": "scattercarpet"
           }
          ],
          "scattergeo": [
           {
            "marker": {
             "colorbar": {
              "outlinewidth": 0,
              "ticks": ""
             }
            },
            "type": "scattergeo"
           }
          ],
          "scattergl": [
           {
            "marker": {
             "colorbar": {
              "outlinewidth": 0,
              "ticks": ""
             }
            },
            "type": "scattergl"
           }
          ],
          "scattermapbox": [
           {
            "marker": {
             "colorbar": {
              "outlinewidth": 0,
              "ticks": ""
             }
            },
            "type": "scattermapbox"
           }
          ],
          "scatterpolar": [
           {
            "marker": {
             "colorbar": {
              "outlinewidth": 0,
              "ticks": ""
             }
            },
            "type": "scatterpolar"
           }
          ],
          "scatterpolargl": [
           {
            "marker": {
             "colorbar": {
              "outlinewidth": 0,
              "ticks": ""
             }
            },
            "type": "scatterpolargl"
           }
          ],
          "scatterternary": [
           {
            "marker": {
             "colorbar": {
              "outlinewidth": 0,
              "ticks": ""
             }
            },
            "type": "scatterternary"
           }
          ],
          "surface": [
           {
            "colorbar": {
             "outlinewidth": 0,
             "ticks": ""
            },
            "colorscale": [
             [
              0,
              "#0d0887"
             ],
             [
              0.1111111111111111,
              "#46039f"
             ],
             [
              0.2222222222222222,
              "#7201a8"
             ],
             [
              0.3333333333333333,
              "#9c179e"
             ],
             [
              0.4444444444444444,
              "#bd3786"
             ],
             [
              0.5555555555555556,
              "#d8576b"
             ],
             [
              0.6666666666666666,
              "#ed7953"
             ],
             [
              0.7777777777777778,
              "#fb9f3a"
             ],
             [
              0.8888888888888888,
              "#fdca26"
             ],
             [
              1,
              "#f0f921"
             ]
            ],
            "type": "surface"
           }
          ],
          "table": [
           {
            "cells": {
             "fill": {
              "color": "#EBF0F8"
             },
             "line": {
              "color": "white"
             }
            },
            "header": {
             "fill": {
              "color": "#C8D4E3"
             },
             "line": {
              "color": "white"
             }
            },
            "type": "table"
           }
          ]
         },
         "layout": {
          "annotationdefaults": {
           "arrowcolor": "#2a3f5f",
           "arrowhead": 0,
           "arrowwidth": 1
          },
          "autotypenumbers": "strict",
          "coloraxis": {
           "colorbar": {
            "outlinewidth": 0,
            "ticks": ""
           }
          },
          "colorscale": {
           "diverging": [
            [
             0,
             "#8e0152"
            ],
            [
             0.1,
             "#c51b7d"
            ],
            [
             0.2,
             "#de77ae"
            ],
            [
             0.3,
             "#f1b6da"
            ],
            [
             0.4,
             "#fde0ef"
            ],
            [
             0.5,
             "#f7f7f7"
            ],
            [
             0.6,
             "#e6f5d0"
            ],
            [
             0.7,
             "#b8e186"
            ],
            [
             0.8,
             "#7fbc41"
            ],
            [
             0.9,
             "#4d9221"
            ],
            [
             1,
             "#276419"
            ]
           ],
           "sequential": [
            [
             0,
             "#0d0887"
            ],
            [
             0.1111111111111111,
             "#46039f"
            ],
            [
             0.2222222222222222,
             "#7201a8"
            ],
            [
             0.3333333333333333,
             "#9c179e"
            ],
            [
             0.4444444444444444,
             "#bd3786"
            ],
            [
             0.5555555555555556,
             "#d8576b"
            ],
            [
             0.6666666666666666,
             "#ed7953"
            ],
            [
             0.7777777777777778,
             "#fb9f3a"
            ],
            [
             0.8888888888888888,
             "#fdca26"
            ],
            [
             1,
             "#f0f921"
            ]
           ],
           "sequentialminus": [
            [
             0,
             "#0d0887"
            ],
            [
             0.1111111111111111,
             "#46039f"
            ],
            [
             0.2222222222222222,
             "#7201a8"
            ],
            [
             0.3333333333333333,
             "#9c179e"
            ],
            [
             0.4444444444444444,
             "#bd3786"
            ],
            [
             0.5555555555555556,
             "#d8576b"
            ],
            [
             0.6666666666666666,
             "#ed7953"
            ],
            [
             0.7777777777777778,
             "#fb9f3a"
            ],
            [
             0.8888888888888888,
             "#fdca26"
            ],
            [
             1,
             "#f0f921"
            ]
           ]
          },
          "colorway": [
           "#636efa",
           "#EF553B",
           "#00cc96",
           "#ab63fa",
           "#FFA15A",
           "#19d3f3",
           "#FF6692",
           "#B6E880",
           "#FF97FF",
           "#FECB52"
          ],
          "font": {
           "color": "#2a3f5f"
          },
          "geo": {
           "bgcolor": "white",
           "lakecolor": "white",
           "landcolor": "#E5ECF6",
           "showlakes": true,
           "showland": true,
           "subunitcolor": "white"
          },
          "hoverlabel": {
           "align": "left"
          },
          "hovermode": "closest",
          "mapbox": {
           "style": "light"
          },
          "paper_bgcolor": "white",
          "plot_bgcolor": "#E5ECF6",
          "polar": {
           "angularaxis": {
            "gridcolor": "white",
            "linecolor": "white",
            "ticks": ""
           },
           "bgcolor": "#E5ECF6",
           "radialaxis": {
            "gridcolor": "white",
            "linecolor": "white",
            "ticks": ""
           }
          },
          "scene": {
           "xaxis": {
            "backgroundcolor": "#E5ECF6",
            "gridcolor": "white",
            "gridwidth": 2,
            "linecolor": "white",
            "showbackground": true,
            "ticks": "",
            "zerolinecolor": "white"
           },
           "yaxis": {
            "backgroundcolor": "#E5ECF6",
            "gridcolor": "white",
            "gridwidth": 2,
            "linecolor": "white",
            "showbackground": true,
            "ticks": "",
            "zerolinecolor": "white"
           },
           "zaxis": {
            "backgroundcolor": "#E5ECF6",
            "gridcolor": "white",
            "gridwidth": 2,
            "linecolor": "white",
            "showbackground": true,
            "ticks": "",
            "zerolinecolor": "white"
           }
          },
          "shapedefaults": {
           "line": {
            "color": "#2a3f5f"
           }
          },
          "ternary": {
           "aaxis": {
            "gridcolor": "white",
            "linecolor": "white",
            "ticks": ""
           },
           "baxis": {
            "gridcolor": "white",
            "linecolor": "white",
            "ticks": ""
           },
           "bgcolor": "#E5ECF6",
           "caxis": {
            "gridcolor": "white",
            "linecolor": "white",
            "ticks": ""
           }
          },
          "title": {
           "x": 0.05
          },
          "xaxis": {
           "automargin": true,
           "gridcolor": "white",
           "linecolor": "white",
           "ticks": "",
           "title": {
            "standoff": 15
           },
           "zerolinecolor": "white",
           "zerolinewidth": 2
          },
          "yaxis": {
           "automargin": true,
           "gridcolor": "white",
           "linecolor": "white",
           "ticks": "",
           "title": {
            "standoff": 15
           },
           "zerolinecolor": "white",
           "zerolinewidth": 2
          }
         }
        },
        "title": {
         "text": "Evolution of Gender Diversity in Films Over Time"
        },
        "xaxis": {
         "anchor": "y",
         "domain": [
          0,
          1
         ],
         "title": {
          "text": "Year of Film Release"
         }
        },
        "yaxis": {
         "anchor": "x",
         "domain": [
          0,
          1
         ],
         "title": {
          "text": "Average Gender Diversity"
         }
        }
       }
      },
      "text/html": [
       "<div>                            <div id=\"037422bd-6d07-417e-a6e5-f17c2cdaca1b\" class=\"plotly-graph-div\" style=\"height:525px; width:100%;\"></div>            <script type=\"text/javascript\">                require([\"plotly\"], function(Plotly) {                    window.PLOTLYENV=window.PLOTLYENV || {};                                    if (document.getElementById(\"037422bd-6d07-417e-a6e5-f17c2cdaca1b\")) {                    Plotly.newPlot(                        \"037422bd-6d07-417e-a6e5-f17c2cdaca1b\",                        [{\"hovertemplate\":\"Year of Film Release=%{x}<br>Average Gender Diversity=%{y}<extra></extra>\",\"legendgroup\":\"\",\"line\":{\"color\":\"#636efa\",\"dash\":\"solid\"},\"marker\":{\"symbol\":\"circle\"},\"mode\":\"lines\",\"name\":\"\",\"orientation\":\"v\",\"showlegend\":false,\"x\":[1888.0,1893.0,1896.0,1899.0,1900.0,1903.0,1906.0,1907.0,1908.0,1909.0,1910.0,1911.0,1912.0,1913.0,1914.0,1915.0,1916.0,1917.0,1918.0,1919.0,1920.0,1921.0,1922.0,1923.0,1924.0,1925.0,1926.0,1927.0,1928.0,1929.0,1930.0,1931.0,1932.0,1933.0,1934.0,1935.0,1936.0,1937.0,1938.0,1939.0,1940.0,1941.0,1942.0,1943.0,1944.0,1945.0,1946.0,1947.0,1948.0,1949.0,1950.0,1951.0,1952.0,1953.0,1954.0,1955.0,1956.0,1957.0,1958.0,1959.0,1960.0,1961.0,1962.0,1963.0,1964.0,1965.0,1966.0,1967.0,1968.0,1969.0,1970.0,1971.0,1972.0,1973.0,1974.0,1975.0,1976.0,1977.0,1978.0,1979.0,1980.0,1981.0,1982.0,1983.0,1984.0,1985.0,1986.0,1987.0,1988.0,1989.0,1990.0,1991.0,1992.0,1993.0,1994.0,1995.0,1996.0,1997.0,1998.0,1999.0,2000.0,2001.0,2002.0,2003.0,2004.0,2005.0,2006.0,2007.0,2008.0,2009.0,2010.0,2011.0,2012.0,2013.0],\"xaxis\":\"x\",\"y\":[0.5,0.0,0.3333333333333333,0.5,0.4444444444444444,0.3148148148148148,0.4444444444444444,0.1875,0.33641975308641975,0.4831662842651854,0.41986992708146553,0.40023397237682945,0.46144393722401245,0.4193567251461988,0.38485245578098043,0.4085700014959687,0.4045766223188634,0.31668242315444695,0.3798596263902386,0.3642627913287942,0.3803115959027289,0.3712451929884289,0.3796215329569762,0.3720885643877553,0.41808833516998645,0.4463865963281548,0.40787978890146165,0.3737842036916288,0.38356206550886723,0.3870465452642224,0.4019196776222005,0.406629591284622,0.38147927286114114,0.39303584954801046,0.3942503318139573,0.38189270846441203,0.37032349651787577,0.3626772319604327,0.344351566016636,0.33615004978342405,0.3397734020920144,0.3575385253075209,0.3463229666031077,0.3360621205201991,0.37651570664908246,0.3714397695243591,0.3708765015070459,0.3783725203288597,0.383340240633983,0.3754362044175989,0.378983970439876,0.3610952342257387,0.36273261882579744,0.35187411923015127,0.34900294878445554,0.35415504408395815,0.3555589647886586,0.36201388025989234,0.35902301535028436,0.36211400838791186,0.3555906147423281,0.34741558848072124,0.3503672998278664,0.36512006802363844,0.37437226248776206,0.3479654114516821,0.3375576010109611,0.3382290168909471,0.3452863879708049,0.345293861934313,0.3750908000923032,0.35569514367271327,0.3409187733879999,0.3499759313091067,0.337039032514624,0.3306743767002294,0.3402305376785876,0.33660563234314256,0.37085321106715824,0.35351445743088566,0.35117010940058363,0.35781634013870356,0.36471760618740556,0.35571852783141333,0.36698157761417427,0.36226781483929077,0.3662352031988039,0.35665458845862585,0.3698622995794105,0.3659900679883252,0.3677127398761493,0.3754834985165489,0.3650149367565705,0.3676517471068323,0.37136114557556593,0.37909311228190845,0.36952442118460643,0.3767292240546481,0.3808768056246808,0.38117981801630324,0.3793536966724814,0.37301046270712035,0.3784569824645797,0.3742532335377614,0.37511905612625696,0.38206623918851507,0.3838013927160833,0.37650814577037095,0.3835717768658298,0.3889258679912665,0.38335461483627004,0.39933779255573004,0.3837683444420992,0.48],\"yaxis\":\"y\",\"type\":\"scatter\"}],                        {\"template\":{\"data\":{\"bar\":[{\"error_x\":{\"color\":\"#2a3f5f\"},\"error_y\":{\"color\":\"#2a3f5f\"},\"marker\":{\"line\":{\"color\":\"#E5ECF6\",\"width\":0.5},\"pattern\":{\"fillmode\":\"overlay\",\"size\":10,\"solidity\":0.2}},\"type\":\"bar\"}],\"barpolar\":[{\"marker\":{\"line\":{\"color\":\"#E5ECF6\",\"width\":0.5},\"pattern\":{\"fillmode\":\"overlay\",\"size\":10,\"solidity\":0.2}},\"type\":\"barpolar\"}],\"carpet\":[{\"aaxis\":{\"endlinecolor\":\"#2a3f5f\",\"gridcolor\":\"white\",\"linecolor\":\"white\",\"minorgridcolor\":\"white\",\"startlinecolor\":\"#2a3f5f\"},\"baxis\":{\"endlinecolor\":\"#2a3f5f\",\"gridcolor\":\"white\",\"linecolor\":\"white\",\"minorgridcolor\":\"white\",\"startlinecolor\":\"#2a3f5f\"},\"type\":\"carpet\"}],\"choropleth\":[{\"colorbar\":{\"outlinewidth\":0,\"ticks\":\"\"},\"type\":\"choropleth\"}],\"contour\":[{\"colorbar\":{\"outlinewidth\":0,\"ticks\":\"\"},\"colorscale\":[[0.0,\"#0d0887\"],[0.1111111111111111,\"#46039f\"],[0.2222222222222222,\"#7201a8\"],[0.3333333333333333,\"#9c179e\"],[0.4444444444444444,\"#bd3786\"],[0.5555555555555556,\"#d8576b\"],[0.6666666666666666,\"#ed7953\"],[0.7777777777777778,\"#fb9f3a\"],[0.8888888888888888,\"#fdca26\"],[1.0,\"#f0f921\"]],\"type\":\"contour\"}],\"contourcarpet\":[{\"colorbar\":{\"outlinewidth\":0,\"ticks\":\"\"},\"type\":\"contourcarpet\"}],\"heatmap\":[{\"colorbar\":{\"outlinewidth\":0,\"ticks\":\"\"},\"colorscale\":[[0.0,\"#0d0887\"],[0.1111111111111111,\"#46039f\"],[0.2222222222222222,\"#7201a8\"],[0.3333333333333333,\"#9c179e\"],[0.4444444444444444,\"#bd3786\"],[0.5555555555555556,\"#d8576b\"],[0.6666666666666666,\"#ed7953\"],[0.7777777777777778,\"#fb9f3a\"],[0.8888888888888888,\"#fdca26\"],[1.0,\"#f0f921\"]],\"type\":\"heatmap\"}],\"heatmapgl\":[{\"colorbar\":{\"outlinewidth\":0,\"ticks\":\"\"},\"colorscale\":[[0.0,\"#0d0887\"],[0.1111111111111111,\"#46039f\"],[0.2222222222222222,\"#7201a8\"],[0.3333333333333333,\"#9c179e\"],[0.4444444444444444,\"#bd3786\"],[0.5555555555555556,\"#d8576b\"],[0.6666666666666666,\"#ed7953\"],[0.7777777777777778,\"#fb9f3a\"],[0.8888888888888888,\"#fdca26\"],[1.0,\"#f0f921\"]],\"type\":\"heatmapgl\"}],\"histogram\":[{\"marker\":{\"pattern\":{\"fillmode\":\"overlay\",\"size\":10,\"solidity\":0.2}},\"type\":\"histogram\"}],\"histogram2d\":[{\"colorbar\":{\"outlinewidth\":0,\"ticks\":\"\"},\"colorscale\":[[0.0,\"#0d0887\"],[0.1111111111111111,\"#46039f\"],[0.2222222222222222,\"#7201a8\"],[0.3333333333333333,\"#9c179e\"],[0.4444444444444444,\"#bd3786\"],[0.5555555555555556,\"#d8576b\"],[0.6666666666666666,\"#ed7953\"],[0.7777777777777778,\"#fb9f3a\"],[0.8888888888888888,\"#fdca26\"],[1.0,\"#f0f921\"]],\"type\":\"histogram2d\"}],\"histogram2dcontour\":[{\"colorbar\":{\"outlinewidth\":0,\"ticks\":\"\"},\"colorscale\":[[0.0,\"#0d0887\"],[0.1111111111111111,\"#46039f\"],[0.2222222222222222,\"#7201a8\"],[0.3333333333333333,\"#9c179e\"],[0.4444444444444444,\"#bd3786\"],[0.5555555555555556,\"#d8576b\"],[0.6666666666666666,\"#ed7953\"],[0.7777777777777778,\"#fb9f3a\"],[0.8888888888888888,\"#fdca26\"],[1.0,\"#f0f921\"]],\"type\":\"histogram2dcontour\"}],\"mesh3d\":[{\"colorbar\":{\"outlinewidth\":0,\"ticks\":\"\"},\"type\":\"mesh3d\"}],\"parcoords\":[{\"line\":{\"colorbar\":{\"outlinewidth\":0,\"ticks\":\"\"}},\"type\":\"parcoords\"}],\"pie\":[{\"automargin\":true,\"type\":\"pie\"}],\"scatter\":[{\"marker\":{\"colorbar\":{\"outlinewidth\":0,\"ticks\":\"\"}},\"type\":\"scatter\"}],\"scatter3d\":[{\"line\":{\"colorbar\":{\"outlinewidth\":0,\"ticks\":\"\"}},\"marker\":{\"colorbar\":{\"outlinewidth\":0,\"ticks\":\"\"}},\"type\":\"scatter3d\"}],\"scattercarpet\":[{\"marker\":{\"colorbar\":{\"outlinewidth\":0,\"ticks\":\"\"}},\"type\":\"scattercarpet\"}],\"scattergeo\":[{\"marker\":{\"colorbar\":{\"outlinewidth\":0,\"ticks\":\"\"}},\"type\":\"scattergeo\"}],\"scattergl\":[{\"marker\":{\"colorbar\":{\"outlinewidth\":0,\"ticks\":\"\"}},\"type\":\"scattergl\"}],\"scattermapbox\":[{\"marker\":{\"colorbar\":{\"outlinewidth\":0,\"ticks\":\"\"}},\"type\":\"scattermapbox\"}],\"scatterpolar\":[{\"marker\":{\"colorbar\":{\"outlinewidth\":0,\"ticks\":\"\"}},\"type\":\"scatterpolar\"}],\"scatterpolargl\":[{\"marker\":{\"colorbar\":{\"outlinewidth\":0,\"ticks\":\"\"}},\"type\":\"scatterpolargl\"}],\"scatterternary\":[{\"marker\":{\"colorbar\":{\"outlinewidth\":0,\"ticks\":\"\"}},\"type\":\"scatterternary\"}],\"surface\":[{\"colorbar\":{\"outlinewidth\":0,\"ticks\":\"\"},\"colorscale\":[[0.0,\"#0d0887\"],[0.1111111111111111,\"#46039f\"],[0.2222222222222222,\"#7201a8\"],[0.3333333333333333,\"#9c179e\"],[0.4444444444444444,\"#bd3786\"],[0.5555555555555556,\"#d8576b\"],[0.6666666666666666,\"#ed7953\"],[0.7777777777777778,\"#fb9f3a\"],[0.8888888888888888,\"#fdca26\"],[1.0,\"#f0f921\"]],\"type\":\"surface\"}],\"table\":[{\"cells\":{\"fill\":{\"color\":\"#EBF0F8\"},\"line\":{\"color\":\"white\"}},\"header\":{\"fill\":{\"color\":\"#C8D4E3\"},\"line\":{\"color\":\"white\"}},\"type\":\"table\"}]},\"layout\":{\"annotationdefaults\":{\"arrowcolor\":\"#2a3f5f\",\"arrowhead\":0,\"arrowwidth\":1},\"autotypenumbers\":\"strict\",\"coloraxis\":{\"colorbar\":{\"outlinewidth\":0,\"ticks\":\"\"}},\"colorscale\":{\"diverging\":[[0,\"#8e0152\"],[0.1,\"#c51b7d\"],[0.2,\"#de77ae\"],[0.3,\"#f1b6da\"],[0.4,\"#fde0ef\"],[0.5,\"#f7f7f7\"],[0.6,\"#e6f5d0\"],[0.7,\"#b8e186\"],[0.8,\"#7fbc41\"],[0.9,\"#4d9221\"],[1,\"#276419\"]],\"sequential\":[[0.0,\"#0d0887\"],[0.1111111111111111,\"#46039f\"],[0.2222222222222222,\"#7201a8\"],[0.3333333333333333,\"#9c179e\"],[0.4444444444444444,\"#bd3786\"],[0.5555555555555556,\"#d8576b\"],[0.6666666666666666,\"#ed7953\"],[0.7777777777777778,\"#fb9f3a\"],[0.8888888888888888,\"#fdca26\"],[1.0,\"#f0f921\"]],\"sequentialminus\":[[0.0,\"#0d0887\"],[0.1111111111111111,\"#46039f\"],[0.2222222222222222,\"#7201a8\"],[0.3333333333333333,\"#9c179e\"],[0.4444444444444444,\"#bd3786\"],[0.5555555555555556,\"#d8576b\"],[0.6666666666666666,\"#ed7953\"],[0.7777777777777778,\"#fb9f3a\"],[0.8888888888888888,\"#fdca26\"],[1.0,\"#f0f921\"]]},\"colorway\":[\"#636efa\",\"#EF553B\",\"#00cc96\",\"#ab63fa\",\"#FFA15A\",\"#19d3f3\",\"#FF6692\",\"#B6E880\",\"#FF97FF\",\"#FECB52\"],\"font\":{\"color\":\"#2a3f5f\"},\"geo\":{\"bgcolor\":\"white\",\"lakecolor\":\"white\",\"landcolor\":\"#E5ECF6\",\"showlakes\":true,\"showland\":true,\"subunitcolor\":\"white\"},\"hoverlabel\":{\"align\":\"left\"},\"hovermode\":\"closest\",\"mapbox\":{\"style\":\"light\"},\"paper_bgcolor\":\"white\",\"plot_bgcolor\":\"#E5ECF6\",\"polar\":{\"angularaxis\":{\"gridcolor\":\"white\",\"linecolor\":\"white\",\"ticks\":\"\"},\"bgcolor\":\"#E5ECF6\",\"radialaxis\":{\"gridcolor\":\"white\",\"linecolor\":\"white\",\"ticks\":\"\"}},\"scene\":{\"xaxis\":{\"backgroundcolor\":\"#E5ECF6\",\"gridcolor\":\"white\",\"gridwidth\":2,\"linecolor\":\"white\",\"showbackground\":true,\"ticks\":\"\",\"zerolinecolor\":\"white\"},\"yaxis\":{\"backgroundcolor\":\"#E5ECF6\",\"gridcolor\":\"white\",\"gridwidth\":2,\"linecolor\":\"white\",\"showbackground\":true,\"ticks\":\"\",\"zerolinecolor\":\"white\"},\"zaxis\":{\"backgroundcolor\":\"#E5ECF6\",\"gridcolor\":\"white\",\"gridwidth\":2,\"linecolor\":\"white\",\"showbackground\":true,\"ticks\":\"\",\"zerolinecolor\":\"white\"}},\"shapedefaults\":{\"line\":{\"color\":\"#2a3f5f\"}},\"ternary\":{\"aaxis\":{\"gridcolor\":\"white\",\"linecolor\":\"white\",\"ticks\":\"\"},\"baxis\":{\"gridcolor\":\"white\",\"linecolor\":\"white\",\"ticks\":\"\"},\"bgcolor\":\"#E5ECF6\",\"caxis\":{\"gridcolor\":\"white\",\"linecolor\":\"white\",\"ticks\":\"\"}},\"title\":{\"x\":0.05},\"xaxis\":{\"automargin\":true,\"gridcolor\":\"white\",\"linecolor\":\"white\",\"ticks\":\"\",\"title\":{\"standoff\":15},\"zerolinecolor\":\"white\",\"zerolinewidth\":2},\"yaxis\":{\"automargin\":true,\"gridcolor\":\"white\",\"linecolor\":\"white\",\"ticks\":\"\",\"title\":{\"standoff\":15},\"zerolinecolor\":\"white\",\"zerolinewidth\":2}}},\"xaxis\":{\"anchor\":\"y\",\"domain\":[0.0,1.0],\"title\":{\"text\":\"Year of Film Release\"}},\"yaxis\":{\"anchor\":\"x\",\"domain\":[0.0,1.0],\"title\":{\"text\":\"Average Gender Diversity\"}},\"legend\":{\"tracegroupgap\":0},\"title\":{\"text\":\"Evolution of Gender Diversity in Films Over Time\"}},                        {\"responsive\": true}                    ).then(function(){\n",
       "                            \n",
       "var gd = document.getElementById('037422bd-6d07-417e-a6e5-f17c2cdaca1b');\n",
       "var x = new MutationObserver(function (mutations, observer) {{\n",
       "        var display = window.getComputedStyle(gd).display;\n",
       "        if (!display || display === 'none') {{\n",
       "            console.log([gd, 'removed!']);\n",
       "            Plotly.purge(gd);\n",
       "            observer.disconnect();\n",
       "        }}\n",
       "}});\n",
       "\n",
       "// Listen for the removal of the full notebook cells\n",
       "var notebookContainer = gd.closest('#notebook-container');\n",
       "if (notebookContainer) {{\n",
       "    x.observe(notebookContainer, {childList: true});\n",
       "}}\n",
       "\n",
       "// Listen for the clearing of the current output cell\n",
       "var outputEl = gd.closest('.output');\n",
       "if (outputEl) {{\n",
       "    x.observe(outputEl, {childList: true});\n",
       "}}\n",
       "\n",
       "                        })                };                });            </script>        </div>"
      ]
     },
     "metadata": {},
     "output_type": "display_data"
    }
   ],
   "source": [
    "# Visualize whether ethnic diversity in films has increased over time\n",
    "\n",
    "# Grouping by year of exit and calculation of the average of gender diversity\n",
    "gender_diversity_by_year = gender_diversity_df.groupby('movie_release_year')['gender_diversity'].mean().reset_index()\n",
    "\n",
    "# Creation of the interactif graph\n",
    "fig = px.line(gender_diversity_by_year, x='movie_release_year', y='gender_diversity', \n",
    "              title='Evolution of Gender Diversity in Films Over Time',\n",
    "              labels={'movie_release_year': 'Year of Film Release', 'gender_diversity': 'Average Gender Diversity'})\n",
    "fig.show()"
   ]
  },
  {
   "cell_type": "markdown",
   "id": "f7413d26",
   "metadata": {},
   "source": [
    "### Impact of Gender Diversity"
   ]
  },
  {
   "cell_type": "code",
   "execution_count": 142,
   "id": "9d453d9a",
   "metadata": {},
   "outputs": [
    {
     "name": "stdout",
     "output_type": "stream",
     "text": [
      "(5600, 11)\n"
     ]
    }
   ],
   "source": [
    "# Remove rows with NaNs in column \"movie_box_office_revenue\"\n",
    "gender_diversity_box_office_df = gender_diversity_df.dropna(subset=['movie_box_office_revenue'])\n",
    "\n",
    "print(gender_diversity_box_office_df.shape)"
   ]
  },
  {
   "cell_type": "markdown",
   "id": "0dde9d8f",
   "metadata": {},
   "source": [
    "#### Impact of Gender Diversity on Box Office"
   ]
  },
  {
   "cell_type": "code",
   "execution_count": 143,
   "id": "cecf30f6",
   "metadata": {},
   "outputs": [
    {
     "data": {
      "text/plain": [
       "-0.0003655086589473291"
      ]
     },
     "execution_count": 143,
     "metadata": {},
     "output_type": "execute_result"
    }
   ],
   "source": [
    "# Correlation calculation between gender_diversity score and box office revenue\n",
    "correlation = gender_diversity_box_office_df['gender_diversity'].corr(gender_diversity_box_office_df['movie_box_office_revenue'])\n",
    "correlation"
   ]
  },
  {
   "cell_type": "code",
   "execution_count": 144,
   "id": "dc8162cd",
   "metadata": {},
   "outputs": [
    {
     "name": "stdout",
     "output_type": "stream",
     "text": [
      "                               OLS Regression Results                               \n",
      "====================================================================================\n",
      "Dep. Variable:     movie_box_office_revenue   R-squared:                       0.000\n",
      "Model:                                  OLS   Adj. R-squared:                 -0.000\n",
      "Method:                       Least Squares   F-statistic:                 0.0007479\n",
      "Date:                      Sat, 16 Dec 2023   Prob (F-statistic):              0.978\n",
      "Time:                              15:26:54   Log-Likelihood:                -7945.6\n",
      "No. Observations:                      5600   AIC:                         1.590e+04\n",
      "Df Residuals:                          5598   BIC:                         1.591e+04\n",
      "Df Model:                                 1                                         \n",
      "Covariance Type:                  nonrobust                                         \n",
      "====================================================================================\n",
      "                       coef    std err          t      P>|t|      [0.025      0.975]\n",
      "------------------------------------------------------------------------------------\n",
      "const                0.0011      0.044      0.026      0.979      -0.084       0.087\n",
      "gender_diversity    -0.0029      0.108     -0.027      0.978      -0.214       0.208\n",
      "==============================================================================\n",
      "Omnibus:                     1691.502   Durbin-Watson:                   1.785\n",
      "Prob(Omnibus):                  0.000   Jarque-Bera (JB):             3991.937\n",
      "Skew:                           1.718   Prob(JB):                         0.00\n",
      "Kurtosis:                       5.303   Cond. No.                         9.27\n",
      "==============================================================================\n",
      "\n",
      "Notes:\n",
      "[1] Standard Errors assume that the covariance matrix of the errors is correctly specified.\n"
     ]
    }
   ],
   "source": [
    "# Regression analysis to assess the relationship between gender diversity and box office revenue\n",
    "\n",
    "# Preparing data for regression\n",
    "X = gender_diversity_box_office_df[['gender_diversity']] # Independent variable\n",
    "y = gender_diversity_box_office_df['movie_box_office_revenue'] # Dependent variable \n",
    "\n",
    "# Adding a constant to X\n",
    "X = sm.add_constant(X)\n",
    "\n",
    "# Linear regression\n",
    "model = sm.OLS(y, X).fit()\n",
    "\n",
    "# Model summary\n",
    "print(model.summary())"
   ]
  },
  {
   "cell_type": "code",
   "execution_count": 145,
   "id": "ed5babb7",
   "metadata": {},
   "outputs": [
    {
     "data": {
      "image/png": "[encoded data removed]",
      "text/plain": [
       "<Figure size 720x432 with 1 Axes>"
      ]
     },
     "metadata": {
      "needs_background": "light"
     },
     "output_type": "display_data"
    }
   ],
   "source": [
    "# View a regression graph to visualize the relationship between gender diversity and movie box office revenue\n",
    "\n",
    "# Plot the regression graph that shows the relationship between gender diversity and box office revenue\n",
    "plt.figure(figsize=(10, 6))\n",
    "sns.regplot(\n",
    "    x='gender_diversity',\n",
    "    y='movie_box_office_revenue',\n",
    "    data=gender_diversity_box_office_df,\n",
    "    line_kws={'color': 'red'},\n",
    "    ci=95\n",
    ")\n",
    "plt.title('Relationship between Gender Diversity and Box Office Revenue')\n",
    "plt.xlabel('Gender diversity')\n",
    "plt.ylabel('Box Office Revenue')\n",
    "plt.show()"
   ]
  },
  {
   "cell_type": "markdown",
   "id": "a851289e",
   "metadata": {},
   "source": [
    "#### Impact of Gender Diversity on Average Rating"
   ]
  },
  {
   "cell_type": "code",
   "execution_count": 146,
   "id": "2f11989e",
   "metadata": {},
   "outputs": [
    {
     "data": {
      "text/plain": [
       "-0.0052923788959889076"
      ]
     },
     "execution_count": 146,
     "metadata": {},
     "output_type": "execute_result"
    }
   ],
   "source": [
    "# Correlation calculation between gender_diversity score and average rating\n",
    "correlation = gender_diversity_df['gender_diversity'].corr(gender_diversity_df['rating_average'])\n",
    "correlation"
   ]
  },
  {
   "cell_type": "code",
   "execution_count": 147,
   "id": "545dc59d",
   "metadata": {},
   "outputs": [
    {
     "name": "stdout",
     "output_type": "stream",
     "text": [
      "                            OLS Regression Results                            \n",
      "==============================================================================\n",
      "Dep. Variable:         rating_average   R-squared:                       0.000\n",
      "Model:                            OLS   Adj. R-squared:                 -0.000\n",
      "Method:                 Least Squares   F-statistic:                    0.8371\n",
      "Date:                Sat, 16 Dec 2023   Prob (F-statistic):              0.360\n",
      "Time:                        15:26:55   Log-Likelihood:                -61362.\n",
      "No. Observations:               29887   AIC:                         1.227e+05\n",
      "Df Residuals:                   29885   BIC:                         1.227e+05\n",
      "Df Model:                           1                                         \n",
      "Covariance Type:            nonrobust                                         \n",
      "====================================================================================\n",
      "                       coef    std err          t      P>|t|      [0.025      0.975]\n",
      "------------------------------------------------------------------------------------\n",
      "const                5.5410      0.028    194.836      0.000       5.485       5.597\n",
      "gender_diversity    -0.0651      0.071     -0.915      0.360      -0.204       0.074\n",
      "==============================================================================\n",
      "Omnibus:                     8921.975   Durbin-Watson:                   1.935\n",
      "Prob(Omnibus):                  0.000   Jarque-Bera (JB):            23100.620\n",
      "Skew:                          -1.638   Prob(JB):                         0.00\n",
      "Kurtosis:                       5.796   Cond. No.                         7.43\n",
      "==============================================================================\n",
      "\n",
      "Notes:\n",
      "[1] Standard Errors assume that the covariance matrix of the errors is correctly specified.\n"
     ]
    }
   ],
   "source": [
    "# Regression analysis to assess the relationship between gender diversity and average rating\n",
    "\n",
    "# Preparing data for regression\n",
    "X = gender_diversity_df[['gender_diversity']] # Independent variable\n",
    "y = gender_diversity_df['rating_average'] # Dependent variable \n",
    "\n",
    "# Adding a constant to X\n",
    "X = sm.add_constant(X)\n",
    "\n",
    "# Linear regression\n",
    "model = sm.OLS(y, X).fit()\n",
    "\n",
    "# Model summary\n",
    "print(model.summary())"
   ]
  },
  {
   "cell_type": "code",
   "execution_count": 148,
   "id": "83462932",
   "metadata": {},
   "outputs": [
    {
     "data": {
      "image/png": "[encoded data removed]",
      "text/plain": [
       "<Figure size 720x432 with 1 Axes>"
      ]
     },
     "metadata": {
      "needs_background": "light"
     },
     "output_type": "display_data"
    }
   ],
   "source": [
    "# View a regression graph to visualize the relationship between gender diversity and average rating\n",
    "\n",
    "# Plot the regression graph that shows the relationship between gender diversity and average rating\n",
    "plt.figure(figsize=(10, 6))\n",
    "sns.regplot(\n",
    "    x='gender_diversity',\n",
    "    y='rating_average',\n",
    "    data=gender_diversity_df,\n",
    "    line_kws={'color': 'red'},\n",
    "    ci=95\n",
    ")\n",
    "plt.title('Relationship between Gender Diversity and Average Rating')\n",
    "plt.xlabel('Gender Diversity')\n",
    "plt.ylabel('Average Rating')\n",
    "plt.show()"
   ]
  },
  {
   "cell_type": "markdown",
   "id": "805f3225",
   "metadata": {},
   "source": [
    "#### Impact of Gender Diversity on Movie Performance"
   ]
  },
  {
   "cell_type": "code",
   "execution_count": 149,
   "id": "acd31477",
   "metadata": {},
   "outputs": [
    {
     "data": {
      "image/png": "[encoded data removed]",
      "text/plain": [
       "<Figure size 576x432 with 2 Axes>"
      ]
     },
     "metadata": {
      "needs_background": "light"
     },
     "output_type": "display_data"
    }
   ],
   "source": [
    "correlation_matrix = gender_diversity_df[['gender_diversity', 'movie_box_office_revenue', 'rating_average']].corr()\n",
    "\n",
    "plt.figure(figsize=(8, 6))\n",
    "sns.heatmap(correlation_matrix, annot=True, cmap='coolwarm', linewidths=0.5)\n",
    "plt.title('Correlation matrix')\n",
    "plt.show()"
   ]
  },
  {
   "cell_type": "code",
   "execution_count": null,
   "id": "bb8ab9e1",
   "metadata": {},
   "outputs": [],
   "source": []
  }
 ],
 "metadata": {
  "kernelspec": {
   "display_name": "Python 3 (ipykernel)",
   "language": "python",
   "name": "python3"
  },
  "language_info": {
   "codemirror_mode": {
    "name": "ipython",
    "version": 3
   },
   "file_extension": ".py",
   "mimetype": "text/x-python",
   "name": "python",
   "nbconvert_exporter": "python",
   "pygments_lexer": "ipython3",
   "version": "3.9.12"
  }
 },
 "nbformat": 4,
 "nbformat_minor": 5
}
