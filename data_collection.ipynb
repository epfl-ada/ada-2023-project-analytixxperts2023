{
 "cells": [
  {
   "cell_type": "markdown",
   "metadata": {},
   "source": [
    "# Wikidata query"
   ]
  },
  {
   "cell_type": "code",
   "execution_count": 1,
   "metadata": {},
   "outputs": [],
   "source": [
    "import pandas as pd\n",
    "from src.apiQueries import getLabelFromFBID, getInfoFromTMDB, multiprocess_query\n",
    "\n",
    "\n",
    "\n",
    "DATA_PATH = './datasets/'\n",
    "MOVIE_DATASET_PATH = DATA_PATH + 'MovieSummaries/'\n",
    "char_datapath = MOVIE_DATASET_PATH + 'character.metadata.tsv'\n",
    "movie_metadata = MOVIE_DATASET_PATH + 'movie.metadata.tsv'\n",
    "name_clusters = MOVIE_DATASET_PATH + 'name.clusters.txt'\n",
    "plot_summaries = MOVIE_DATASET_PATH + 'plot_summaries.txt'\n",
    "tvtropes_clusters = MOVIE_DATASET_PATH + 'tvtropes.clusters.txt'"
   ]
  },
  {
   "cell_type": "code",
   "execution_count": 2,
   "metadata": {},
   "outputs": [],
   "source": [
    "## Define columns names corresponding to characters metadata \n",
    "## and import the table using Pandas\n",
    "char_col_names= ['Wikipedia_movie_ID','Freebase_move_ID', 'movie_release_date',\n",
    "                   'Character_name','Actor_DOB','Actor_gender',\n",
    "                   'Actor_height','Actor_ethnicity','Actor_name',\n",
    "                   'Actor_age_release','Freebase_character_map',\n",
    "                   'Freebase_character_map2','Freebase_character_map3']\n",
    "\n",
    "char_metadata_df = pd.read_csv(char_datapath,header=None,sep='\\t',names=char_col_names) "
   ]
  },
  {
   "cell_type": "code",
   "execution_count": 3,
   "metadata": {},
   "outputs": [
    {
     "name": "stdout",
     "output_type": "stream",
     "text": [
      "Querying the id_list to api...\n"
     ]
    }
   ],
   "source": [
    "# Extract the list of Freebase ID ethnicities and get their label\n",
    "# with a query on the wikiData api\n",
    "FBids = char_metadata_df['Actor_ethnicity'].dropna().unique()\n",
    "df = getLabelFromFBID(id_list=FBids,verbose=True)"
   ]
  },
  {
   "cell_type": "code",
   "execution_count": 4,
   "metadata": {},
   "outputs": [],
   "source": [
    "# Save the labels for later use (if needed)\n",
    "df.to_csv('./generated/ethnicities_labels.csv')"
   ]
  },
  {
   "cell_type": "code",
   "execution_count": 5,
   "metadata": {},
   "outputs": [],
   "source": [
    "# Merge on character data to get the labels associated to FreeBase ids\n",
    "ethn_df = char_metadata_df.dropna(subset=['Actor_ethnicity'])\n",
    "ethn_df = ethn_df.merge(right = df,\n",
    "                       how='left',\n",
    "                       left_on='Actor_ethnicity',\n",
    "                       right_on='freebaseID.value')"
   ]
  },
  {
   "cell_type": "code",
   "execution_count": 6,
   "metadata": {},
   "outputs": [
    {
     "data": {
      "text/plain": [
       "3155"
      ]
     },
     "execution_count": 6,
     "metadata": {},
     "output_type": "execute_result"
    }
   ],
   "source": [
    "# Assess number of missing actor ethnicities\n",
    "ethn_df['freebaseID.value'].isna().sum()"
   ]
  },
  {
   "cell_type": "markdown",
   "metadata": {},
   "source": [
    "Some data is still missing -> assess if that's sufficient or not for analysis."
   ]
  },
  {
   "cell_type": "markdown",
   "metadata": {},
   "source": [
    "## IMDB Queries"
   ]
  },
  {
   "cell_type": "code",
   "execution_count": 7,
   "metadata": {},
   "outputs": [],
   "source": [
    "# Extract Movie names and runtime to find matches in the TMDB database\n",
    "col_names = names=['Wikipedia_movie_ID','Freebase_move_ID',\n",
    "                   'Movie_name','Movie_release_date','Movie_box_office_revenue',\n",
    "                   'Movie_runtime','Movie_languages','Movie_countries','Movie_genres']\n",
    "\n",
    "\n",
    "movie_metadata_df = pd.read_csv(movie_metadata,header=None,sep='\\t',\n",
    "                                names=col_names) \n",
    "movie_list = movie_metadata_df[['Movie_name','Movie_runtime']]"
   ]
  },
  {
   "cell_type": "code",
   "execution_count": 8,
   "metadata": {},
   "outputs": [],
   "source": [
    "# Import the api key\n",
    "with open('api_keys/tmdbkey.txt','r') as file:\n",
    "    key = file.readline()"
   ]
  },
  {
   "cell_type": "code",
   "execution_count": 11,
   "metadata": {},
   "outputs": [],
   "source": [
    "# Run a multiprocess to query the TMDB with the list of movies\n",
    "# Careful, takes 6 hours to run\n",
    "def task(chunk, key):\n",
    "    return getInfoFromTMDB(movie_list = chunk,key = key, verbose=False)\n",
    "movie_info_df = multiprocess_query(movie_list=movie_list,api_key=key, nb_workers=1,task = task)"
   ]
  },
  {
   "cell_type": "code",
   "execution_count": null,
   "metadata": {},
   "outputs": [],
   "source": [
    "# Save the dataframe as csv\n",
    "movie_info_df.to_csv('./generated/TMDB_extra_info.csv')"
   ]
  }
 ],
 "metadata": {
  "kernelspec": {
   "display_name": "ada",
   "language": "python",
   "name": "python3"
  },
  "language_info": {
   "codemirror_mode": {
    "name": "ipython",
    "version": 3
   },
   "file_extension": ".py",
   "mimetype": "text/x-python",
   "name": "python",
   "nbconvert_exporter": "python",
   "pygments_lexer": "ipython3",
   "version": "3.9.18"
  }
 },
 "nbformat": 4,
 "nbformat_minor": 2
}
